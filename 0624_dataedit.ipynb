{
 "cells": [
  {
   "cell_type": "markdown",
   "metadata": {},
   "source": [
    "NGRLの観測モデルから取り出した遷移結果から静的NW用のpydataを作成"
   ]
  },
  {
   "cell_type": "code",
   "execution_count": 2,
   "metadata": {},
   "outputs": [],
   "source": [
    "import pandas as pd \n",
    "import numpy as np \n",
    "import os \n"
   ]
  },
  {
   "cell_type": "code",
   "execution_count": 7,
   "metadata": {},
   "outputs": [
    {
     "name": "stdout",
     "output_type": "stream",
     "text": [
      "name 2325589\n",
      "name 2316768\n",
      "name 2311486\n",
      "name 2311225\n",
      "name 2302418\n",
      "name 2301450\n",
      "name 2309914\n",
      "name 2322724\n",
      "name 2315385\n",
      "name 231452\n",
      "name 2320551\n",
      "name 2316756\n",
      "name 2305863\n",
      "name 2314531\n",
      "name 2302421\n",
      "name 2325566\n",
      "name 231129\n",
      "name 2317190\n",
      "name 2318419\n",
      "name 2314595\n",
      "name 2318433\n",
      "name 2305828\n",
      "name 2314592\n",
      "name 2317182\n",
      "name 2320537\n",
      "name 2308767\n",
      "name 2311435\n",
      "name 231820\n",
      "name 2317142\n",
      "name 2322740\n",
      "name 2307180\n",
      "name 231821\n",
      "name 2318265\n",
      "name 2322759\n",
      "name 2309997\n",
      "name 2317652\n",
      "name 2309554\n",
      "name 232285\n",
      "name 2301541\n",
      "name 2301596\n",
      "name 2322788\n",
      "name 2318276\n",
      "name 2314515\n",
      "name 2323694\n",
      "name 2325943\n",
      "name 2309922\n",
      "name 2318472\n",
      "name 231458\n",
      "name 2307110\n",
      "name 2311471\n",
      "name 2314516\n",
      "name 2307112\n",
      "name 2301532\n",
      "name 2323655\n",
      "name 2323645\n",
      "name 2310873\n",
      "name 2304036\n"
     ]
    },
    {
     "name": "stderr",
     "output_type": "stream",
     "text": [
      "/var/folders/1p/_62pxgbn5kg837b06pfnvkdw0000gn/T/ipykernel_42654/290704724.py:15: DeprecationWarning: The truth value of an empty array is ambiguous. Returning False, but in future this will result in an error. Use `array.size > 0` to check that an array is not empty.\n",
      "  if not previous_values:\n"
     ]
    },
    {
     "name": "stdout",
     "output_type": "stream",
     "text": [
      "name 2318229\n",
      "name 2323644\n",
      "name 2308727\n",
      "name 2315348\n",
      "name 2301534\n",
      "name 232366\n",
      "name 2314539\n",
      "      userid    k    a    d\n",
      "0    2325589  745  706  702\n",
      "1    2325589  706  709  702\n",
      "2    2325589  709  702  702\n",
      "3    2316768  221  222  742\n",
      "4    2316768  222  710  742\n",
      "..       ...  ...  ...  ...\n",
      "316  2301534   10   11   11\n",
      "317   232366    8  743  750\n",
      "318   232366  743  742  750\n",
      "319   232366  742  750  750\n",
      "320  2314539  744  751  751\n",
      "\n",
      "[321 rows x 4 columns]\n"
     ]
    }
   ],
   "source": [
    "# 753が出てきたら終わり\n",
    "# 同じk aの組が出てきたらカウントしない\n",
    "folder_path = '/Users/takahiromatsunaga/res2023/PPcameraTG/PP/PP_gps/transit_result_0622'\n",
    "file_list = os.listdir(folder_path)\n",
    "df_res = pd.DataFrame(columns=['userid', 'k', 'a', 'd'])\n",
    "for file_name in file_list:\n",
    "    name = file_name.split('.')[0]\n",
    "    name = int(name.replace('_', '')) # .astype(int)\n",
    "    print('name', name)\n",
    "\n",
    "    dfi = pd.read_csv(os.path.join(folder_path, file_name))\n",
    "    userid = dfi.loc[0, 'userid']\n",
    "    # a_list = dfi['a']\n",
    "    previous_values = dfi['a'][dfi['a'].shift(-1) == 753][dfi['a'] != 753].values\n",
    "    if not previous_values:\n",
    "        continue\n",
    "    previous_value = previous_values[0]\n",
    "    # print(f'userid={userid}, previous_value={previous_value}')\n",
    "    for i in range(len(dfi)-1):\n",
    "        k = dfi.loc[i, 'k']\n",
    "        a = dfi.loc[i, 'a']\n",
    "        kk = dfi.loc[i+1, 'k']\n",
    "        aa = dfi.loc[i+1, 'a']\n",
    "        if a != 753:\n",
    "            if k == kk and a == aa:\n",
    "                continue \n",
    "            elif k == a:\n",
    "                continue\n",
    "            else:       \n",
    "                new_row = {'userid': name, 'k': k, 'a': a, 'd': previous_value} \n",
    "                new_row_df = pd.DataFrame([new_row])\n",
    "                df_res = pd.concat([df_res, new_row_df], ignore_index=True)\n",
    "\n",
    "print(df_res)\n",
    "df_res.to_csv('/Users/takahiromatsunaga/res2023/PPcameraTG/PP/PP_gps/transit_result.csv')\n"
   ]
  },
  {
   "cell_type": "code",
   "execution_count": null,
   "metadata": {},
   "outputs": [],
   "source": []
  }
 ],
 "metadata": {
  "kernelspec": {
   "display_name": "base",
   "language": "python",
   "name": "python3"
  },
  "language_info": {
   "codemirror_mode": {
    "name": "ipython",
    "version": 3
   },
   "file_extension": ".py",
   "mimetype": "text/x-python",
   "name": "python",
   "nbconvert_exporter": "python",
   "pygments_lexer": "ipython3",
   "version": "3.9.7"
  }
 },
 "nbformat": 4,
 "nbformat_minor": 2
}
