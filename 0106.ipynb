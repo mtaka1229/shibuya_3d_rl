{
 "cells": [
  {
   "cell_type": "code",
   "execution_count": 27,
   "metadata": {},
   "outputs": [
    {
     "name": "stdout",
     "output_type": "stream",
     "text": [
      "[[[ 1  0  0]\n",
      "  [ 0  0  0]\n",
      "  [ 0 55  0]]\n",
      "\n",
      " [[ 9  8  4]\n",
      "  [ 4  8  7]\n",
      "  [30  6 22]]]\n"
     ]
    }
   ],
   "source": [
    "import numpy as np \n",
    "c = np.array([[[1, 0, 0], [0, 0, 0], [0, 55, 0]], [[9, 8, 4], [4, 8, 7], [30, 6, 22]]])\n",
    "\n",
    "print(c)"
   ]
  },
  {
   "cell_type": "code",
   "execution_count": 28,
   "metadata": {},
   "outputs": [
    {
     "name": "stdout",
     "output_type": "stream",
     "text": [
      "(2, 3, 3)\n"
     ]
    }
   ],
   "source": [
    "print(c.shape)"
   ]
  },
  {
   "cell_type": "code",
   "execution_count": 29,
   "metadata": {},
   "outputs": [
    {
     "name": "stdout",
     "output_type": "stream",
     "text": [
      "2\n"
     ]
    }
   ],
   "source": [
    "print(c.shape[0])"
   ]
  },
  {
   "cell_type": "code",
   "execution_count": 30,
   "metadata": {},
   "outputs": [
    {
     "name": "stdout",
     "output_type": "stream",
     "text": [
      "[[ 1  0  0]\n",
      " [ 0  0  0]\n",
      " [ 0 55  0]]\n",
      "(3, 3)\n",
      "3\n"
     ]
    }
   ],
   "source": [
    "TL_slice = c[0, :, :]\n",
    "\n",
    "print(TL_slice)\n",
    "print(TL_slice.shape)\n",
    "\n",
    "print(TL_slice.shape[0]) # shapeは形状を返すメソッドなので形状の情報が入手できる\n"
   ]
  },
  {
   "cell_type": "code",
   "execution_count": 25,
   "metadata": {},
   "outputs": [
    {
     "name": "stdout",
     "output_type": "stream",
     "text": [
      "lは0\n",
      "rowは[1 0 0]\n",
      "lは1\n",
      "rowは[0 0 0]\n",
      "lは2\n",
      "rowは[ 0 55  0]\n",
      "last_linkは[0, 2]\n"
     ]
    }
   ],
   "source": [
    "### これだと，行の中に非零成分が含まれるような行のindexを取得するコードになってる\n",
    "last_link = []\n",
    "\n",
    "for l in range((TL_slice).shape[0]): #  shape0が行数，shape1が列数に対応すると考えるとスムーズか\n",
    "    print(f'lは{l}')\n",
    "    row = TL_slice[l, :]\n",
    "    print(f'rowは{row}')\n",
    "    if np.any(row != 0):\n",
    "        last_link.append(l)\n",
    "\n",
    "print(f'last_linkは{last_link}')"
   ]
  },
  {
   "cell_type": "code",
   "execution_count": 26,
   "metadata": {},
   "outputs": [
    {
     "name": "stdout",
     "output_type": "stream",
     "text": [
      "lは0\n",
      "colは[1 0 0]\n",
      "lは1\n",
      "colは[ 0  0 55]\n",
      "lは2\n",
      "colは[0 0 0]\n",
      "last_link2は[0, 1]\n"
     ]
    }
   ],
   "source": [
    "### 各列を見て，1つでも非零な成分があるような列を取得したい\n",
    "last_link2 = []\n",
    "\n",
    "for l in range((TL_slice).shape[1]): # 列で見たいので，shape[1]で．\n",
    "    print(f'lは{l}')\n",
    "    col = TL_slice[:, l]\n",
    "    print(f'colは{col}')\n",
    "    if np.any(col != 0):\n",
    "        last_link2.append(l)\n",
    "\n",
    "print(f'last_link2は{last_link2}')"
   ]
  },
  {
   "cell_type": "code",
   "execution_count": 33,
   "metadata": {},
   "outputs": [
    {
     "name": "stdout",
     "output_type": "stream",
     "text": [
      "T=2\n",
      "いやん\n",
      "あっハーン\n"
     ]
    }
   ],
   "source": [
    "import numpy as np\n",
    "\n",
    "# TLmatrixが仮想的な3次元NumPy配列として定義されていると仮定します\n",
    "# 以下はサンプルコードですので、実際のTLmatrixに合わせて修正してください\n",
    "c = np.array([[[0, 0, 0], [0, 0, 0], [0, 0, 0]], [[9, 8, 4], [4, 8, 7], [30, 6, 22]]])\n",
    "\n",
    "# TLmatrixを定義（仮定）\n",
    "T = c.shape[0]  # Tのサイズ（適宜変更してください）\n",
    "print(f'T={T}')\n",
    "#L = 4  # Lのサイズ（適宜変更してください）\n",
    "#TLmatrix = np.zeros((T, L, L))  # 仮のゼロ行列を生成（適宜変更してください）\n",
    "\n",
    "# 各tに対して、TLmatrix[t, :, :]が零行列かどうかを調べる\n",
    "found_zero_matrix = False\n",
    "for t in range(T):\n",
    "    if np.all(c[t, :, :] == 0): # ここの0は零行列のことのはず\n",
    "        print('いやん')\n",
    "        found_zero_matrix = True\n",
    "        break  # 零行列が見つかったらループを抜ける\n",
    "print('あっハーン')\n",
    "if not found_zero_matrix:\n",
    "    print('すべての行列は零行列ではありません')\n"
   ]
  },
  {
   "cell_type": "code",
   "execution_count": 1,
   "metadata": {},
   "outputs": [
    {
     "data": {
      "image/png": "[encoded data removed]",
      "text/plain": [
       "<Figure size 576x576 with 2 Axes>"
      ]
     },
     "metadata": {
      "needs_background": "light"
     },
     "output_type": "display_data"
    }
   ],
   "source": [
    "import numpy as np\n",
    "import matplotlib.pyplot as plt\n",
    "\n",
    "# 定数の定義\n",
    "a, b = 0, 0  # 円の中心\n",
    "r = 5        # 半径\n",
    "sigma = 1    # 正規分布の標準偏差\n",
    "\n",
    "# 正規化定数Cを計算する関数\n",
    "def compute_normalization_constant(r, sigma):\n",
    "    C = (2 * np.pi * sigma**2 * (1 - np.exp(-r**2 / (2 * sigma**2))))**-1\n",
    "    return C\n",
    "\n",
    "# 確率密度関数f(x, y)を計算する関数\n",
    "def probability_density_function(x, y, a, b, sigma, C):\n",
    "    d = np.sqrt((x - a)**2 + (y - b)**2)\n",
    "    if d > r:\n",
    "        return 0\n",
    "    return C * (1 / (sigma * np.sqrt(2 * np.pi))) * np.exp(-d**2 / (2 * sigma**2))\n",
    "\n",
    "# 正規化定数を計算\n",
    "C = compute_normalization_constant(r, sigma)\n",
    "\n",
    "# グリッドの作成\n",
    "x = np.linspace(a - r, a + r, 500)\n",
    "y = np.linspace(b - r, b + r, 500)\n",
    "X, Y = np.meshgrid(x, y)\n",
    "Z = np.vectorize(lambda x, y: probability_density_function(x, y, a, b, sigma, C))(X, Y)\n",
    "\n",
    "# プロット\n",
    "plt.figure(figsize=(8, 8))\n",
    "plt.contourf(X, Y, Z, levels=100, cmap='viridis')\n",
    "plt.colorbar(label='Probability Density')\n",
    "plt.xlabel('x')\n",
    "plt.ylabel('y')\n",
    "plt.title('Probability Density Function on a Disk')\n",
    "plt.gca().set_aspect('equal', adjustable='box')\n",
    "plt.show()\n"
   ]
  },
  {
   "cell_type": "code",
   "execution_count": 1,
   "metadata": {},
   "outputs": [
    {
     "name": "stdout",
     "output_type": "stream",
     "text": [
      "積分結果: 0.0, 誤差: 1.843080695007604e-09\n"
     ]
    },
    {
     "data": {
      "image/png": "[encoded data removed]",
      "text/plain": [
       "<Figure size 576x576 with 2 Axes>"
      ]
     },
     "metadata": {
      "needs_background": "light"
     },
     "output_type": "display_data"
    }
   ],
   "source": [
    "import numpy as np\n",
    "import matplotlib.pyplot as plt\n",
    "from scipy.integrate import dblquad\n",
    "\n",
    "# 定数の定義\n",
    "a, b = 0, 0  # 円の中心\n",
    "r = 5        # 半径\n",
    "sigma = 1    # 正規分布の標準偏差\n",
    "\n",
    "# 正規化定数Cを計算する関数\n",
    "def compute_normalization_constant(r, sigma):\n",
    "    C = (2 * np.pi * sigma**2 * (1 - np.exp(-r**2 / (2 * sigma**2))))**-1\n",
    "    return C\n",
    "\n",
    "# 確率密度関数f(x, y)を計算する関数\n",
    "def probability_density_function(x, y, a, b, sigma, C):\n",
    "    d = np.sqrt((x - a)**2 + (y - b)**2)\n",
    "    if d > r:\n",
    "        return 0\n",
    "    return C * (1 / (sigma * np.sqrt(2 * np.pi))) * np.exp(-d**2 / (2 * sigma**2))\n",
    "\n",
    "# 任意の関数g(x, y)を定義\n",
    "def g(x, y):\n",
    "    # ここにg(x, y)の定義を記述\n",
    "    return x + y  # 例として単純な線形関数を使用\n",
    "\n",
    "# 正規化定数を計算\n",
    "C = compute_normalization_constant(r, sigma)\n",
    "\n",
    "# 積分する関数を定義\n",
    "def integrand(x, y, a, b, sigma, C):\n",
    "    return g(x, y) * probability_density_function(x, y, a, b, sigma, C)\n",
    "\n",
    "# 数値積分を実行\n",
    "result, error = dblquad(lambda x, y: integrand(x, y, a, b, sigma, C),\n",
    "                        b - r, b + r,  # yの範囲\n",
    "                        lambda y: a - np.sqrt(r**2 - (y - b)**2),  # xの下限\n",
    "                        lambda y: a + np.sqrt(r**2 - (y - b)**2))  # xの上限\n",
    "\n",
    "print(f\"積分結果: {result}, 誤差: {error}\")\n",
    "\n",
    "# グリッドの作成\n",
    "x = np.linspace(a - r, a + r, 500)\n",
    "y = np.linspace(b - r, b + r, 500)\n",
    "X, Y = np.meshgrid(x, y)\n",
    "Z = np.vectorize(lambda x, y: probability_density_function(x, y, a, b, sigma, C) * g(x, y))(X, Y)\n",
    "\n",
    "# プロット\n",
    "plt.figure(figsize=(8, 8))\n",
    "plt.contourf(X, Y, Z, levels=100, cmap='viridis')\n",
    "plt.colorbar(label='g(x, y) * Probability Density')\n",
    "plt.xlabel('x')\n",
    "plt.ylabel('y')\n",
    "plt.title('Weighted Probability Density Function on a Disk')\n",
    "plt.gca().set_aspect('equal', adjustable='box')\n",
    "plt.show()\n"
   ]
  },
  {
   "cell_type": "code",
   "execution_count": null,
   "metadata": {},
   "outputs": [],
   "source": []
  }
 ],
 "metadata": {
  "kernelspec": {
   "display_name": "base",
   "language": "python",
   "name": "python3"
  },
  "language_info": {
   "codemirror_mode": {
    "name": "ipython",
    "version": 3
   },
   "file_extension": ".py",
   "mimetype": "text/x-python",
   "name": "python",
   "nbconvert_exporter": "python",
   "pygments_lexer": "ipython3",
   "version": "3.9.7"
  }
 },
 "nbformat": 4,
 "nbformat_minor": 2
}
