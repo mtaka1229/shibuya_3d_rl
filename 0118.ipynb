{
 "cells": [
  {
   "cell_type": "code",
   "execution_count": 2,
   "metadata": {},
   "outputs": [
    {
     "name": "stdout",
     "output_type": "stream",
     "text": [
      "[-3.   1.5  1. ]\n"
     ]
    }
   ],
   "source": [
    "import numpy as np \n",
    "set_no = 1\n",
    "ture_set = np.array([[-3, 1.5, 1], [-5, 5, 1], [-1, -1, 1]]) # CC, DC, beta\n",
    "assumed_x = ture_set[set_no-1] # np.array((-2.5, 1.5, 1)) # CC, DC, beta\n",
    "\n",
    "print(assumed_x)"
   ]
  },
  {
   "cell_type": "code",
   "execution_count": 1,
   "metadata": {},
   "outputs": [
    {
     "name": "stdout",
     "output_type": "stream",
     "text": [
      "2023-01-30 08:39:24.498260+09:00\n"
     ]
    }
   ],
   "source": [
    "from datetime import datetime, timedelta, timezone\n",
    "\n",
    "day_stamp = '20230130_08'\n",
    "\n",
    "# 日付文字列をdatetime型に変換\n",
    "dt = datetime.strptime(day_stamp, '%Y%m%d_%H')\n",
    "\n",
    "# 分と秒を追加\n",
    "dt = dt + timedelta(minutes=39, seconds=24.498260)\n",
    "\n",
    "# タイムゾーンを追加（日本の場合は+09:00）\n",
    "dt_with_timezone = dt.replace(tzinfo=timezone(timedelta(hours=9)))\n",
    "\n",
    "print(dt_with_timezone)\n"
   ]
  },
  {
   "cell_type": "code",
   "execution_count": 3,
   "metadata": {},
   "outputs": [
    {
     "name": "stdout",
     "output_type": "stream",
     "text": [
      "2023-01-30 08:30:18\n"
     ]
    }
   ],
   "source": [
    "from datetime import datetime, timedelta\n",
    "\n",
    "# 例として、base_timeを2023-01-30 08:00:00に設定\n",
    "base_time = datetime(2023, 1, 30, 8, 30, 0)\n",
    "\n",
    "# ts_secondの計算（ここでは仮の値を使用）\n",
    "ts = 2  # 例としてtsを5とします\n",
    "ts_second = 18 * (ts - 1)  # 秒\n",
    "\n",
    "# 秒を分と秒に変換\n",
    "ts_minutes, ts_seconds = divmod(ts_second, 60)\n",
    "\n",
    "# timedeltaを使ってbase_timeに加算\n",
    "ts_time = base_time + timedelta(minutes=ts_minutes, seconds=ts_seconds)\n",
    "\n",
    "print(ts_time)\n"
   ]
  },
  {
   "cell_type": "code",
   "execution_count": 5,
   "metadata": {},
   "outputs": [
    {
     "name": "stdout",
     "output_type": "stream",
     "text": [
      "3\n"
     ]
    }
   ],
   "source": [
    "import numpy as np\n",
    "\n",
    "# 仮のデータとして、d_arrayを生成\n",
    "d_array = np.array([[1, 3, 5], [2, 4, 1], [6, 8, 7]])\n",
    "a = 2  # 例としてaを1とします\n",
    "\n",
    "# beacon_dist_from_aにa行目を抜き出した行ベクトルを代入\n",
    "beacon_dist_from_a = d_array[a-1, :]\n",
    "\n",
    "# 最小値の列番号を取得（1を足してidに変換）\n",
    "nearest_beacon = np.argmin(beacon_dist_from_a) + 1\n",
    "\n",
    "print(nearest_beacon)\n"
   ]
  },
  {
   "cell_type": "code",
   "execution_count": 6,
   "metadata": {},
   "outputs": [
    {
     "name": "stdout",
     "output_type": "stream",
     "text": [
      "[3 5 6]\n",
      "[2 1]\n"
     ]
    }
   ],
   "source": [
    "import numpy as np \n",
    "x = np.array((3, 5, 6, 2, 1))\n",
    "model_dim = 3\n",
    "\n",
    "theta = x[:model_dim]\n",
    "sigma = x[model_dim:]\n",
    "\n",
    "print(theta)\n",
    "print(sigma)"
   ]
  },
  {
   "cell_type": "code",
   "execution_count": 7,
   "metadata": {},
   "outputs": [
    {
     "name": "stdout",
     "output_type": "stream",
     "text": [
      "[-10.   1.   2.   5.]\n"
     ]
    }
   ],
   "source": [
    "theta_dim = 2\n",
    "sigma_dim = 2\n",
    "length_init = -10\n",
    "beta_init = 1\n",
    "\n",
    "theta_init = np.zeros(theta_dim)\n",
    "theta_init[0] = length_init\n",
    "theta_init[-1] = beta_init\n",
    "\n",
    "sigma_init = np.ones(sigma_dim)\n",
    "sigma_init[0] = 2\n",
    "sigma_init[1] = 5\n",
    "\n",
    "x_init = np.hstack((theta_init, sigma_init))\n",
    "\n",
    "print(x_init)"
   ]
  },
  {
   "cell_type": "code",
   "execution_count": 8,
   "metadata": {},
   "outputs": [
    {
     "name": "stdout",
     "output_type": "stream",
     "text": [
      "15\n"
     ]
    }
   ],
   "source": [
    "result = 31 // 2\n",
    "print(result)\n"
   ]
  },
  {
   "cell_type": "code",
   "execution_count": 9,
   "metadata": {},
   "outputs": [
    {
     "name": "stdout",
     "output_type": "stream",
     "text": [
      "15\n"
     ]
    }
   ],
   "source": [
    "result = 30 // 2\n",
    "print(result)\n"
   ]
  },
  {
   "cell_type": "code",
   "execution_count": 10,
   "metadata": {},
   "outputs": [],
   "source": [
    "import numpy as np \n",
    "xdim = 2\n",
    "bdim = 1 + 35 # ホーム，改札，階段\n",
    "\n",
    "x_init = np.zeros(xdim)\n",
    "b_init = np.ones(bdim)\n",
    "b_init[0] = 2\n",
    "b_init[1:] = 5"
   ]
  },
  {
   "cell_type": "code",
   "execution_count": 11,
   "metadata": {},
   "outputs": [
    {
     "name": "stdout",
     "output_type": "stream",
     "text": [
      "[2. 5. 5. 5. 5. 5. 5. 5. 5. 5. 5. 5. 5. 5. 5. 5. 5. 5. 5. 5. 5. 5. 5. 5.\n",
      " 5. 5. 5. 5. 5. 5. 5. 5. 5. 5. 5. 5.]\n"
     ]
    }
   ],
   "source": [
    "print(b_init)"
   ]
  },
  {
   "cell_type": "code",
   "execution_count": 13,
   "metadata": {},
   "outputs": [
    {
     "data": {
      "text/plain": [
       "36"
      ]
     },
     "execution_count": 13,
     "metadata": {},
     "output_type": "execute_result"
    }
   ],
   "source": [
    "len(b_init)"
   ]
  },
  {
   "cell_type": "code",
   "execution_count": 15,
   "metadata": {},
   "outputs": [
    {
     "name": "stdout",
     "output_type": "stream",
     "text": [
      "[(2, 2.001), (5, 30), (5, 30), (5, 30), (5, 30), (5, 30), (5, 30), (5, 30), (5, 30), (5, 30), (5, 30), (5, 30), (5, 30), (5, 30), (5, 30), (5, 30), (5, 30), (5, 30), (5, 30), (5, 5), (5, 5), (5, 5), (5, 5), (5, 5), (5, 30), (5, 30), (5, 30), (5, 30), (5, 30), (5, 30), (5, 30), (5, 30), (5, 30), (5, 30), (5, 30), (5, 30)]\n"
     ]
    }
   ],
   "source": [
    "bbounds = [(2, 2.001)] + [(5, 30)] * 35 # 最初の項は減衰定数，続く35要素は各リンクの誤差分散の探索範囲 #(a - 1) + [(20, 20)] #, (5, 20), (5, 20), (5, 20)]\n",
    "## 南改札のところだけ探索範囲を絞る\n",
    "## 南改札関連リンクは・・全列挙\n",
    "minami_links = [19, 20, 21, 22, 23]\n",
    "# bbounds[i for i in minami_links] = (5, 5) ## これダメ\n",
    "\n",
    "for i in minami_links:\n",
    "    bbounds[i] = (5, 5)\n",
    "\n",
    "print(bbounds)"
   ]
  },
  {
   "cell_type": "code",
   "execution_count": 2,
   "metadata": {},
   "outputs": [
    {
     "data": {
      "image/png": "[encoded data removed]",
      "text/plain": [
       "<Figure size 432x288 with 1 Axes>"
      ]
     },
     "metadata": {
      "needs_background": "light"
     },
     "output_type": "display_data"
    }
   ],
   "source": [
    "import numpy as np \n",
    "import matplotlib.pyplot as plt \n",
    "\n",
    "CEe = np.array([1417.424497966133, 1415.8578745749446, 1414.1764479929154, 1414.391383260222, 1412.9645214826107, 1410.1909241864737, 1407.459922353375, 1404.530433321329, 1401.700037424632, 1397.6755107361469, 1393.9975860253887, 1389.81996101956, 1384.5758335730998, 1378.2012147565345, 1374.3889799874628, 1368.3223323260183, 1361.2455515416113, 1357.1212643234874, 1350.9733932680576, 1344.9943132841947, 1338.436802610916, 1332.0858423719867, 1327.9099182078191, 1322.3430998804522, 1316.6772468664271, 1311.1259452112456, 1305.7133751631718, 1300.435988112495, 1294.6750696603356, 1289.2889386145196, 1283.9164867834925, 1278.824244822342, 1273.4525157722792, 1268.9115970116434, 1264.266040585683, 1260.5400372703475, 1255.7953998590503, 1250.9584091494896, 1246.388649198975, 1241.4331376467317, 1236.7706639099954, 1232.775031027446, 1227.9611144952385, 1223.4617002375198, 1219.0201937270472, 1214.6504203491322, 1210.1860349931267, 1205.5813710580048, 1201.4462216670502, 1197.1777785153756, 1192.8629594507058, 1189.0580057210966, 1184.731557254256, 1180.366139255925, 1176.8627234397504, 1173.041107641576, 1169.2764929204475, 1166.5703867504421, 1163.7219412760098, 1160.467046448045, 1157.4744272319413, 1154.861437791193, 1151.949903472739, 1149.8436922421988, 1146.9926117143302, 1144.4979556487583, 1142.377705159109, 1139.8969349696101, 1137.8391286886706, 1135.3017984020082, 1133.0065689541686, 1130.9747440550962, 1128.8158747735347, 1127.0219862999988, 1125.655459948567, 1124.30968449307, 1122.7803337288428, 1121.2027294198797, 1119.8836064185568, 1118.3400465192858, 1116.7095216095918, 1115.4050367889802, 1113.8235161474527, 1112.658406831229, 1111.9176003324365, 1110.1277276218698, 1108.72451096638, 1107.5439507712406, 1106.238262381748, 1105.466607411734, 1104.4198797024249, 1103.1362125828691, 1102.0664559501602, 1101.2002980480718, 1100.2337712318633, 1099.1988841235027, 1098.402421682935, 1097.6356447830722, 1096.4519173577485, 1095.2653210358906, 1094.426684658413, 1093.401512708077, 1092.6654541882383, 1091.7666588927357, 1090.8438527289165, 1090.0018822494392, 1089.149333051418, 1088.5933318148511, 1088.1980414783077, 1087.6134293748623, 1087.1776086664079, 1086.6118870771088, 1086.0460505967976, 1085.6275069770436, 1084.8799208409926, 1084.2214940206575, 1083.5675876000964, 1082.9215763233594, 1082.7621408211328, 1082.5637352113222])\n",
    "b_values = np.linspace(2, 40, 120)\n",
    "\n",
    "plt.plot(b_values, CEe)\n",
    "plt.xlabel('b_values')\n",
    "plt.ylabel('CEe')\n",
    "plt.grid(True)\n",
    "plt.show()"
   ]
  },
  {
   "cell_type": "code",
   "execution_count": 3,
   "metadata": {},
   "outputs": [
    {
     "name": "stderr",
     "output_type": "stream",
     "text": [
      "/Users/takahiromatsunaga/opt/anaconda3/lib/python3.9/site-packages/matplotlib/backends/backend_agg.py:240: RuntimeWarning: Glyph 12398 missing from current font.\n",
      "  font.set_text(s, 0.0, flags=flags)\n",
      "/Users/takahiromatsunaga/opt/anaconda3/lib/python3.9/site-packages/matplotlib/backends/backend_agg.py:240: RuntimeWarning: Glyph 21508 missing from current font.\n",
      "  font.set_text(s, 0.0, flags=flags)\n",
      "/Users/takahiromatsunaga/opt/anaconda3/lib/python3.9/site-packages/matplotlib/backends/backend_agg.py:240: RuntimeWarning: Glyph 35201 missing from current font.\n",
      "  font.set_text(s, 0.0, flags=flags)\n",
      "/Users/takahiromatsunaga/opt/anaconda3/lib/python3.9/site-packages/matplotlib/backends/backend_agg.py:240: RuntimeWarning: Glyph 32032 missing from current font.\n",
      "  font.set_text(s, 0.0, flags=flags)\n",
      "/Users/takahiromatsunaga/opt/anaconda3/lib/python3.9/site-packages/matplotlib/backends/backend_agg.py:240: RuntimeWarning: Glyph 38971 missing from current font.\n",
      "  font.set_text(s, 0.0, flags=flags)\n",
      "/Users/takahiromatsunaga/opt/anaconda3/lib/python3.9/site-packages/matplotlib/backends/backend_agg.py:240: RuntimeWarning: Glyph 24230 missing from current font.\n",
      "  font.set_text(s, 0.0, flags=flags)\n",
      "/Users/takahiromatsunaga/opt/anaconda3/lib/python3.9/site-packages/matplotlib/backends/backend_agg.py:203: RuntimeWarning: Glyph 12398 missing from current font.\n",
      "  font.set_text(s, 0, flags=flags)\n",
      "/Users/takahiromatsunaga/opt/anaconda3/lib/python3.9/site-packages/matplotlib/backends/backend_agg.py:203: RuntimeWarning: Glyph 35201 missing from current font.\n",
      "  font.set_text(s, 0, flags=flags)\n",
      "/Users/takahiromatsunaga/opt/anaconda3/lib/python3.9/site-packages/matplotlib/backends/backend_agg.py:203: RuntimeWarning: Glyph 32032 missing from current font.\n",
      "  font.set_text(s, 0, flags=flags)\n",
      "/Users/takahiromatsunaga/opt/anaconda3/lib/python3.9/site-packages/matplotlib/backends/backend_agg.py:203: RuntimeWarning: Glyph 38971 missing from current font.\n",
      "  font.set_text(s, 0, flags=flags)\n",
      "/Users/takahiromatsunaga/opt/anaconda3/lib/python3.9/site-packages/matplotlib/backends/backend_agg.py:203: RuntimeWarning: Glyph 24230 missing from current font.\n",
      "  font.set_text(s, 0, flags=flags)\n",
      "/Users/takahiromatsunaga/opt/anaconda3/lib/python3.9/site-packages/matplotlib/backends/backend_agg.py:203: RuntimeWarning: Glyph 21508 missing from current font.\n",
      "  font.set_text(s, 0, flags=flags)\n"
     ]
    },
    {
     "data": {
      "image/png": "[encoded data removed]",
      "text/plain": [
       "<Figure size 720x432 with 1 Axes>"
      ]
     },
     "metadata": {
      "needs_background": "light"
     },
     "output_type": "display_data"
    }
   ],
   "source": [
    "import pandas as pd\n",
    "import matplotlib.pyplot as plt\n",
    "\n",
    "# サンプルデータを作成\n",
    "data = {'userid': [1, 2, 3, 4, 5],\n",
    "        'o': ['A', 'B', 'A', 'C', 'B'],\n",
    "        'd': ['X', 'Y', 'X', 'Z', 'Y'],\n",
    "        'abs': [10, 20, 15, 25, 30],\n",
    "        'Ti': [5, 8, 5, 10, 8]}\n",
    "\n",
    "df = pd.DataFrame(data)\n",
    "\n",
    "# Tiの各要素の頻度を計算\n",
    "ti_counts = df['Ti'].value_counts()\n",
    "\n",
    "# 棒グラフを描画\n",
    "ti_counts.plot(kind='bar', figsize=(10, 6), color='skyblue', edgecolor='black')\n",
    "\n",
    "# グラフのタイトルと軸ラベルを追加\n",
    "plt.title('Tiの各要素の頻度')\n",
    "plt.xlabel('Tiの要素')\n",
    "plt.ylabel('頻度')\n",
    "\n",
    "# グラフを表示\n",
    "plt.show()\n"
   ]
  },
  {
   "cell_type": "code",
   "execution_count": 4,
   "metadata": {},
   "outputs": [
    {
     "ename": "AttributeError",
     "evalue": "module 'matplotlib.pyplot' has no attribute 'PercentFormatter'",
     "output_type": "error",
     "traceback": [
      "\u001b[0;31m---------------------------------------------------------------------------\u001b[0m",
      "\u001b[0;31mAttributeError\u001b[0m                            Traceback (most recent call last)",
      "\u001b[0;32m/var/folders/1p/_62pxgbn5kg837b06pfnvkdw0000gn/T/ipykernel_10121/736237867.py\u001b[0m in \u001b[0;36m<module>\u001b[0;34m\u001b[0m\n\u001b[1;32m     23\u001b[0m \u001b[0;34m\u001b[0m\u001b[0m\n\u001b[1;32m     24\u001b[0m \u001b[0;31m# y軸をパーセント表示に設定\u001b[0m\u001b[0;34m\u001b[0m\u001b[0;34m\u001b[0m\u001b[0m\n\u001b[0;32m---> 25\u001b[0;31m \u001b[0mplt\u001b[0m\u001b[0;34m.\u001b[0m\u001b[0mgca\u001b[0m\u001b[0;34m(\u001b[0m\u001b[0;34m)\u001b[0m\u001b[0;34m.\u001b[0m\u001b[0myaxis\u001b[0m\u001b[0;34m.\u001b[0m\u001b[0mset_major_formatter\u001b[0m\u001b[0;34m(\u001b[0m\u001b[0mplt\u001b[0m\u001b[0;34m.\u001b[0m\u001b[0mPercentFormatter\u001b[0m\u001b[0;34m(\u001b[0m\u001b[0;34m)\u001b[0m\u001b[0;34m)\u001b[0m\u001b[0;34m\u001b[0m\u001b[0;34m\u001b[0m\u001b[0m\n\u001b[0m\u001b[1;32m     26\u001b[0m \u001b[0;34m\u001b[0m\u001b[0m\n\u001b[1;32m     27\u001b[0m \u001b[0;31m# グラフを表示\u001b[0m\u001b[0;34m\u001b[0m\u001b[0;34m\u001b[0m\u001b[0m\n",
      "\u001b[0;31mAttributeError\u001b[0m: module 'matplotlib.pyplot' has no attribute 'PercentFormatter'"
     ]
    },
    {
     "name": "stderr",
     "output_type": "stream",
     "text": [
      "/Users/takahiromatsunaga/opt/anaconda3/lib/python3.9/site-packages/matplotlib/backends/backend_agg.py:240: RuntimeWarning: Glyph 21106 missing from current font.\n",
      "  font.set_text(s, 0.0, flags=flags)\n",
      "/Users/takahiromatsunaga/opt/anaconda3/lib/python3.9/site-packages/matplotlib/backends/backend_agg.py:240: RuntimeWarning: Glyph 21512 missing from current font.\n",
      "  font.set_text(s, 0.0, flags=flags)\n",
      "/Users/takahiromatsunaga/opt/anaconda3/lib/python3.9/site-packages/matplotlib/backends/backend_agg.py:203: RuntimeWarning: Glyph 21106 missing from current font.\n",
      "  font.set_text(s, 0, flags=flags)\n",
      "/Users/takahiromatsunaga/opt/anaconda3/lib/python3.9/site-packages/matplotlib/backends/backend_agg.py:203: RuntimeWarning: Glyph 21512 missing from current font.\n",
      "  font.set_text(s, 0, flags=flags)\n"
     ]
    },
    {
     "data": {
      "image/png": "[encoded data removed]",
      "text/plain": [
       "<Figure size 720x432 with 1 Axes>"
      ]
     },
     "metadata": {
      "needs_background": "light"
     },
     "output_type": "display_data"
    }
   ],
   "source": [
    "import pandas as pd\n",
    "import matplotlib.pyplot as plt\n",
    "\n",
    "# サンプルデータを作成\n",
    "data = {'userid': [1, 2, 3, 4, 5],\n",
    "        'o': ['A', 'B', 'A', 'C', 'B'],\n",
    "        'd': ['X', 'Y', 'X', 'Z', 'Y'],\n",
    "        'abs': [10, 20, 15, 25, 30],\n",
    "        'Ti': [5, 8, 5, 10, 8]}\n",
    "\n",
    "df = pd.DataFrame(data)\n",
    "\n",
    "# Tiの各要素の割合を計算\n",
    "ti_percentage = df['Ti'] / df['Ti'].sum() * 100\n",
    "\n",
    "# 棒グラフを描画\n",
    "ti_percentage.plot(kind='bar', figsize=(10, 6), color='skyblue', edgecolor='black')\n",
    "\n",
    "# グラフのタイトルと軸ラベルを追加\n",
    "plt.title('Tiの各要素の割合')\n",
    "plt.xlabel('Tiの要素')\n",
    "plt.ylabel('割合 (%)')\n",
    "\n",
    "# y軸をパーセント表示に設定\n",
    "plt.gca().yaxis.set_major_formatter(plt.PercentFormatter())\n",
    "\n",
    "# グラフを表示\n",
    "plt.show()\n"
   ]
  },
  {
   "cell_type": "code",
   "execution_count": 5,
   "metadata": {},
   "outputs": [
    {
     "ename": "AttributeError",
     "evalue": "module 'matplotlib.pyplot' has no attribute 'PercentFormatter'",
     "output_type": "error",
     "traceback": [
      "\u001b[0;31m---------------------------------------------------------------------------\u001b[0m",
      "\u001b[0;31mAttributeError\u001b[0m                            Traceback (most recent call last)",
      "\u001b[0;32m/var/folders/1p/_62pxgbn5kg837b06pfnvkdw0000gn/T/ipykernel_10121/402377623.py\u001b[0m in \u001b[0;36m<module>\u001b[0;34m\u001b[0m\n\u001b[1;32m     23\u001b[0m \u001b[0;34m\u001b[0m\u001b[0m\n\u001b[1;32m     24\u001b[0m \u001b[0;31m# y軸をパーセント表示に設定\u001b[0m\u001b[0;34m\u001b[0m\u001b[0;34m\u001b[0m\u001b[0m\n\u001b[0;32m---> 25\u001b[0;31m \u001b[0mplt\u001b[0m\u001b[0;34m.\u001b[0m\u001b[0mgca\u001b[0m\u001b[0;34m(\u001b[0m\u001b[0;34m)\u001b[0m\u001b[0;34m.\u001b[0m\u001b[0myaxis\u001b[0m\u001b[0;34m.\u001b[0m\u001b[0mset_major_formatter\u001b[0m\u001b[0;34m(\u001b[0m\u001b[0mplt\u001b[0m\u001b[0;34m.\u001b[0m\u001b[0mPercentFormatter\u001b[0m\u001b[0;34m(\u001b[0m\u001b[0;34m)\u001b[0m\u001b[0;34m)\u001b[0m\u001b[0;34m\u001b[0m\u001b[0;34m\u001b[0m\u001b[0m\n\u001b[0m\u001b[1;32m     26\u001b[0m \u001b[0;34m\u001b[0m\u001b[0m\n\u001b[1;32m     27\u001b[0m \u001b[0;31m# グラフを表示\u001b[0m\u001b[0;34m\u001b[0m\u001b[0;34m\u001b[0m\u001b[0m\n",
      "\u001b[0;31mAttributeError\u001b[0m: module 'matplotlib.pyplot' has no attribute 'PercentFormatter'"
     ]
    },
    {
     "name": "stderr",
     "output_type": "stream",
     "text": [
      "/Users/takahiromatsunaga/opt/anaconda3/lib/python3.9/site-packages/matplotlib/backends/backend_agg.py:240: RuntimeWarning: Glyph 12487 missing from current font.\n",
      "  font.set_text(s, 0.0, flags=flags)\n",
      "/Users/takahiromatsunaga/opt/anaconda3/lib/python3.9/site-packages/matplotlib/backends/backend_agg.py:240: RuntimeWarning: Glyph 12540 missing from current font.\n",
      "  font.set_text(s, 0.0, flags=flags)\n",
      "/Users/takahiromatsunaga/opt/anaconda3/lib/python3.9/site-packages/matplotlib/backends/backend_agg.py:240: RuntimeWarning: Glyph 12479 missing from current font.\n",
      "  font.set_text(s, 0.0, flags=flags)\n",
      "/Users/takahiromatsunaga/opt/anaconda3/lib/python3.9/site-packages/matplotlib/backends/backend_agg.py:203: RuntimeWarning: Glyph 12487 missing from current font.\n",
      "  font.set_text(s, 0, flags=flags)\n",
      "/Users/takahiromatsunaga/opt/anaconda3/lib/python3.9/site-packages/matplotlib/backends/backend_agg.py:203: RuntimeWarning: Glyph 12540 missing from current font.\n",
      "  font.set_text(s, 0, flags=flags)\n",
      "/Users/takahiromatsunaga/opt/anaconda3/lib/python3.9/site-packages/matplotlib/backends/backend_agg.py:203: RuntimeWarning: Glyph 12479 missing from current font.\n",
      "  font.set_text(s, 0, flags=flags)\n"
     ]
    },
    {
     "data": {
      "image/png": "[encoded data removed]",
      "text/plain": [
       "<Figure size 720x432 with 1 Axes>"
      ]
     },
     "metadata": {
      "needs_background": "light"
     },
     "output_type": "display_data"
    }
   ],
   "source": [
    "import pandas as pd\n",
    "import matplotlib.pyplot as plt\n",
    "\n",
    "# サンプルデータを作成\n",
    "data = {'userid': [1, 2, 3, 4, 5],\n",
    "        'o': ['A', 'B', 'A', 'C', 'B'],\n",
    "        'd': ['X', 'Y', 'X', 'Z', 'Y'],\n",
    "        'abs': [10, 20, 15, 25, 30],\n",
    "        'Ti': [5, 8, 5, 10, 8]}\n",
    "\n",
    "df = pd.DataFrame(data)\n",
    "\n",
    "# Tiの各要素の割合を計算\n",
    "ti_percentage = df['Ti'] / df['Ti'].sum() * 100\n",
    "\n",
    "# 帯グラフを描画\n",
    "ti_percentage.plot(kind='bar', stacked=True, figsize=(10, 6), colormap='viridis', edgecolor='black')\n",
    "\n",
    "# グラフのタイトルと軸ラベルを追加\n",
    "plt.title('Tiの各要素の割合')\n",
    "plt.xlabel('データ')\n",
    "plt.ylabel('割合 (%)')\n",
    "\n",
    "# y軸をパーセント表示に設定\n",
    "plt.gca().yaxis.set_major_formatter(plt.PercentFormatter())\n",
    "\n",
    "# グラフを表示\n",
    "plt.show()\n"
   ]
  },
  {
   "cell_type": "code",
   "execution_count": 6,
   "metadata": {},
   "outputs": [
    {
     "ename": "AttributeError",
     "evalue": "module 'matplotlib.pyplot' has no attribute 'PercentFormatter'",
     "output_type": "error",
     "traceback": [
      "\u001b[0;31m---------------------------------------------------------------------------\u001b[0m",
      "\u001b[0;31mAttributeError\u001b[0m                            Traceback (most recent call last)",
      "\u001b[0;32m/var/folders/1p/_62pxgbn5kg837b06pfnvkdw0000gn/T/ipykernel_10121/886381801.py\u001b[0m in \u001b[0;36m<module>\u001b[0;34m\u001b[0m\n\u001b[1;32m     23\u001b[0m \u001b[0;34m\u001b[0m\u001b[0m\n\u001b[1;32m     24\u001b[0m \u001b[0;31m# y軸をパーセント表示に設定\u001b[0m\u001b[0;34m\u001b[0m\u001b[0;34m\u001b[0m\u001b[0m\n\u001b[0;32m---> 25\u001b[0;31m \u001b[0mplt\u001b[0m\u001b[0;34m.\u001b[0m\u001b[0mgca\u001b[0m\u001b[0;34m(\u001b[0m\u001b[0;34m)\u001b[0m\u001b[0;34m.\u001b[0m\u001b[0myaxis\u001b[0m\u001b[0;34m.\u001b[0m\u001b[0mset_major_formatter\u001b[0m\u001b[0;34m(\u001b[0m\u001b[0mplt\u001b[0m\u001b[0;34m.\u001b[0m\u001b[0mPercentFormatter\u001b[0m\u001b[0;34m(\u001b[0m\u001b[0;34m)\u001b[0m\u001b[0;34m)\u001b[0m\u001b[0;34m\u001b[0m\u001b[0;34m\u001b[0m\u001b[0m\n\u001b[0m\u001b[1;32m     26\u001b[0m \u001b[0;34m\u001b[0m\u001b[0m\n\u001b[1;32m     27\u001b[0m \u001b[0;31m# グラフを表示\u001b[0m\u001b[0;34m\u001b[0m\u001b[0;34m\u001b[0m\u001b[0m\n",
      "\u001b[0;31mAttributeError\u001b[0m: module 'matplotlib.pyplot' has no attribute 'PercentFormatter'"
     ]
    },
    {
     "data": {
      "image/png": "[encoded data removed]",
      "text/plain": [
       "<Figure size 432x288 with 1 Axes>"
      ]
     },
     "metadata": {
      "needs_background": "light"
     },
     "output_type": "display_data"
    }
   ],
   "source": [
    "import pandas as pd\n",
    "import matplotlib.pyplot as plt\n",
    "from matplotlib.ticker import PercentFormatter\n",
    "\n",
    "# サンプルデータを作成\n",
    "data = {'userid': [1, 2, 3, 4, 5],\n",
    "        'o': ['A', 'B', 'A', 'C', 'B'],\n",
    "        'd': ['X', 'Y', 'X', 'Z', 'Y'],\n",
    "        'abs': [10, 20, 15, 25, 30],\n",
    "        'Ti': [5, 8, 5, 10, 8]}\n",
    "\n",
    "df = pd.DataFrame(data)\n",
    "\n",
    "# Tiの各要素の割合を計算\n",
    "ti_percentage = df['Ti'] / df['Ti'].sum() * 100 ### これでできるらしい\n",
    "\n",
    "# 積み上げ帯グラフを描画\n",
    "plt.bar(df.index, ti_percentage, color='skyblue', edgecolor='black')\n",
    "\n",
    "# グラフのタイトルと軸ラベルを追加\n",
    "plt.title('Tiの各要素の割合')\n",
    "plt.xlabel('データ')\n",
    "plt.ylabel('割合 (%)')\n",
    "\n",
    "# y軸をパーセント表示に設定\n",
    "plt.gca().yaxis.set_major_formatter(plt.PercentFormatter())\n",
    "\n",
    "# グラフを表示\n",
    "plt.show()\n"
   ]
  },
  {
   "cell_type": "code",
   "execution_count": 11,
   "metadata": {},
   "outputs": [
    {
     "name": "stdout",
     "output_type": "stream",
     "text": [
      "5     2\n",
      "8     2\n",
      "10    1\n",
      "Name: Ti, dtype: int64\n",
      "<class 'pandas.core.series.Series'>\n"
     ]
    }
   ],
   "source": [
    "import pandas as pd\n",
    "\n",
    "# サンプルデータを作成\n",
    "data = {'userid': [1, 2, 3, 4, 5],\n",
    "        'o': ['A', 'B', 'A', 'C', 'B'],\n",
    "        'd': ['X', 'Y', 'X', 'Z', 'Y'],\n",
    "        'abs': [10, 20, 15, 25, 30],\n",
    "        'Ti': [5, 8, 5, 10, 8]}\n",
    "\n",
    "df = pd.DataFrame(data)\n",
    "\n",
    "# 'Ti'列の各要素の頻度を取得\n",
    "ti_frequency = df['Ti'].value_counts()\n",
    "\n",
    "print(ti_frequency) ## series\n",
    "print(type(ti_frequency))\n",
    "\n"
   ]
  },
  {
   "cell_type": "code",
   "execution_count": 16,
   "metadata": {},
   "outputs": [
    {
     "name": "stdout",
     "output_type": "stream",
     "text": [
      "2\n"
     ]
    }
   ],
   "source": [
    "for i in ti_frequency\n",
    "print(ti_frequency[5])"
   ]
  },
  {
   "cell_type": "code",
   "execution_count": 21,
   "metadata": {},
   "outputs": [
    {
     "name": "stdout",
     "output_type": "stream",
     "text": [
      "   userid  o  d  abs  Ti  freq\n",
      "0       1  A  X   10   5     2\n",
      "1       2  B  Y   20   8     2\n",
      "2       3  A  X   15   5     2\n",
      "3       4  C  Z   25  10     1\n",
      "4       5  B  Y   30   8     2\n",
      "0     7\n",
      "1    10\n",
      "2     7\n",
      "3    11\n",
      "4    10\n",
      "dtype: int64\n",
      "<class 'pandas.core.series.Series'>\n"
     ]
    }
   ],
   "source": [
    "import pandas as pd\n",
    "\n",
    "# サンプルデータを作成\n",
    "data = {'userid': [1, 2, 3, 4, 5],\n",
    "        'o': ['A', 'B', 'A', 'C', 'B'],\n",
    "        'd': ['X', 'Y', 'X', 'Z', 'Y'],\n",
    "        'abs': [10, 20, 15, 25, 30],\n",
    "        'Ti': [5, 8, 5, 10, 8]}\n",
    "\n",
    "df = pd.DataFrame(data)\n",
    "\n",
    "# 'Ti'列の各要素の頻度を取得\n",
    "ti_frequency = df['Ti'].value_counts()\n",
    "\n",
    "# 'freq'列を挿入\n",
    "df['freq'] = df['Ti'].map(ti_frequency)\n",
    "\n",
    "# df2 = df['freq'] + df['Ti'] ## これは各要素を足し算する\n",
    "# print(df)\n",
    "# # 結果を表示\n",
    "# print(df2)\n",
    "# print(type(df2))\n"
   ]
  },
  {
   "cell_type": "code",
   "execution_count": 22,
   "metadata": {},
   "outputs": [
    {
     "name": "stdout",
     "output_type": "stream",
     "text": [
      "{5: 2, 8: 2, 10: 1}\n"
     ]
    }
   ],
   "source": [
    "Ti_freq_dict = {} ## 元々5段階くらいに分けておいた方がいい\n",
    "for i in range(len(df)):\n",
    "    Ti = df.loc[i, 'Ti']\n",
    "    if Ti in Ti_freq_dict:\n",
    "        Ti_freq_dict[Ti] += 1\n",
    "    else:\n",
    "        Ti_freq_dict[Ti] = 1\n",
    "print(Ti_freq_dict)"
   ]
  },
  {
   "cell_type": "code",
   "execution_count": null,
   "metadata": {},
   "outputs": [],
   "source": [
    "fig = plt.figure(figsize=(10, 2))\n",
    "# plt.rcParams['font.family'] = 'Meiryo' ## とりあえずデフォルトでいいや\n",
    "ax = plt.axes()\n",
    "\n",
    "total = 0\n",
    "Ti_freq_dict = Ti_freq_dict.sort(d)\n",
    "for i in range(len(Ti_freq_dict)):\n",
    "    "
   ]
  },
  {
   "cell_type": "code",
   "execution_count": 1,
   "metadata": {},
   "outputs": [],
   "source": [
    "import numpy as np \n",
    "p_init = np.array([[0.1,  0.1,  0.3, 0.3, 0.2], # oが7\n",
    "                    [0.1,     0.1,       0.25,     0.25,     0.3], # oが8\n",
    "                    [0.225,     0.225,      0.125,     0.125,     0.3], # oが9\n",
    "                    [0.225,     0.225,      0.125,     0.125,     0.3], # oが10\n",
    "                    [0.35,      0.25,       0.1,       0.1,       0.2], # oが11→10と12の値を按分\n",
    "                    [0.55,      0.35,       0.03,      0.02,      0.05], # oが12\n",
    "                    [0.3,       0.6,        0.05,      0.025,     0.025]]) # oが13"
   ]
  },
  {
   "cell_type": "code",
   "execution_count": 2,
   "metadata": {},
   "outputs": [
    {
     "data": {
      "text/plain": [
       "array([[0.1  , 0.1  , 0.3  , 0.3  , 0.2  , 0.1  , 0.1  , 0.3  , 0.3  ,\n",
       "        0.2  ],\n",
       "       [0.1  , 0.1  , 0.25 , 0.25 , 0.3  , 0.1  , 0.1  , 0.25 , 0.25 ,\n",
       "        0.3  ],\n",
       "       [0.225, 0.225, 0.125, 0.125, 0.3  , 0.225, 0.225, 0.125, 0.125,\n",
       "        0.3  ],\n",
       "       [0.225, 0.225, 0.125, 0.125, 0.3  , 0.225, 0.225, 0.125, 0.125,\n",
       "        0.3  ],\n",
       "       [0.35 , 0.25 , 0.1  , 0.1  , 0.2  , 0.35 , 0.25 , 0.1  , 0.1  ,\n",
       "        0.2  ],\n",
       "       [0.55 , 0.35 , 0.03 , 0.02 , 0.05 , 0.55 , 0.35 , 0.03 , 0.02 ,\n",
       "        0.05 ],\n",
       "       [0.3  , 0.6  , 0.05 , 0.025, 0.025, 0.3  , 0.6  , 0.05 , 0.025,\n",
       "        0.025]])"
      ]
     },
     "execution_count": 2,
     "metadata": {},
     "output_type": "execute_result"
    }
   ],
   "source": [
    "p_init = np.hstack((p_init, p_init))\n",
    "p_init"
   ]
  },
  {
   "cell_type": "code",
   "execution_count": 3,
   "metadata": {},
   "outputs": [
    {
     "data": {
      "text/plain": [
       "(7, 10)"
      ]
     },
     "execution_count": 3,
     "metadata": {},
     "output_type": "execute_result"
    }
   ],
   "source": [
    "p_init.shape"
   ]
  },
  {
   "cell_type": "code",
   "execution_count": 4,
   "metadata": {},
   "outputs": [
    {
     "data": {
      "text/plain": [
       "array([[0.1  , 0.1  , 0.3  , 0.3  , 0.2  , 0.1  , 0.1  , 0.3  , 0.3  ,\n",
       "        0.2  ],\n",
       "       [0.1  , 0.1  , 0.25 , 0.25 , 0.3  , 0.1  , 0.1  , 0.25 , 0.25 ,\n",
       "        0.3  ],\n",
       "       [0.225, 0.225, 0.125, 0.125, 0.3  , 0.225, 0.225, 0.125, 0.125,\n",
       "        0.3  ],\n",
       "       [0.225, 0.225, 0.125, 0.125, 0.3  , 0.225, 0.225, 0.125, 0.125,\n",
       "        0.3  ],\n",
       "       [0.35 , 0.25 , 0.1  , 0.1  , 0.2  , 0.35 , 0.25 , 0.1  , 0.1  ,\n",
       "        0.2  ],\n",
       "       [0.55 , 0.35 , 0.03 , 0.02 , 0.05 , 0.55 , 0.35 , 0.03 , 0.02 ,\n",
       "        0.05 ],\n",
       "       [0.3  , 0.6  , 0.05 , 0.025, 0.025, 0.3  , 0.6  , 0.05 , 0.025,\n",
       "        0.025],\n",
       "       [0.1  , 0.1  , 0.3  , 0.3  , 0.2  , 0.1  , 0.1  , 0.3  , 0.3  ,\n",
       "        0.2  ],\n",
       "       [0.1  , 0.1  , 0.25 , 0.25 , 0.3  , 0.1  , 0.1  , 0.25 , 0.25 ,\n",
       "        0.3  ],\n",
       "       [0.225, 0.225, 0.125, 0.125, 0.3  , 0.225, 0.225, 0.125, 0.125,\n",
       "        0.3  ],\n",
       "       [0.225, 0.225, 0.125, 0.125, 0.3  , 0.225, 0.225, 0.125, 0.125,\n",
       "        0.3  ],\n",
       "       [0.35 , 0.25 , 0.1  , 0.1  , 0.2  , 0.35 , 0.25 , 0.1  , 0.1  ,\n",
       "        0.2  ],\n",
       "       [0.55 , 0.35 , 0.03 , 0.02 , 0.05 , 0.55 , 0.35 , 0.03 , 0.02 ,\n",
       "        0.05 ],\n",
       "       [0.3  , 0.6  , 0.05 , 0.025, 0.025, 0.3  , 0.6  , 0.05 , 0.025,\n",
       "        0.025]])"
      ]
     },
     "execution_count": 4,
     "metadata": {},
     "output_type": "execute_result"
    }
   ],
   "source": [
    "p_init = np.vstack((p_init, p_init))\n",
    "p_init\n"
   ]
  },
  {
   "cell_type": "code",
   "execution_count": 5,
   "metadata": {},
   "outputs": [
    {
     "data": {
      "text/plain": [
       "(14, 10)"
      ]
     },
     "execution_count": 5,
     "metadata": {},
     "output_type": "execute_result"
    }
   ],
   "source": [
    "p_init.shape"
   ]
  },
  {
   "cell_type": "code",
   "execution_count": 6,
   "metadata": {},
   "outputs": [],
   "source": [
    "p_init = p_init + p_init"
   ]
  },
  {
   "cell_type": "code",
   "execution_count": 7,
   "metadata": {},
   "outputs": [
    {
     "data": {
      "text/plain": [
       "array([[0.2 , 0.2 , 0.6 , 0.6 , 0.4 , 0.2 , 0.2 , 0.6 , 0.6 , 0.4 ],\n",
       "       [0.2 , 0.2 , 0.5 , 0.5 , 0.6 , 0.2 , 0.2 , 0.5 , 0.5 , 0.6 ],\n",
       "       [0.45, 0.45, 0.25, 0.25, 0.6 , 0.45, 0.45, 0.25, 0.25, 0.6 ],\n",
       "       [0.45, 0.45, 0.25, 0.25, 0.6 , 0.45, 0.45, 0.25, 0.25, 0.6 ],\n",
       "       [0.7 , 0.5 , 0.2 , 0.2 , 0.4 , 0.7 , 0.5 , 0.2 , 0.2 , 0.4 ],\n",
       "       [1.1 , 0.7 , 0.06, 0.04, 0.1 , 1.1 , 0.7 , 0.06, 0.04, 0.1 ],\n",
       "       [0.6 , 1.2 , 0.1 , 0.05, 0.05, 0.6 , 1.2 , 0.1 , 0.05, 0.05],\n",
       "       [0.2 , 0.2 , 0.6 , 0.6 , 0.4 , 0.2 , 0.2 , 0.6 , 0.6 , 0.4 ],\n",
       "       [0.2 , 0.2 , 0.5 , 0.5 , 0.6 , 0.2 , 0.2 , 0.5 , 0.5 , 0.6 ],\n",
       "       [0.45, 0.45, 0.25, 0.25, 0.6 , 0.45, 0.45, 0.25, 0.25, 0.6 ],\n",
       "       [0.45, 0.45, 0.25, 0.25, 0.6 , 0.45, 0.45, 0.25, 0.25, 0.6 ],\n",
       "       [0.7 , 0.5 , 0.2 , 0.2 , 0.4 , 0.7 , 0.5 , 0.2 , 0.2 , 0.4 ],\n",
       "       [1.1 , 0.7 , 0.06, 0.04, 0.1 , 1.1 , 0.7 , 0.06, 0.04, 0.1 ],\n",
       "       [0.6 , 1.2 , 0.1 , 0.05, 0.05, 0.6 , 1.2 , 0.1 , 0.05, 0.05]])"
      ]
     },
     "execution_count": 7,
     "metadata": {},
     "output_type": "execute_result"
    }
   ],
   "source": [
    "p_init"
   ]
  },
  {
   "cell_type": "code",
   "execution_count": 3,
   "metadata": {},
   "outputs": [
    {
     "name": "stdout",
     "output_type": "stream",
     "text": [
      "[4, 5, 2]\n"
     ]
    }
   ],
   "source": [
    "pair_list = [(3, 4), (2, 2), (5, 3), (2, 3)]  # 例: pair_listの中身\n",
    "\n",
    "kk = 3  # 検索したいkkの値\n",
    "a_list = []\n",
    "# kkと組になっているaを全て取り出す\n",
    "for pair in pair_list:\n",
    "    if pair[0] == kk:\n",
    "        a_list.append(pair[1])\n",
    "    elif pair[1] == kk:\n",
    "        a_list.append(pair[0])\n",
    "\n",
    "#a_list = [a[1] for a in pair_list if a[0] == kk a[0] for a in pair_list if a[1] == kk]\n",
    "\n",
    "print(a_list)\n"
   ]
  },
  {
   "cell_type": "code",
   "execution_count": null,
   "metadata": {},
   "outputs": [],
   "source": []
  },
  {
   "cell_type": "code",
   "execution_count": null,
   "metadata": {},
   "outputs": [],
   "source": []
  }
 ],
 "metadata": {
  "kernelspec": {
   "display_name": "base",
   "language": "python",
   "name": "python3"
  },
  "language_info": {
   "codemirror_mode": {
    "name": "ipython",
    "version": 3
   },
   "file_extension": ".py",
   "mimetype": "text/x-python",
   "name": "python",
   "nbconvert_exporter": "python",
   "pygments_lexer": "ipython3",
   "version": "3.9.7"
  }
 },
 "nbformat": 4,
 "nbformat_minor": 2
}
