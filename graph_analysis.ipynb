{
 "cells": [
  {
   "cell_type": "code",
   "execution_count": 1,
   "metadata": {},
   "outputs": [
    {
     "ename": "ModuleNotFoundError",
     "evalue": "No module named 'tensorflow'",
     "output_type": "error",
     "traceback": [
      "\u001b[0;31m---------------------------------------------------------------------------\u001b[0m",
      "\u001b[0;31mModuleNotFoundError\u001b[0m                       Traceback (most recent call last)",
      "\u001b[0;32m/var/folders/1p/_62pxgbn5kg837b06pfnvkdw0000gn/T/ipykernel_26984/3440798419.py\u001b[0m in \u001b[0;36m<module>\u001b[0;34m\u001b[0m\n\u001b[1;32m      1\u001b[0m \u001b[0;32mimport\u001b[0m \u001b[0mnumpy\u001b[0m \u001b[0;32mas\u001b[0m \u001b[0mnp\u001b[0m\u001b[0;34m\u001b[0m\u001b[0;34m\u001b[0m\u001b[0m\n\u001b[1;32m      2\u001b[0m \u001b[0;32mfrom\u001b[0m \u001b[0msklearn\u001b[0m\u001b[0;34m.\u001b[0m\u001b[0mdecomposition\u001b[0m \u001b[0;32mimport\u001b[0m \u001b[0mPCA\u001b[0m\u001b[0;34m\u001b[0m\u001b[0;34m\u001b[0m\u001b[0m\n\u001b[0;32m----> 3\u001b[0;31m \u001b[0;32mfrom\u001b[0m \u001b[0mtensorflow\u001b[0m\u001b[0;34m.\u001b[0m\u001b[0mkeras\u001b[0m\u001b[0;34m.\u001b[0m\u001b[0mmodels\u001b[0m \u001b[0;32mimport\u001b[0m \u001b[0mSequential\u001b[0m\u001b[0;34m\u001b[0m\u001b[0;34m\u001b[0m\u001b[0m\n\u001b[0m\u001b[1;32m      4\u001b[0m \u001b[0;32mfrom\u001b[0m \u001b[0mtensorflow\u001b[0m\u001b[0;34m.\u001b[0m\u001b[0mkeras\u001b[0m\u001b[0;34m.\u001b[0m\u001b[0mlayers\u001b[0m \u001b[0;32mimport\u001b[0m \u001b[0mLSTM\u001b[0m\u001b[0;34m,\u001b[0m \u001b[0mDense\u001b[0m\u001b[0;34m\u001b[0m\u001b[0;34m\u001b[0m\u001b[0m\n\u001b[1;32m      5\u001b[0m \u001b[0;34m\u001b[0m\u001b[0m\n",
      "\u001b[0;31mModuleNotFoundError\u001b[0m: No module named 'tensorflow'"
     ]
    }
   ],
   "source": [
    "import numpy as np\n",
    "from sklearn.decomposition import PCA\n",
    "from tensorflow.keras.models import Sequential\n",
    "from tensorflow.keras.layers import LSTM, Dense\n",
    "\n",
    "# サンプルデータの作成（ビーコンの位置と観測値）\n",
    "beacon_positions = np.array([\n",
    "    [0, 0], [1, 0], [0, 1], [1, 1]\n",
    "])\n",
    "observations = {\n",
    "    \"mac1\": np.array([\n",
    "        [0.9, 0.7, 0.8, 0.6],\n",
    "        [0.8, 0.9, 0.7, 0.8],\n",
    "        [0.7, 0.6, 0.9, 0.7]\n",
    "    ])\n",
    "}\n",
    "\n",
    "TT = 3  # 時刻の数\n",
    "B = 4   # ビーコンの数\n",
    "\n",
    "# 特徴量抽出（観測値をそのまま利用）\n",
    "features = observations[\"mac1\"]\n",
    "\n",
    "# 次元削減（PCA）\n",
    "pca = PCA(n_components=2)\n",
    "reduced_features = pca.fit_transform(features)\n",
    "\n",
    "print('reduced_features', reduced_features) # 2dに減らしたってど言う意味だろう\n",
    "\n",
    "# LSTMモデルの定義\n",
    "model = Sequential()\n",
    "model.add(LSTM(50, input_shape=(TT-1, reduced_features.shape[1]), return_sequences=True))\n",
    "model.add(LSTM(50, return_sequences=False))\n",
    "model.add(Dense(2))  # 移動ベクトルの次元（x, y）\n",
    "\n",
    "model.compile(optimizer='adam', loss='mse')\n",
    "\n",
    "# 訓練データの準備\n",
    "X_train = np.array([reduced_features[:-1]])\n",
    "y_train = np.array([reduced_features[1:] - reduced_features[:-1]])\n",
    "\n",
    "# モデルの訓練\n",
    "model.fit(X_train, y_train, epochs=100, verbose=1)\n",
    "\n",
    "# 移動ベクトルの推定\n",
    "predicted_movement = model.predict(X_train)\n",
    "\n",
    "# 結果の表示\n",
    "print(\"Predicted movement vectors:\")\n",
    "print(predicted_movement)\n"
   ]
  },
  {
   "cell_type": "code",
   "execution_count": null,
   "metadata": {},
   "outputs": [],
   "source": []
  }
 ],
 "metadata": {
  "kernelspec": {
   "display_name": "base",
   "language": "python",
   "name": "python3"
  },
  "language_info": {
   "codemirror_mode": {
    "name": "ipython",
    "version": 3
   },
   "file_extension": ".py",
   "mimetype": "text/x-python",
   "name": "python",
   "nbconvert_exporter": "python",
   "pygments_lexer": "ipython3",
   "version": "3.9.7"
  }
 },
 "nbformat": 4,
 "nbformat_minor": 2
}
