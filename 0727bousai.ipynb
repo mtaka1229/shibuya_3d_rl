{
 "cells": [
  {
   "cell_type": "code",
   "execution_count": 1,
   "metadata": {},
   "outputs": [],
   "source": [
    "import pandas as pd \n",
    "import numpy as np \n",
    "import matplotlib.pyplot as plt\n",
    "df = pd.read_csv('/Users/takahiromatsunaga/Downloads/Cross_Tabulation_Counts.csv')"
   ]
  },
  {
   "cell_type": "code",
   "execution_count": 2,
   "metadata": {},
   "outputs": [
    {
     "name": "stdout",
     "output_type": "stream",
     "text": [
      "            school  hinan  hukkyu  heiji  sangyo  fukko  All\n",
      "0       yawatahama    1.0     3.0    0.0     0.0    0.0    4\n",
      "1       minami-uwa    1.0     1.0    0.0     1.0    1.0    4\n",
      "2       ozu-nougyo    2.0     0.0    0.0     0.0    0.0    2\n",
      "3              ozu    1.0     1.0    2.0     0.0    0.0    4\n",
      "4           tenryu    1.0     0.0    1.0     0.0    1.0    3\n",
      "5   uwajima-minami    2.0     0.0    0.0     0.0    0.0    2\n",
      "6  uwajima-higashi    1.0     0.0    1.0     1.0    1.0    4\n",
      "7              All    9.0     5.0    4.0     2.0    3.0   23\n"
     ]
    }
   ],
   "source": [
    "df_ = df.fillna(0)\n",
    "print(df_)"
   ]
  },
  {
   "cell_type": "code",
   "execution_count": 7,
   "metadata": {},
   "outputs": [
    {
     "data": {
      "image/png": "[encoded data removed]",
      "text/plain": [
       "<Figure size 720x504 with 1 Axes>"
      ]
     },
     "metadata": {
      "needs_background": "light"
     },
     "output_type": "display_data"
    }
   ],
   "source": [
    "\n",
    "# Convert to DataFrame\n",
    "# df_ = pd.DataFrame(data)\n",
    "\n",
    "# Calculate the sum of responses for each school\n",
    "\n",
    "df_['total'] = df_[['hinan', 'hukkyu', 'heiji', 'sangyo', 'fukko']].sum(axis=1)\n",
    "\n",
    "# Calculate the percentage for each category\n",
    "for category in ['hinan', 'hukkyu', 'heiji', 'sangyo', 'fukko']:\n",
    "    df_[category] = (df_[category] / df_['total']) * 100\n",
    "\n",
    "# Plot the data as a stacked bar chart (horizontal bar chart)\n",
    "categories = ['hinan', 'hukkyu', 'heiji', 'sangyo', 'fukko']\n",
    "ax = df_[categories].plot(kind='barh', stacked=True, figsize=(10, 7), colormap='tab20c', edgecolor='black')\n",
    "\n",
    "# Set labels and title\n",
    "ax.set_ylabel('School')\n",
    "ax.set_xlabel('Percentage')\n",
    "ax.set_title('Interest in Disaster-Related Topics by School')\n",
    "ax.set_yticklabels(df_['school'])\n",
    "ax.legend(title='Topics', bbox_to_anchor=(1.05, 1), loc='upper left')\n",
    "\n",
    "# Show plot\n",
    "plt.tight_layout()\n",
    "plt.show()"
   ]
  },
  {
   "cell_type": "code",
   "execution_count": 8,
   "metadata": {},
   "outputs": [],
   "source": [
    "df2 = pd.read_csv('/Users/takahiromatsunaga/Downloads/0727q2_all.csv')\n",
    "df2_ = df2.fillna(0)"
   ]
  },
  {
   "cell_type": "code",
   "execution_count": 9,
   "metadata": {},
   "outputs": [
    {
     "data": {
      "text/html": [
       "<div>\n",
       "<style scoped>\n",
       "    .dataframe tbody tr th:only-of-type {\n",
       "        vertical-align: middle;\n",
       "    }\n",
       "\n",
       "    .dataframe tbody tr th {\n",
       "        vertical-align: top;\n",
       "    }\n",
       "\n",
       "    .dataframe thead th {\n",
       "        text-align: right;\n",
       "    }\n",
       "</style>\n",
       "<table border=\"1\" class=\"dataframe\">\n",
       "  <thead>\n",
       "    <tr style=\"text-align: right;\">\n",
       "      <th></th>\n",
       "      <th>Unnamed: 0</th>\n",
       "      <th>short_term_evac</th>\n",
       "      <th>longterm-evac</th>\n",
       "      <th>pre-fukko</th>\n",
       "      <th>post-fukko</th>\n",
       "    </tr>\n",
       "  </thead>\n",
       "  <tbody>\n",
       "    <tr>\n",
       "      <th>0</th>\n",
       "      <td>uwajima-higashi</td>\n",
       "      <td>2</td>\n",
       "      <td>2.0</td>\n",
       "      <td>1.0</td>\n",
       "      <td>1.0</td>\n",
       "    </tr>\n",
       "    <tr>\n",
       "      <th>1</th>\n",
       "      <td>uwajima-minami</td>\n",
       "      <td>2</td>\n",
       "      <td>0.0</td>\n",
       "      <td>0.0</td>\n",
       "      <td>0.0</td>\n",
       "    </tr>\n",
       "    <tr>\n",
       "      <th>2</th>\n",
       "      <td>tenryu</td>\n",
       "      <td>3</td>\n",
       "      <td>2.0</td>\n",
       "      <td>NaN</td>\n",
       "      <td>NaN</td>\n",
       "    </tr>\n",
       "    <tr>\n",
       "      <th>3</th>\n",
       "      <td>ozu</td>\n",
       "      <td>4</td>\n",
       "      <td>1.0</td>\n",
       "      <td>NaN</td>\n",
       "      <td>NaN</td>\n",
       "    </tr>\n",
       "    <tr>\n",
       "      <th>4</th>\n",
       "      <td>ozu-nougyo</td>\n",
       "      <td>2</td>\n",
       "      <td>1.0</td>\n",
       "      <td>NaN</td>\n",
       "      <td>NaN</td>\n",
       "    </tr>\n",
       "    <tr>\n",
       "      <th>5</th>\n",
       "      <td>minami-uwa</td>\n",
       "      <td>3</td>\n",
       "      <td>NaN</td>\n",
       "      <td>1.0</td>\n",
       "      <td>NaN</td>\n",
       "    </tr>\n",
       "    <tr>\n",
       "      <th>6</th>\n",
       "      <td>yawatahama</td>\n",
       "      <td>3</td>\n",
       "      <td>1.0</td>\n",
       "      <td>1.0</td>\n",
       "      <td>NaN</td>\n",
       "    </tr>\n",
       "  </tbody>\n",
       "</table>\n",
       "</div>"
      ],
      "text/plain": [
       "        Unnamed: 0  short_term_evac  longterm-evac  pre-fukko  post-fukko\n",
       "0  uwajima-higashi                2            2.0        1.0         1.0\n",
       "1   uwajima-minami                2            0.0        0.0         0.0\n",
       "2           tenryu                3            2.0        NaN         NaN\n",
       "3              ozu                4            1.0        NaN         NaN\n",
       "4       ozu-nougyo                2            1.0        NaN         NaN\n",
       "5       minami-uwa                3            NaN        1.0         NaN\n",
       "6       yawatahama                3            1.0        1.0         NaN"
      ]
     },
     "execution_count": 9,
     "metadata": {},
     "output_type": "execute_result"
    }
   ],
   "source": [
    "df2"
   ]
  },
  {
   "cell_type": "code",
   "execution_count": 10,
   "metadata": {},
   "outputs": [
    {
     "data": {
      "text/html": [
       "<div>\n",
       "<style scoped>\n",
       "    .dataframe tbody tr th:only-of-type {\n",
       "        vertical-align: middle;\n",
       "    }\n",
       "\n",
       "    .dataframe tbody tr th {\n",
       "        vertical-align: top;\n",
       "    }\n",
       "\n",
       "    .dataframe thead th {\n",
       "        text-align: right;\n",
       "    }\n",
       "</style>\n",
       "<table border=\"1\" class=\"dataframe\">\n",
       "  <thead>\n",
       "    <tr style=\"text-align: right;\">\n",
       "      <th></th>\n",
       "      <th>Unnamed: 0</th>\n",
       "      <th>short_term_evac</th>\n",
       "      <th>longterm-evac</th>\n",
       "      <th>pre-fukko</th>\n",
       "      <th>post-fukko</th>\n",
       "    </tr>\n",
       "  </thead>\n",
       "  <tbody>\n",
       "    <tr>\n",
       "      <th>0</th>\n",
       "      <td>uwajima-higashi</td>\n",
       "      <td>2</td>\n",
       "      <td>2.0</td>\n",
       "      <td>1.0</td>\n",
       "      <td>1.0</td>\n",
       "    </tr>\n",
       "    <tr>\n",
       "      <th>1</th>\n",
       "      <td>uwajima-minami</td>\n",
       "      <td>2</td>\n",
       "      <td>0.0</td>\n",
       "      <td>0.0</td>\n",
       "      <td>0.0</td>\n",
       "    </tr>\n",
       "    <tr>\n",
       "      <th>2</th>\n",
       "      <td>tenryu</td>\n",
       "      <td>3</td>\n",
       "      <td>2.0</td>\n",
       "      <td>0.0</td>\n",
       "      <td>0.0</td>\n",
       "    </tr>\n",
       "    <tr>\n",
       "      <th>3</th>\n",
       "      <td>ozu</td>\n",
       "      <td>4</td>\n",
       "      <td>1.0</td>\n",
       "      <td>0.0</td>\n",
       "      <td>0.0</td>\n",
       "    </tr>\n",
       "    <tr>\n",
       "      <th>4</th>\n",
       "      <td>ozu-nougyo</td>\n",
       "      <td>2</td>\n",
       "      <td>1.0</td>\n",
       "      <td>0.0</td>\n",
       "      <td>0.0</td>\n",
       "    </tr>\n",
       "    <tr>\n",
       "      <th>5</th>\n",
       "      <td>minami-uwa</td>\n",
       "      <td>3</td>\n",
       "      <td>0.0</td>\n",
       "      <td>1.0</td>\n",
       "      <td>0.0</td>\n",
       "    </tr>\n",
       "    <tr>\n",
       "      <th>6</th>\n",
       "      <td>yawatahama</td>\n",
       "      <td>3</td>\n",
       "      <td>1.0</td>\n",
       "      <td>1.0</td>\n",
       "      <td>0.0</td>\n",
       "    </tr>\n",
       "  </tbody>\n",
       "</table>\n",
       "</div>"
      ],
      "text/plain": [
       "        Unnamed: 0  short_term_evac  longterm-evac  pre-fukko  post-fukko\n",
       "0  uwajima-higashi                2            2.0        1.0         1.0\n",
       "1   uwajima-minami                2            0.0        0.0         0.0\n",
       "2           tenryu                3            2.0        0.0         0.0\n",
       "3              ozu                4            1.0        0.0         0.0\n",
       "4       ozu-nougyo                2            1.0        0.0         0.0\n",
       "5       minami-uwa                3            0.0        1.0         0.0\n",
       "6       yawatahama                3            1.0        1.0         0.0"
      ]
     },
     "execution_count": 10,
     "metadata": {},
     "output_type": "execute_result"
    }
   ],
   "source": [
    "df2_"
   ]
  },
  {
   "cell_type": "code",
   "execution_count": 15,
   "metadata": {},
   "outputs": [
    {
     "data": {
      "text/plain": [
       "0    2\n",
       "1    2\n",
       "2    3\n",
       "3    4\n",
       "4    2\n",
       "5    3\n",
       "6    3\n",
       "Name: short_term_evac, dtype: int64"
      ]
     },
     "execution_count": 15,
     "metadata": {},
     "output_type": "execute_result"
    }
   ],
   "source": [
    "df2_['short_term_evac']"
   ]
  },
  {
   "cell_type": "code",
   "execution_count": 22,
   "metadata": {},
   "outputs": [
    {
     "data": {
      "text/html": [
       "<div>\n",
       "<style scoped>\n",
       "    .dataframe tbody tr th:only-of-type {\n",
       "        vertical-align: middle;\n",
       "    }\n",
       "\n",
       "    .dataframe tbody tr th {\n",
       "        vertical-align: top;\n",
       "    }\n",
       "\n",
       "    .dataframe thead th {\n",
       "        text-align: right;\n",
       "    }\n",
       "</style>\n",
       "<table border=\"1\" class=\"dataframe\">\n",
       "  <thead>\n",
       "    <tr style=\"text-align: right;\">\n",
       "      <th></th>\n",
       "      <th>Unnamed: 0</th>\n",
       "      <th>short_term_evac</th>\n",
       "      <th>longterm-evac</th>\n",
       "      <th>pre-fukko</th>\n",
       "      <th>post-fukko</th>\n",
       "      <th>total</th>\n",
       "      <th>school</th>\n",
       "    </tr>\n",
       "  </thead>\n",
       "  <tbody>\n",
       "    <tr>\n",
       "      <th>0</th>\n",
       "      <td>uwajima-higashi</td>\n",
       "      <td>33.333333</td>\n",
       "      <td>33.333333</td>\n",
       "      <td>16.666667</td>\n",
       "      <td>16.666667</td>\n",
       "      <td>100.0</td>\n",
       "      <td>uwajima-higashi</td>\n",
       "    </tr>\n",
       "    <tr>\n",
       "      <th>1</th>\n",
       "      <td>uwajima-minami</td>\n",
       "      <td>100.000000</td>\n",
       "      <td>0.000000</td>\n",
       "      <td>0.000000</td>\n",
       "      <td>0.000000</td>\n",
       "      <td>100.0</td>\n",
       "      <td>uwajima-minami</td>\n",
       "    </tr>\n",
       "    <tr>\n",
       "      <th>2</th>\n",
       "      <td>tenryu</td>\n",
       "      <td>60.000000</td>\n",
       "      <td>40.000000</td>\n",
       "      <td>0.000000</td>\n",
       "      <td>0.000000</td>\n",
       "      <td>100.0</td>\n",
       "      <td>tenryu</td>\n",
       "    </tr>\n",
       "    <tr>\n",
       "      <th>3</th>\n",
       "      <td>ozu</td>\n",
       "      <td>80.000000</td>\n",
       "      <td>20.000000</td>\n",
       "      <td>0.000000</td>\n",
       "      <td>0.000000</td>\n",
       "      <td>100.0</td>\n",
       "      <td>ozu</td>\n",
       "    </tr>\n",
       "    <tr>\n",
       "      <th>4</th>\n",
       "      <td>ozu-nougyo</td>\n",
       "      <td>66.666667</td>\n",
       "      <td>33.333333</td>\n",
       "      <td>0.000000</td>\n",
       "      <td>0.000000</td>\n",
       "      <td>100.0</td>\n",
       "      <td>ozu-nougyo</td>\n",
       "    </tr>\n",
       "    <tr>\n",
       "      <th>5</th>\n",
       "      <td>minami-uwa</td>\n",
       "      <td>75.000000</td>\n",
       "      <td>0.000000</td>\n",
       "      <td>25.000000</td>\n",
       "      <td>0.000000</td>\n",
       "      <td>100.0</td>\n",
       "      <td>minami-uwa</td>\n",
       "    </tr>\n",
       "    <tr>\n",
       "      <th>6</th>\n",
       "      <td>yawatahama</td>\n",
       "      <td>60.000000</td>\n",
       "      <td>20.000000</td>\n",
       "      <td>20.000000</td>\n",
       "      <td>0.000000</td>\n",
       "      <td>100.0</td>\n",
       "      <td>yawatahama</td>\n",
       "    </tr>\n",
       "  </tbody>\n",
       "</table>\n",
       "</div>"
      ],
      "text/plain": [
       "        Unnamed: 0  short_term_evac  longterm-evac  pre-fukko  post-fukko  \\\n",
       "0  uwajima-higashi        33.333333      33.333333  16.666667   16.666667   \n",
       "1   uwajima-minami       100.000000       0.000000   0.000000    0.000000   \n",
       "2           tenryu        60.000000      40.000000   0.000000    0.000000   \n",
       "3              ozu        80.000000      20.000000   0.000000    0.000000   \n",
       "4       ozu-nougyo        66.666667      33.333333   0.000000    0.000000   \n",
       "5       minami-uwa        75.000000       0.000000  25.000000    0.000000   \n",
       "6       yawatahama        60.000000      20.000000  20.000000    0.000000   \n",
       "\n",
       "   total           school  \n",
       "0  100.0  uwajima-higashi  \n",
       "1  100.0   uwajima-minami  \n",
       "2  100.0           tenryu  \n",
       "3  100.0              ozu  \n",
       "4  100.0       ozu-nougyo  \n",
       "5  100.0       minami-uwa  \n",
       "6  100.0       yawatahama  "
      ]
     },
     "execution_count": 22,
     "metadata": {},
     "output_type": "execute_result"
    }
   ],
   "source": [
    "df2_['Unnamed: 0']\n",
    "df2_['school'] = df2_['Unnamed: 0']\n",
    "df2_ = df2_.iloc[::-1]\n",
    "df2_"
   ]
  },
  {
   "cell_type": "code",
   "execution_count": 25,
   "metadata": {},
   "outputs": [
    {
     "data": {
      "image/png": "[encoded data removed]",
      "text/plain": [
       "<Figure size 720x504 with 1 Axes>"
      ]
     },
     "metadata": {
      "needs_background": "light"
     },
     "output_type": "display_data"
    }
   ],
   "source": [
    "\n",
    "df2_['total'] = df2_[['short_term_evac', 'longterm-evac', 'pre-fukko', 'post-fukko']].sum(axis=1)\n",
    "\n",
    "# Calculate the percentage for each category\n",
    "for category in ['short_term_evac', 'longterm-evac', 'pre-fukko', 'post-fukko']:\n",
    "    df2_[category] = (df2_[category] / df2_['total']) * 100\n",
    "df2_ = df2_.iloc[::-1]\n",
    "\n",
    "# Plot the data as a stacked bar chart (horizontal bar chart)\n",
    "categories = ['short_term_evac', 'longterm-evac', 'pre-fukko', 'post-fukko']\n",
    "ax = df2_[categories].plot(kind='barh', stacked=True, figsize=(10, 7), colormap='tab20c', edgecolor='black')\n",
    "\n",
    "# Set labels and title\n",
    "ax.set_ylabel('School')\n",
    "ax.set_xlabel('Percentage')\n",
    "ax.set_title('Interest in Disaster-Related Topics by School')\n",
    "ax.set_yticklabels(df2_['school'])\n",
    "ax.legend(title='Topics', bbox_to_anchor=(1.05, 1), loc='upper left')\n",
    "\n",
    "# Show plot\n",
    "plt.tight_layout()\n",
    "plt.show()"
   ]
  },
  {
   "cell_type": "code",
   "execution_count": null,
   "metadata": {},
   "outputs": [],
   "source": []
  }
 ],
 "metadata": {
  "kernelspec": {
   "display_name": "base",
   "language": "python",
   "name": "python3"
  },
  "language_info": {
   "codemirror_mode": {
    "name": "ipython",
    "version": 3
   },
   "file_extension": ".py",
   "mimetype": "text/x-python",
   "name": "python",
   "nbconvert_exporter": "python",
   "pygments_lexer": "ipython3",
   "version": "3.9.7"
  }
 },
 "nbformat": 4,
 "nbformat_minor": 2
}
