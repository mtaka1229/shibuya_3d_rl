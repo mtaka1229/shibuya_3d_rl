{
 "cells": [
  {
   "cell_type": "code",
   "execution_count": 3,
   "metadata": {},
   "outputs": [],
   "source": [
    "import pandas as pd \n",
    "import numpy as np\n",
    "import os "
   ]
  },
  {
   "cell_type": "code",
   "execution_count": 10,
   "metadata": {},
   "outputs": [
    {
     "name": "stdout",
     "output_type": "stream",
     "text": [
      "            day   No  hour  min   ID  ID_camera   time     IN    OUT  count\n",
      "660    20221219    0     0    0  NaN          1   0:00   12.0   12.0     24\n",
      "661    20221219    1     0   10  NaN          1   0:10    9.0    9.0     18\n",
      "662    20221219    2     0   20  NaN          1   0:20   19.0    4.0     23\n",
      "663    20221219    3     0   30  NaN          1   0:30    6.0    5.0     11\n",
      "664    20221219    4     0   40  NaN          1   0:40    1.0    0.0      1\n",
      "...         ...  ...   ...  ...  ...        ...    ...    ...    ...    ...\n",
      "28243  20221219  127    23   10  NaN         14  23:10  277.0  330.0    607\n",
      "28244  20221219  128    23   20  NaN         14  23:20  282.0  342.0    624\n",
      "28245  20221219  129    23   30  NaN         14  23:30  272.0  376.0    648\n",
      "28246  20221219  130    23   40  NaN         14  23:40  355.0  289.0    644\n",
      "28247  20221219  131    23   50  NaN         14  23:50  341.0  226.0    567\n",
      "\n",
      "[1294 rows x 10 columns]\n"
     ]
    }
   ],
   "source": [
    "# CSVファイルからDataFrameを読み込む\n",
    "read_folder = '/Users/takahiromatsunaga/res2023/PPcameraTG/cameraTG'\n",
    "df = pd.read_csv(os.path.join(read_folder, 'camera_agg_result.csv'))\n",
    "daystamp = 20221219\n",
    "# 'day'列が20230130かつ'count'列が非零の行を取り出す\n",
    "filtered_df = df[(df['day'] == daystamp) & (df['count'] != 0)]\n",
    "\n",
    "# 結果を表示\n",
    "print(filtered_df)\n",
    "filtered_df.to_csv(os.path.join(read_folder, f'camera_{daystamp}.csv'))"
   ]
  },
  {
   "cell_type": "code",
   "execution_count": null,
   "metadata": {},
   "outputs": [],
   "source": []
  }
 ],
 "metadata": {
  "kernelspec": {
   "display_name": "base",
   "language": "python",
   "name": "python3"
  },
  "language_info": {
   "codemirror_mode": {
    "name": "ipython",
    "version": 3
   },
   "file_extension": ".py",
   "mimetype": "text/x-python",
   "name": "python",
   "nbconvert_exporter": "python",
   "pygments_lexer": "ipython3",
   "version": "3.9.7"
  }
 },
 "nbformat": 4,
 "nbformat_minor": 2
}
