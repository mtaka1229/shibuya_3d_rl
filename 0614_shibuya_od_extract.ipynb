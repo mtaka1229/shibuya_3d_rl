{
 "cells": [
  {
   "cell_type": "markdown",
   "metadata": {},
   "source": [
    "白井さんコードを元に，渋谷を出発地とするようなトリップを抽出\n",
    "df_diaryにODの緯度経度を紐づけるために必要\n"
   ]
  },
  {
   "cell_type": "code",
   "execution_count": 46,
   "metadata": {},
   "outputs": [],
   "source": [
    "import pandas as pd \n",
    "import numpy as np "
   ]
  },
  {
   "cell_type": "code",
   "execution_count": 47,
   "metadata": {},
   "outputs": [],
   "source": [
    "df_trip = pd.read_csv('/Users/takahiromatsunaga/res2023/PPcameraTG/PP/PP_webq/all_trip.csv',index_col = 0)\n",
    "# diaryを読み込む\n",
    "# diaryデータにocarもdcarも紐づけてから読み込んだほうがいいかもね．\n",
    "df_diary = pd.read_csv('/Users/takahiromatsunaga/res2023/PPcameraTG/PP/PP_webq/q_ans/diary_cleaned.csv')\n",
    "# loc = pd.read_csv('/Users/honokashirai/Downloads/Shibuya/データ整形/all_trip.csv',index_col = 0)"
   ]
  },
  {
   "cell_type": "code",
   "execution_count": 48,
   "metadata": {},
   "outputs": [
    {
     "name": "stdout",
     "output_type": "stream",
     "text": [
      "      Unnamed: 0   id    day         time  purpose    d    o  d_line  d_car  \\\n",
      "0              0   26  12/19  10:00-11:00      2.0  7.0  5.0     1.0    4.0   \n",
      "1              1   20  12/21  13:00-14:00     11.0  NaN  NaN    10.0    NaN   \n",
      "2              2   34  12/20  14:00-15:00      NaN  7.0  7.0     1.0    3.0   \n",
      "3              3  244  12/21  18:00-19:00      4.0  NaN  NaN     1.0    4.0   \n",
      "4              4  120  12/19    6:00-7:00      2.0  NaN  NaN     1.0    1.0   \n",
      "...          ...  ...    ...          ...      ...  ...  ...     ...    ...   \n",
      "1574        1574   78  01/28  21:00-22:00      4.0  1.0  1.0     1.0    8.0   \n",
      "1575        1575  179  01/27  17:00-18:00     11.0  NaN  NaN     1.0    8.0   \n",
      "1576        1576  105  01/30    8:00-9:00     11.0  NaN  NaN     9.0    NaN   \n",
      "1577        1577   73  01/27  18:00-19:00      4.0  1.0  1.0     4.0    3.0   \n",
      "1578        1578   84  01/29  19:00-20:00     11.0  NaN  NaN     6.0    NaN   \n",
      "\n",
      "     staire_to_gate  d_gate  o_line  o_gate staire_to_home  o_car  \n",
      "0                12     4.0     5.0     NaN            NaN    NaN  \n",
      "1               NaN     NaN     NaN     NaN            NaN    NaN  \n",
      "2                12     4.0     2.0     4.0              5    2.0  \n",
      "3                12     5.0     9.0     NaN            NaN    NaN  \n",
      "4                12     3.0     NaN     NaN            NaN    NaN  \n",
      "...             ...     ...     ...     ...            ...    ...  \n",
      "1574              6     1.0     8.0     NaN            NaN    NaN  \n",
      "1575              7     2.0    11.0     NaN            NaN    NaN  \n",
      "1576            NaN     NaN     2.0     5.0            NaN    1.0  \n",
      "1577             15     1.0     8.0     NaN            NaN    NaN  \n",
      "1578            NaN     NaN     2.0     6.0            NaN    7.0  \n",
      "\n",
      "[1579 rows x 15 columns]\n"
     ]
    }
   ],
   "source": [
    "print(df_diary)"
   ]
  },
  {
   "cell_type": "code",
   "execution_count": 49,
   "metadata": {},
   "outputs": [],
   "source": [
    "# id列を整える\n",
    "# df_diary['id'] = str(df_diary['id'])\n",
    "# df_diary['id'] = df_diary['id'].apply(lambda x: f\"23{x.zfill(3)}\").astype(int)\n",
    "df_diary['id'] = df_diary['id'].apply(lambda x: 23000 + x).astype(int)\n",
    "\n",
    "def convert_date(date_str):\n",
    "    # 日付部分を抽出（最初の \"/\" までの部分とその後の部分に分ける）\n",
    "    # date_part = date_str.split('（')[0]\n",
    "    \n",
    "    # 月と日を分割\n",
    "    month, day = map(int, date_str.split('/')) # map関数でtupleに\n",
    "    \n",
    "    # 年を決定\n",
    "    if month == 12:\n",
    "        year = 2022\n",
    "    else:\n",
    "        year = 2023\n",
    "    \n",
    "    # ISOフォーマットに変換\n",
    "    return f\"{year:04d}-{month:02d}-{day:02d}\"\n",
    "\n",
    "df_diary['day'] = df_diary['day'].apply(convert_date)\n",
    "\n",
    "from datetime import datetime\n",
    "def convert_datetime_to_date(datetime_str):\n",
    "    datetime_obj = datetime.strptime(datetime_str, '%Y-%m-%d %H:%M:%S')\n",
    "    return datetime_obj.strftime('%Y-%m-%d')\n",
    "\n",
    "def convert_str_time(time_str): # \n",
    "    a = time_str.split(':')[0]\n",
    "    return int(a)\n",
    "\n",
    "\n"
   ]
  },
  {
   "cell_type": "code",
   "execution_count": 50,
   "metadata": {},
   "outputs": [
    {
     "name": "stdout",
     "output_type": "stream",
     "text": [
      "      Unnamed: 0     id         day         time  purpose    d    o  d_line  \\\n",
      "0              0  23026  2022-12-19  10:00-11:00      2.0  7.0  5.0     1.0   \n",
      "1              1  23020  2022-12-21  13:00-14:00     11.0  NaN  NaN    10.0   \n",
      "2              2  23034  2022-12-20  14:00-15:00      NaN  7.0  7.0     1.0   \n",
      "3              3  23244  2022-12-21  18:00-19:00      4.0  NaN  NaN     1.0   \n",
      "4              4  23120  2022-12-19    6:00-7:00      2.0  NaN  NaN     1.0   \n",
      "...          ...    ...         ...          ...      ...  ...  ...     ...   \n",
      "1574        1574  23078  2023-01-28  21:00-22:00      4.0  1.0  1.0     1.0   \n",
      "1575        1575  23179  2023-01-27  17:00-18:00     11.0  NaN  NaN     1.0   \n",
      "1576        1576  23105  2023-01-30    8:00-9:00     11.0  NaN  NaN     9.0   \n",
      "1577        1577  23073  2023-01-27  18:00-19:00      4.0  1.0  1.0     4.0   \n",
      "1578        1578  23084  2023-01-29  19:00-20:00     11.0  NaN  NaN     6.0   \n",
      "\n",
      "      d_car staire_to_gate  d_gate  o_line  o_gate staire_to_home  o_car  \n",
      "0       4.0             12     4.0     5.0     NaN            NaN    NaN  \n",
      "1       NaN            NaN     NaN     NaN     NaN            NaN    NaN  \n",
      "2       3.0             12     4.0     2.0     4.0              5    2.0  \n",
      "3       4.0             12     5.0     9.0     NaN            NaN    NaN  \n",
      "4       1.0             12     3.0     NaN     NaN            NaN    NaN  \n",
      "...     ...            ...     ...     ...     ...            ...    ...  \n",
      "1574    8.0              6     1.0     8.0     NaN            NaN    NaN  \n",
      "1575    8.0              7     2.0    11.0     NaN            NaN    NaN  \n",
      "1576    NaN            NaN     NaN     2.0     5.0            NaN    1.0  \n",
      "1577    3.0             15     1.0     8.0     NaN            NaN    NaN  \n",
      "1578    NaN            NaN     NaN     2.0     6.0            NaN    7.0  \n",
      "\n",
      "[1579 rows x 15 columns]\n"
     ]
    }
   ],
   "source": [
    "print(df_diary)"
   ]
  },
  {
   "cell_type": "code",
   "execution_count": 51,
   "metadata": {},
   "outputs": [
    {
     "name": "stdout",
     "output_type": "stream",
     "text": [
      "0       10\n",
      "1       13\n",
      "2       14\n",
      "3       18\n",
      "4        6\n",
      "        ..\n",
      "1574    21\n",
      "1575    17\n",
      "1576     8\n",
      "1577    18\n",
      "1578    19\n",
      "Name: arr_time, Length: 1579, dtype: int64\n"
     ]
    }
   ],
   "source": [
    "df_diary['arr_time'] = df_diary['time'].apply(convert_str_time) # これは着いた時刻の一番最初の時間hourを出している\n",
    "print(df_diary['arr_time']) "
   ]
  },
  {
   "cell_type": "markdown",
   "metadata": {},
   "source": [
    "出発地が駅まちのtripに着目する場合は出発時刻と出発地緯度経度に着目する"
   ]
  },
  {
   "cell_type": "code",
   "execution_count": 52,
   "metadata": {},
   "outputs": [],
   "source": [
    "df_trip['日付'] = df_trip['出発時刻'].apply(convert_datetime_to_date)\n",
    "df_trip['出発時刻'] = pd.to_datetime(df_trip['出発時刻'])\n",
    "df_trip['時間'] = df_trip['出発時刻'].dt.hour"
   ]
  },
  {
   "cell_type": "code",
   "execution_count": 53,
   "metadata": {},
   "outputs": [
    {
     "name": "stdout",
     "output_type": "stream",
     "text": [
      "      ユーザーID          日付  時間      出発地緯度       出発地経度  O_cell\n",
      "5404   23001  2023-01-09   8  35.657482  139.702622       1\n",
      "3466   23001  2023-01-10   7  35.656372  139.702808       1\n",
      "521    23002  2022-12-19  19  35.658111  139.698929       1\n",
      "520    23002  2022-12-19  19  35.657393  139.697121       1\n",
      "1214   23002  2022-12-20  19  35.660637  139.700777       1\n",
      "...      ...         ...  ..        ...         ...     ...\n",
      "9      23259  2023-01-11  18  35.658119  139.702204       1\n",
      "20     23259  2023-01-27  14  35.659396  139.700047       1\n",
      "122    23259  2023-01-30  19  35.659040  139.700447       1\n",
      "57     23260  2023-01-28   9  35.659154  139.702222       1\n",
      "7      23260  2023-01-29  11  35.658713  139.701957       1\n",
      "\n",
      "[1079 rows x 6 columns]\n"
     ]
    }
   ],
   "source": [
    "df_trip = df_trip[['ユーザーID','日付', '時間', '出発地緯度', '出発地経度', 'O_cell']]\n",
    "df_trip = df_trip[df_trip['O_cell']==1]\n",
    "print(df_trip)"
   ]
  },
  {
   "cell_type": "code",
   "execution_count": 54,
   "metadata": {},
   "outputs": [
    {
     "name": "stdout",
     "output_type": "stream",
     "text": [
      "     Unnamed: 0     id         day         time  purpose    d    o  d_line  \\\n",
      "0             0  23026  2022-12-19  10:00-11:00      2.0  7.0  5.0     1.0   \n",
      "1             2  23034  2022-12-20  14:00-15:00      NaN  7.0  7.0     1.0   \n",
      "2             3  23244  2022-12-21  18:00-19:00      4.0  NaN  NaN     1.0   \n",
      "3             5  23005  2022-12-22  17:00-18:00      2.0  1.0  1.0     8.0   \n",
      "4             8  23231  2022-12-20  13:00-14:00     11.0  NaN  NaN     2.0   \n",
      "..          ...    ...         ...          ...      ...  ...  ...     ...   \n",
      "886        1548  23195  2023-01-29  13:00-14:00      5.0  NaN  5.0     2.0   \n",
      "887        1548  23195  2023-01-29  13:00-14:00      5.0  NaN  5.0     2.0   \n",
      "888        1552  23156  2023-01-30    8:00-9:00      1.0  NaN  NaN     1.0   \n",
      "889        1560  23040  2023-01-29  12:00-13:00      8.0  NaN  2.0     1.0   \n",
      "890        1561  23171  2023-01-30  17:00-18:00      8.0  5.0  1.0     2.0   \n",
      "\n",
      "     d_car staire_to_gate  ...  o_gate  staire_to_home  o_car arr_time  \\\n",
      "0      4.0             12  ...     NaN             NaN    NaN       10   \n",
      "1      3.0             12  ...     4.0               5    2.0       14   \n",
      "2      4.0             12  ...     NaN             NaN    NaN       18   \n",
      "3      NaN            NaN  ...     1.0               6   10.0       17   \n",
      "4      4.0              5  ...     5.0              12    1.0       13   \n",
      "..     ...            ...  ...     ...             ...    ...      ...   \n",
      "886    3.0             11  ...     7.0             NaN    6.0       13   \n",
      "887    3.0             11  ...     7.0             NaN    6.0       13   \n",
      "888    4.0              7  ...     NaN             NaN    NaN        8   \n",
      "889    1.0             12  ...     6.0             NaN    5.0       12   \n",
      "890    6.0              7  ...     4.0             NaN    2.0       17   \n",
      "\n",
      "     ユーザーID          日付  時間      出発地緯度       出発地経度  O_cell  \n",
      "0     23026  2022-12-19  11  35.659624  139.699793       1  \n",
      "1     23034  2022-12-20  15  35.661194  139.698300       1  \n",
      "2     23244  2022-12-21  18  35.659481  139.701597       1  \n",
      "3     23005  2022-12-22  17  35.657916  139.701920       1  \n",
      "4     23231  2022-12-20  14  35.658515  139.701615       1  \n",
      "..      ...         ...  ..        ...         ...     ...  \n",
      "886   23195  2023-01-29  14  35.663147  139.700730       1  \n",
      "887   23195  2023-01-29  14  35.658291  139.698335       1  \n",
      "888   23156  2023-01-30   8  35.653565  139.692438       1  \n",
      "889   23040  2023-01-29  13  35.657413  139.706326       1  \n",
      "890   23171  2023-01-30  17  35.659424  139.699548       1  \n",
      "\n",
      "[891 rows x 22 columns]\n"
     ]
    }
   ],
   "source": [
    "df_diary['id'] = df_diary['id'].astype(int)\n",
    "df_trip['ユーザーID'] = df_trip['ユーザーID'].astype(int)\n",
    "\n",
    "df_diary = pd.merge(df_diary, df_trip, right_on = ['ユーザーID', '日付'], left_on = ['id', 'day'], how = 'inner')\n",
    "#df_trip['abs_diff'] = (df['時間'] - df['arr_time']).abs()\n",
    "print(df_diary)\n"
   ]
  },
  {
   "cell_type": "code",
   "execution_count": 55,
   "metadata": {},
   "outputs": [],
   "source": [
    "df_diary['abs_diff'] = (df_diary['時間'] - df_diary['arr_time']).abs()\n",
    "\n",
    "df_filtered = df_diary[df_diary['abs_diff'] <= 2].drop(columns=['abs_diff'])\n",
    "# df_filtered = df_filtered[['トリップID', 'アプリのID', '渋谷駅を訪れた日付を教えてください．', '渋谷駅を訪れた時間帯を教えてください．', '到着地緯度', '到着地経度']]\n"
   ]
  },
  {
   "cell_type": "code",
   "execution_count": 56,
   "metadata": {},
   "outputs": [
    {
     "name": "stdout",
     "output_type": "stream",
     "text": [
      "Index(['Unnamed: 0', 'id', 'day', 'time', 'purpose', 'd', 'o', 'd_line',\n",
      "       'd_car', 'staire_to_gate', 'd_gate', 'o_line', 'o_gate',\n",
      "       'staire_to_home', 'o_car', 'arr_time', 'ユーザーID', '日付', '時間', '出発地緯度',\n",
      "       '出発地経度', 'O_cell'],\n",
      "      dtype='object')\n"
     ]
    }
   ],
   "source": [
    "print(df_filtered.columns)"
   ]
  },
  {
   "cell_type": "code",
   "execution_count": 57,
   "metadata": {},
   "outputs": [],
   "source": [
    "df_filtered = df_filtered[['id', 'day', 'time', 'purpose', '出発地緯度', '出発地経度']]\n",
    "\n"
   ]
  },
  {
   "cell_type": "code",
   "execution_count": 58,
   "metadata": {},
   "outputs": [
    {
     "data": {
      "text/html": [
       "<div>\n",
       "<style scoped>\n",
       "    .dataframe tbody tr th:only-of-type {\n",
       "        vertical-align: middle;\n",
       "    }\n",
       "\n",
       "    .dataframe tbody tr th {\n",
       "        vertical-align: top;\n",
       "    }\n",
       "\n",
       "    .dataframe thead th {\n",
       "        text-align: right;\n",
       "    }\n",
       "</style>\n",
       "<table border=\"1\" class=\"dataframe\">\n",
       "  <thead>\n",
       "    <tr style=\"text-align: right;\">\n",
       "      <th></th>\n",
       "      <th>id</th>\n",
       "      <th>day</th>\n",
       "      <th>time</th>\n",
       "      <th>purpose</th>\n",
       "      <th>出発地緯度</th>\n",
       "      <th>出発地経度</th>\n",
       "    </tr>\n",
       "  </thead>\n",
       "  <tbody>\n",
       "    <tr>\n",
       "      <th>0</th>\n",
       "      <td>23026</td>\n",
       "      <td>2022-12-19</td>\n",
       "      <td>10:00-11:00</td>\n",
       "      <td>2.0</td>\n",
       "      <td>35.659624</td>\n",
       "      <td>139.699793</td>\n",
       "    </tr>\n",
       "    <tr>\n",
       "      <th>1</th>\n",
       "      <td>23034</td>\n",
       "      <td>2022-12-20</td>\n",
       "      <td>14:00-15:00</td>\n",
       "      <td>NaN</td>\n",
       "      <td>35.661194</td>\n",
       "      <td>139.698300</td>\n",
       "    </tr>\n",
       "    <tr>\n",
       "      <th>2</th>\n",
       "      <td>23244</td>\n",
       "      <td>2022-12-21</td>\n",
       "      <td>18:00-19:00</td>\n",
       "      <td>4.0</td>\n",
       "      <td>35.659481</td>\n",
       "      <td>139.701597</td>\n",
       "    </tr>\n",
       "    <tr>\n",
       "      <th>3</th>\n",
       "      <td>23005</td>\n",
       "      <td>2022-12-22</td>\n",
       "      <td>17:00-18:00</td>\n",
       "      <td>2.0</td>\n",
       "      <td>35.657916</td>\n",
       "      <td>139.701920</td>\n",
       "    </tr>\n",
       "    <tr>\n",
       "      <th>4</th>\n",
       "      <td>23231</td>\n",
       "      <td>2022-12-20</td>\n",
       "      <td>13:00-14:00</td>\n",
       "      <td>11.0</td>\n",
       "      <td>35.658515</td>\n",
       "      <td>139.701615</td>\n",
       "    </tr>\n",
       "    <tr>\n",
       "      <th>...</th>\n",
       "      <td>...</td>\n",
       "      <td>...</td>\n",
       "      <td>...</td>\n",
       "      <td>...</td>\n",
       "      <td>...</td>\n",
       "      <td>...</td>\n",
       "    </tr>\n",
       "    <tr>\n",
       "      <th>886</th>\n",
       "      <td>23195</td>\n",
       "      <td>2023-01-29</td>\n",
       "      <td>13:00-14:00</td>\n",
       "      <td>5.0</td>\n",
       "      <td>35.663147</td>\n",
       "      <td>139.700730</td>\n",
       "    </tr>\n",
       "    <tr>\n",
       "      <th>887</th>\n",
       "      <td>23195</td>\n",
       "      <td>2023-01-29</td>\n",
       "      <td>13:00-14:00</td>\n",
       "      <td>5.0</td>\n",
       "      <td>35.658291</td>\n",
       "      <td>139.698335</td>\n",
       "    </tr>\n",
       "    <tr>\n",
       "      <th>888</th>\n",
       "      <td>23156</td>\n",
       "      <td>2023-01-30</td>\n",
       "      <td>8:00-9:00</td>\n",
       "      <td>1.0</td>\n",
       "      <td>35.653565</td>\n",
       "      <td>139.692438</td>\n",
       "    </tr>\n",
       "    <tr>\n",
       "      <th>889</th>\n",
       "      <td>23040</td>\n",
       "      <td>2023-01-29</td>\n",
       "      <td>12:00-13:00</td>\n",
       "      <td>8.0</td>\n",
       "      <td>35.657413</td>\n",
       "      <td>139.706326</td>\n",
       "    </tr>\n",
       "    <tr>\n",
       "      <th>890</th>\n",
       "      <td>23171</td>\n",
       "      <td>2023-01-30</td>\n",
       "      <td>17:00-18:00</td>\n",
       "      <td>8.0</td>\n",
       "      <td>35.659424</td>\n",
       "      <td>139.699548</td>\n",
       "    </tr>\n",
       "  </tbody>\n",
       "</table>\n",
       "<p>602 rows × 6 columns</p>\n",
       "</div>"
      ],
      "text/plain": [
       "        id         day         time  purpose      出発地緯度       出発地経度\n",
       "0    23026  2022-12-19  10:00-11:00      2.0  35.659624  139.699793\n",
       "1    23034  2022-12-20  14:00-15:00      NaN  35.661194  139.698300\n",
       "2    23244  2022-12-21  18:00-19:00      4.0  35.659481  139.701597\n",
       "3    23005  2022-12-22  17:00-18:00      2.0  35.657916  139.701920\n",
       "4    23231  2022-12-20  13:00-14:00     11.0  35.658515  139.701615\n",
       "..     ...         ...          ...      ...        ...         ...\n",
       "886  23195  2023-01-29  13:00-14:00      5.0  35.663147  139.700730\n",
       "887  23195  2023-01-29  13:00-14:00      5.0  35.658291  139.698335\n",
       "888  23156  2023-01-30    8:00-9:00      1.0  35.653565  139.692438\n",
       "889  23040  2023-01-29  12:00-13:00      8.0  35.657413  139.706326\n",
       "890  23171  2023-01-30  17:00-18:00      8.0  35.659424  139.699548\n",
       "\n",
       "[602 rows x 6 columns]"
      ]
     },
     "execution_count": 58,
     "metadata": {},
     "output_type": "execute_result"
    }
   ],
   "source": [
    "df_filtered"
   ]
  },
  {
   "cell_type": "code",
   "execution_count": 59,
   "metadata": {},
   "outputs": [],
   "source": [
    "df_filtered.to_csv('/Users/takahiromatsunaga/res2023/PPcameraTG/PP/PP_webq/gate_MNL/filtered_shibu_o_loc.csv')"
   ]
  },
  {
   "cell_type": "code",
   "execution_count": null,
   "metadata": {},
   "outputs": [],
   "source": []
  }
 ],
 "metadata": {
  "kernelspec": {
   "display_name": "base",
   "language": "python",
   "name": "python3"
  },
  "language_info": {
   "codemirror_mode": {
    "name": "ipython",
    "version": 3
   },
   "file_extension": ".py",
   "mimetype": "text/x-python",
   "name": "python",
   "nbconvert_exporter": "python",
   "pygments_lexer": "ipython3",
   "version": "3.9.7"
  }
 },
 "nbformat": 4,
 "nbformat_minor": 2
}
