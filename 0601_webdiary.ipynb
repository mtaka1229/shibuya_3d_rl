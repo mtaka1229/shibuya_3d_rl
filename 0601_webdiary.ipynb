{
 "cells": [
  {
   "cell_type": "markdown",
   "metadata": {},
   "source": [
    "web diaryの集計の総本山コード"
   ]
  },
  {
   "cell_type": "code",
   "execution_count": 2,
   "metadata": {},
   "outputs": [
    {
     "name": "stdout",
     "output_type": "stream",
     "text": [
      "         id    day         time    purpose              d            o  \\\n",
      "0     23026  12/19  10:00-11:00  仕事（勤務先以外）  渋谷駅前スクランブル交差点     渋谷マークシティ   \n",
      "1     23020  12/21  13:00-14:00     乗り換えのみ            NaN          NaN   \n",
      "2     23034  12/20  14:00-15:00         趣味  渋谷駅前スクランブル交差点  最初に訪れた場所と同じ   \n",
      "3     23244  12/21  18:00-19:00         帰宅           特になし         特になし   \n",
      "4     23120  12/19    6:00-7:00  仕事（勤務先以外）        通り過ぎただけ  そのまま会社まで歩いた   \n",
      "...     ...    ...          ...        ...            ...          ...   \n",
      "1574  23078  01/28  21:00-22:00         帰宅   渋谷スクランブルスクエア  最初に訪れた場所と同じ   \n",
      "1575  23179  01/27  17:00-18:00     乗り換えのみ            NaN          NaN   \n",
      "1576  23105  01/30    8:00-9:00     乗り換えのみ            NaN          NaN   \n",
      "1577  23073  01/27  18:00-19:00         帰宅   渋谷スクランブルスクエア  最初に訪れた場所と同じ   \n",
      "1578  23084  01/29  19:00-20:00     乗り換えのみ            NaN          NaN   \n",
      "\n",
      "                d_line  d_car staire_to_gate                d_gate  \\\n",
      "0     山手線内回り（池袋→渋谷→大崎）    4.0             12  4（ハチ公改札 スクランブル交差点方面）   \n",
      "1               京王井の頭線    NaN            NaN                   NaN   \n",
      "2     山手線内回り（池袋→渋谷→大崎）    3.0             12  4（ハチ公改札 スクランブル交差点方面）   \n",
      "3     山手線内回り（池袋→渋谷→大崎）    4.0             12         5（ハチ公改札 ハチ公口）   \n",
      "4     山手線内回り（池袋→渋谷→大崎）    1.0             12         3（ハチ公改札 宮益坂口）   \n",
      "...                ...    ...            ...                   ...   \n",
      "1574  山手線内回り（池袋→渋谷→大崎）    8.0              6             1（南改札 東口）   \n",
      "1575  山手線内回り（池袋→渋谷→大崎）    8.0              7             2（南改札 西口）   \n",
      "1576           東急田園都市線    NaN            NaN                   NaN   \n",
      "1577             JR埼京線    3.0             15             1（南改札 東口）   \n",
      "1578          東京メトロ銀座線    NaN            NaN                   NaN   \n",
      "\n",
      "                o_line                o_gate staire_to_home  o_car  \n",
      "0            東京メトロ副都心線                   NaN            NaN    NaN  \n",
      "1                   徒歩                   NaN            NaN    NaN  \n",
      "2     山手線外回り（大崎→渋谷→池袋）  4（ハチ公改札 スクランブル交差点方面）              5    2.0  \n",
      "3              東急田園都市線                   NaN            NaN    NaN  \n",
      "4          そのまま会社まで歩いた                   NaN            NaN    NaN  \n",
      "...                ...                   ...            ...    ...  \n",
      "1574             東急東横線                   NaN            NaN    NaN  \n",
      "1575                バス                   NaN            NaN    NaN  \n",
      "1576  山手線外回り（大崎→渋谷→池袋）         5（ハチ公改札 ハチ公口）            NaN    1.0  \n",
      "1577             東急東横線                   NaN            NaN    NaN  \n",
      "1578  山手線外回り（大崎→渋谷→池袋）            6（中央改札 東口）            NaN    7.0  \n",
      "\n",
      "[1579 rows x 14 columns]\n"
     ]
    }
   ],
   "source": [
    "import pandas as pd \n",
    "import datetime\n",
    "df = pd.read_csv('/Users/takahiromatsunaga/res2023/PPcameraTG/PP/PP_webq/q_ans/diary.csv', encoding='shift-jis')\n",
    "\n",
    "df_cleaned = df.copy()\n",
    "df_cleaned['id'] = df_cleaned['id'].str.replace('jrs', '', regex=True) # .astype(int)\n",
    "df_cleaned['id'] = df_cleaned['id'].apply(lambda x: f\"23{x.zfill(3)}\").astype(int)\n",
    "\n",
    "# date列をdatetimeに書き換える\n",
    "df_cleaned['day'] = df_cleaned['day'].str.extract(r'(\\d{1,2}/\\d{1,2})') # 正規表現で合致する部分を抽出\n",
    "df_cleaned['day'] = pd.to_datetime(df_cleaned['day'], format='%m/%d').dt.strftime('%m/%d')\n",
    "\n",
    "# indexをリセット\n",
    "df_cleaned = df_cleaned.reset_index(drop=True)\n",
    "print(df_cleaned)"
   ]
  },
  {
   "cell_type": "code",
   "execution_count": 3,
   "metadata": {},
   "outputs": [
    {
     "name": "stdout",
     "output_type": "stream",
     "text": [
      "         id    day         time  purpose  d  o  d_line  d_car staire_to_gate  \\\n",
      "0     23026  12/19  10:00-11:00        2  7  5       1    4.0             12   \n",
      "1     23020  12/21  13:00-14:00       11  0  0      10    NaN            NaN   \n",
      "2     23034  12/20  14:00-15:00        0  7  7       1    3.0             12   \n",
      "3     23244  12/21  18:00-19:00        4  0  0       1    4.0             12   \n",
      "4     23120  12/19    6:00-7:00        2  0  0       1    1.0             12   \n",
      "...     ...    ...          ...      ... .. ..     ...    ...            ...   \n",
      "1574  23078  01/28  21:00-22:00        4  1  1       1    8.0              6   \n",
      "1575  23179  01/27  17:00-18:00       11  0  0       1    8.0              7   \n",
      "1576  23105  01/30    8:00-9:00       11  0  0       9    NaN            NaN   \n",
      "1577  23073  01/27  18:00-19:00        4  1  1       4    3.0             15   \n",
      "1578  23084  01/29  19:00-20:00       11  0  0       6    NaN            NaN   \n",
      "\n",
      "      d_gate  o_line  o_gate staire_to_home  o_car  \n",
      "0          1       5       0            NaN    NaN  \n",
      "1          0       0       0            NaN    NaN  \n",
      "2          1       2       1              5    2.0  \n",
      "3          1       9       0            NaN    NaN  \n",
      "4          1       0       0            NaN    NaN  \n",
      "...      ...     ...     ...            ...    ...  \n",
      "1574       3       8       0            NaN    NaN  \n",
      "1575       3      11       0            NaN    NaN  \n",
      "1576       0       2       1            NaN    1.0  \n",
      "1577       3       8       0            NaN    NaN  \n",
      "1578       0       2       2            NaN    7.0  \n",
      "\n",
      "[1579 rows x 14 columns]\n"
     ]
    }
   ],
   "source": [
    "import numpy as np\n",
    "purpose_dict = {'仕事（勤務先）':1, '仕事（勤務先以外）':2,'通学':3,'帰宅':4,'買物':5,'食事':6,'習い事':7,'娯楽':8,'散策':9, '宿泊':10,'乗り換えのみ':11} \n",
    "d_dict = {'渋谷スクランブルスクエア':1,'渋谷ヒカリエ':2,'渋谷109':3,'渋谷フクラス':4,'渋谷マークシティ':5,'渋谷ストリーム':6,'渋谷駅前スクランブル交差点':7}\n",
    "o_dict = {'渋谷スクランブルスクエア':1,'渋谷ヒカリエ':2,'渋谷109':3,'渋谷フクラス':4,'渋谷マークシティ':5,'渋谷ストリーム':6,'最初に訪れた場所と同じ':7}\n",
    "line_dict = {'山手線内回り（池袋→渋谷→大崎）':1, '山手線外回り（大崎→渋谷→池袋）':2, 'JR湘南新宿ライン':3, 'JR埼京線':4, '東京メトロ副都心線':5, '東京メトロ銀座線':6, '東京メトロ半蔵門線':7, '東急東横線':8, '東急田園都市線':9, '京王井の頭線':10, 'バス':11, 'タクシー':12}\n",
    "#gate_dict = {'1（南改札 東口）':1, '2（南改札 西口）':2, '3（ハチ公改札 宮益坂口）':3, '4（ハチ公改札 スクランブル交差点方面）':4, '5（ハチ公改札 ハチ公口）':5, '6（中央改札 東口）':6, '7（中央改札 京王井の頭線方面）':7, '8（中央改札 銀座線乗換）':8, '9（新南口）':9, '上記以外の出入り口を利用':10}\n",
    "gate_dict = {'1（南改札 東口）':3, '2（南改札 西口）':3, '3（ハチ公改札 宮益坂口）':1, '4（ハチ公改札 スクランブル交差点方面）':1, '5（ハチ公改札 ハチ公口）':1, '6（中央改札 東口）':2, '7（中央改札 京王井の頭線方面）':2, '8（中央改札 銀座線乗換）':2, '9（新南口）':4, '上記以外の出入り口を利用':5}\n",
    "\n",
    "df_cleaned['purpose'] = df_cleaned['purpose'].map(purpose_dict).fillna(0).astype(int)\n",
    "df_cleaned['d'] = df_cleaned['d'].map(d_dict).fillna(0).astype(int)\n",
    "df_cleaned['o'] = df_cleaned['o'].map(o_dict).fillna(0).astype(int)\n",
    "df_cleaned['o_line'] = df_cleaned['o_line'].map(line_dict).fillna(0).astype(int)\n",
    "df_cleaned['d_line'] = df_cleaned['d_line'].map(line_dict).fillna(0).astype(int)\n",
    "df_cleaned['d_gate'] = df_cleaned['d_gate'].map(gate_dict).fillna(0).astype(int)\n",
    "df_cleaned['o_gate'] = df_cleaned['o_gate'].map(gate_dict).fillna(0).astype(int)\n",
    "\n",
    "# 7の場合，d_dictを参照させる\n",
    "df_cleaned['o'] = df_cleaned.apply(lambda x: x['d'] if x['o'] == 7 else x['o'], axis=1)\n",
    "\n",
    "# 確認\n",
    "print(df_cleaned)"
   ]
  },
  {
   "cell_type": "markdown",
   "metadata": {},
   "source": [
    "降車位置に対してミクロNWでのノードidを紐づける"
   ]
  },
  {
   "cell_type": "code",
   "execution_count": 4,
   "metadata": {},
   "outputs": [
    {
     "name": "stdout",
     "output_type": "stream",
     "text": [
      "         id    day         time  purpose  d  o  d_line  d_car staire_to_gate  \\\n",
      "0     23026  12/19  10:00-11:00        2  7  5       1    4.0             12   \n",
      "1     23020  12/21  13:00-14:00       11  0  0      10    NaN            NaN   \n",
      "2     23034  12/20  14:00-15:00        0  7  7       1    3.0             12   \n",
      "3     23244  12/21  18:00-19:00        4  0  0       1    4.0             12   \n",
      "4     23120  12/19    6:00-7:00        2  0  0       1    1.0             12   \n",
      "...     ...    ...          ...      ... .. ..     ...    ...            ...   \n",
      "1574  23078  01/28  21:00-22:00        4  1  1       1    8.0              6   \n",
      "1575  23179  01/27  17:00-18:00       11  0  0       1    8.0              7   \n",
      "1576  23105  01/30    8:00-9:00       11  0  0       9    NaN            NaN   \n",
      "1577  23073  01/27  18:00-19:00        4  1  1       4    3.0             15   \n",
      "1578  23084  01/29  19:00-20:00       11  0  0       6    NaN            NaN   \n",
      "\n",
      "      d_gate  o_line  o_gate staire_to_home  o_car  dcar_node  ocar_node  \n",
      "0          1       5       0            NaN    NaN         12          0  \n",
      "1          0       0       0            NaN    NaN          0          0  \n",
      "2          1       2       1              5    2.0         13          0  \n",
      "3          1       9       0            NaN    NaN         12          0  \n",
      "4          1       0       0            NaN    NaN         15          0  \n",
      "...      ...     ...     ...            ...    ...        ...        ...  \n",
      "1574       3       8       0            NaN    NaN          9          0  \n",
      "1575       3      11       0            NaN    NaN          9          0  \n",
      "1576       0       2       1            NaN    1.0          0          0  \n",
      "1577       3       8       0            NaN    NaN          3          0  \n",
      "1578       0       2       2            NaN    7.0          0          0  \n",
      "\n",
      "[1579 rows x 16 columns]\n"
     ]
    }
   ],
   "source": [
    "## 乗降位置で号車を決める．一旦降車方向のみを見る\n",
    "# 満たしてないものを落としたいがどっちもnanでないものは少ないと思われるため\n",
    "df_cleaned['dcar_node'] = 0\n",
    "df_cleaned['ocar_node'] = 0\n",
    "\n",
    "for i in range(len(df_cleaned)):\n",
    "    if pd.isna(df_cleaned.loc[i, 'd_car']):\n",
    "        continue\n",
    "    o = int(df_cleaned.loc[i, 'd_car']) # 降車位置\n",
    "    if '12/' in df_cleaned.loc[i, 'day']:\n",
    "        if df_cleaned.loc[i, 'd_line'] == 1: # 内回り\n",
    "            if o == 1:\n",
    "                df_cleaned.loc[i, 'dcar_node'] = 15\n",
    "            elif o == 2:\n",
    "                df_cleaned.loc[i, 'dcar_node'] = 14\n",
    "            elif o == 3:\n",
    "                df_cleaned.loc[i, 'dcar_node'] = 13\n",
    "            elif o == 4:\n",
    "                df_cleaned.loc[i, 'dcar_node'] = 12\n",
    "            elif o == 5:\n",
    "                df_cleaned.loc[i, 'dcar_node'] = 11\n",
    "            elif o == 6:\n",
    "                df_cleaned.loc[i, 'dcar_node'] = 10\n",
    "            elif o == 7 or o == 8:\n",
    "                df_cleaned.loc[i, 'dcar_node'] = 9\n",
    "            elif 9 <= o <= 11:\n",
    "                df_cleaned.loc[i, 'dcar_node'] = 8\n",
    "            else:\n",
    "                df_cleaned.loc[i, 'dcar_node'] = 14 # どこにも載ってなければ14にしとく（適当）\n",
    "\n",
    "        elif df_cleaned.loc[i, 'd_line'] == 2: # 外回り\n",
    "            if o == 1 or o == 2:\n",
    "                df_cleaned.loc[i, 'dcar_node'] = 23\n",
    "            elif o == 3:\n",
    "                df_cleaned.loc[i, 'dcar_node'] = 22\n",
    "            elif o == 4 or o == 5:\n",
    "                df_cleaned.loc[i, 'dcar_node'] = 21\n",
    "            elif o == 6:\n",
    "                df_cleaned.loc[i, 'dcar_node'] = 20\n",
    "            elif o == 7:\n",
    "                df_cleaned.loc[i, 'dcar_node'] = 19\n",
    "            elif o == 8 or o == 9:\n",
    "                df_cleaned.loc[i, 'dcar_node'] = 18\n",
    "            elif o == 10:\n",
    "                df_cleaned.loc[i, 'dcar_node'] = 17\n",
    "            elif o == 11:\n",
    "                df_cleaned.loc[i, 'dcar_node'] = 16\n",
    "            else:\n",
    "                df_cleaned.loc[i, 'dcar_node'] = 21 # どこにも載ってなければ14にしとく（適当）\n",
    "\n",
    "        elif df_cleaned.loc[i, 'd_line'] == 3: # 湘南新宿\n",
    "            if o == 15:\n",
    "                df_cleaned.loc[i, 'dcar_node'] = 7\n",
    "            elif o == 14:\n",
    "                df_cleaned.loc[i, 'dcar_node'] = 6\n",
    "            elif o == 13:\n",
    "                df_cleaned.loc[i, 'dcar_node'] = 5\n",
    "            elif o == 12:\n",
    "                df_cleaned.loc[i, 'dcar_node'] = 4\n",
    "            elif o == 10 or o == 11:\n",
    "                df_cleaned.loc[i, 'dcar_node'] = 3\n",
    "            elif o == 9:\n",
    "                df_cleaned.loc[i, 'dcar_node'] = 2\n",
    "            elif o <= 8:\n",
    "                df_cleaned.loc[i, 'dcar_node'] = 1\n",
    "            else:\n",
    "                df_cleaned.loc[i, 'dcar_node'] = 4 # どこにも載ってなければ4にしとく（適当）\n",
    "\n",
    "        elif df_cleaned.loc[i, 'd_line'] == 4: # 埼京\n",
    "            if o == 1:\n",
    "                df_cleaned.loc[i, 'dcar_node'] = 5\n",
    "            elif o == 2:\n",
    "                df_cleaned.loc[i, 'dcar_node'] = 4\n",
    "            elif o == 3:\n",
    "                df_cleaned.loc[i, 'dcar_node'] = 3\n",
    "            elif o == 4:\n",
    "                df_cleaned.loc[i, 'dcar_node'] = 2\n",
    "            elif o >= 5:\n",
    "                df_cleaned.loc[i, 'dcar_node'] = 1\n",
    "            else:\n",
    "                df_cleaned.loc[i, 'dcar_node'] = 3 # どこにも載ってなければ3にしとく（適当）\n",
    "\n",
    "        else:\n",
    "            continue # 他の路線だと改札関係ないので削除\n",
    "\n",
    "    else: # 工事後なのでホーム変わってる\n",
    "        if df_cleaned.loc[i, 'd_line'] == 1 or df_cleaned.loc[i, 'd_line'] == 2: # 山手\n",
    "            if o == 1:\n",
    "                df_cleaned.loc[i, 'dcar_node'] = 15\n",
    "            elif o == 2:\n",
    "                df_cleaned.loc[i, 'dcar_node'] = 14\n",
    "            elif o == 3:\n",
    "                df_cleaned.loc[i, 'dcar_node'] = 13\n",
    "            elif o == 4:\n",
    "                df_cleaned.loc[i, 'dcar_node'] = 12\n",
    "            elif o == 5:\n",
    "                df_cleaned.loc[i, 'dcar_node'] = 11\n",
    "            elif o == 6:\n",
    "                df_cleaned.loc[i, 'dcar_node'] = 10\n",
    "            elif o == 7 or o == 8:\n",
    "                df_cleaned.loc[i, 'dcar_node'] = 9\n",
    "            elif 9 <= o <= 11:\n",
    "                df_cleaned.loc[i, 'dcar_node'] = 8\n",
    "            else:\n",
    "                df_cleaned.loc[i, 'dcar_node'] = 14 # どこにも載ってなければ14にしとく（適当）\n",
    "\n",
    "        # 湘南・埼京は条件同じ\n",
    "        elif df_cleaned.loc[i, 'd_line'] == 3: # 湘南新宿\n",
    "            if o == 15:\n",
    "                df_cleaned.loc[i, 'dcar_node'] = 7\n",
    "            elif o == 14:\n",
    "                df_cleaned.loc[i, 'dcar_node'] = 6\n",
    "            elif o == 13:\n",
    "                df_cleaned.loc[i, 'dcar_node'] = 5\n",
    "            elif o == 12:\n",
    "                df_cleaned.loc[i, 'dcar_node'] = 4\n",
    "            elif o == 10 or o == 11:\n",
    "                df_cleaned.loc[i, 'dcar_node'] = 3\n",
    "            elif o == 9:\n",
    "                df_cleaned.loc[i, 'dcar_node'] = 2\n",
    "            elif o <= 8:\n",
    "                df_cleaned.loc[i, 'dcar_node'] = 1\n",
    "            else:\n",
    "                df_cleaned.loc[i, 'dcar_node'] = 4 # どこにも載ってなければ4にしとく（適当）\n",
    "\n",
    "        elif df_cleaned.loc[i, 'd_line'] == 4: # 埼京\n",
    "            if o == 1:\n",
    "                df_cleaned.loc[i, 'dcar_node'] = 5\n",
    "            elif o == 2:\n",
    "                df_cleaned.loc[i, 'dcar_node'] = 4\n",
    "            elif o == 3:\n",
    "                df_cleaned.loc[i, 'dcar_node'] = 3\n",
    "            elif o == 4:\n",
    "                df_cleaned.loc[i, 'dcar_node'] = 2\n",
    "            elif o >= 5:\n",
    "                df_cleaned.loc[i, 'dcar_node'] = 1\n",
    "            else:\n",
    "                df_cleaned.loc[i, 'dcar_node'] = 3 # どこにも載ってなければ3にしとく（適当）\n",
    "\n",
    "        else:\n",
    "            continue # 他の路線だと改札関係ないので削除\n",
    "\n",
    "### 続いて乗車時についても同様に処理\n",
    "\n",
    "df_cleaned.reset_index(drop=True, inplace=True)\n",
    "print(df_cleaned)\n",
    "# indexをリセットする"
   ]
  },
  {
   "cell_type": "code",
   "execution_count": 5,
   "metadata": {},
   "outputs": [],
   "source": [
    "for i in range(len(df_cleaned)):\n",
    "    if pd.isna(df_cleaned.loc[i, 'o_car']):\n",
    "        continue\n",
    "\n",
    "    o = int(df_cleaned.loc[i, 'o_car']) # 乗車位置\n",
    "    if '12/' in df_cleaned.loc[i, 'day']:\n",
    "        if df_cleaned.loc[i, 'o_line'] == 1: # 内回り\n",
    "            if o == 1:\n",
    "                df_cleaned.loc[i, 'ocar_node'] = 15\n",
    "            elif o == 2:\n",
    "                df_cleaned.loc[i, 'ocar_node'] = 14\n",
    "            elif o == 3:\n",
    "                df_cleaned.loc[i, 'ocar_node'] = 13\n",
    "            elif o == 4:\n",
    "                df_cleaned.loc[i, 'ocar_node'] = 12\n",
    "            elif o == 5:\n",
    "                df_cleaned.loc[i, 'ocar_node'] = 11\n",
    "            elif o == 6:\n",
    "                df_cleaned.loc[i, 'ocar_node'] = 10\n",
    "            elif o == 7 or o == 8:\n",
    "                df_cleaned.loc[i, 'ocar_node'] = 9\n",
    "            elif 9 <= o <= 11:\n",
    "                df_cleaned.loc[i, 'ocar_node'] = 8\n",
    "            else:\n",
    "                df_cleaned.loc[i, 'ocar_node'] = 14 # どこにも載ってなければ14にしとく（適当）\n",
    "\n",
    "        elif df_cleaned.loc[i, 'o_line'] == 2: # 外回り\n",
    "            if o == 1 or o == 2:\n",
    "                df_cleaned.loc[i, 'ocar_node'] = 23\n",
    "            elif o == 3:\n",
    "                df_cleaned.loc[i, 'ocar_node'] = 22\n",
    "            elif o == 4 or o == 5:\n",
    "                df_cleaned.loc[i, 'ocar_node'] = 21\n",
    "            elif o == 6:\n",
    "                df_cleaned.loc[i, 'ocar_node'] = 20\n",
    "            elif o == 7:\n",
    "                df_cleaned.loc[i, 'ocar_node'] = 19\n",
    "            elif o == 8 or o == 9:\n",
    "                df_cleaned.loc[i, 'ocar_node'] = 18\n",
    "            elif o == 10:\n",
    "                df_cleaned.loc[i, 'ocar_node'] = 17\n",
    "            elif o == 11:\n",
    "                df_cleaned.loc[i, 'ocar_node'] = 16\n",
    "            else:\n",
    "                df_cleaned.loc[i, 'ocar_node'] = 21 # どこにも載ってなければ14にしとく（適当）\n",
    "\n",
    "        elif df_cleaned.loc[i, 'o_line'] == 3: # 湘南新宿\n",
    "            if o == 15:\n",
    "                df_cleaned.loc[i, 'ocar_node'] = 7\n",
    "            elif o == 14:\n",
    "                df_cleaned.loc[i, 'ocar_node'] = 6\n",
    "            elif o == 13:\n",
    "                df_cleaned.loc[i, 'ocar_node'] = 5\n",
    "            elif o == 12:\n",
    "                df_cleaned.loc[i, 'ocar_node'] = 4\n",
    "            elif o == 10 or o == 11:\n",
    "                df_cleaned.loc[i, 'ocar_node'] = 3\n",
    "            elif o == 9:\n",
    "                df_cleaned.loc[i, 'ocar_node'] = 2\n",
    "            elif o <= 8:\n",
    "                df_cleaned.loc[i, 'ocar_node'] = 1\n",
    "            else:\n",
    "                df_cleaned.loc[i, 'ocar_node'] = 4 # どこにも載ってなければ4にしとく（適当）\n",
    "\n",
    "        elif df_cleaned.loc[i, 'o_line'] == 4: # 埼京\n",
    "            if o == 1:\n",
    "                df_cleaned.loc[i, 'ocar_node'] = 5\n",
    "            elif o == 2:\n",
    "                df_cleaned.loc[i, 'ocar_node'] = 4\n",
    "            elif o == 3:\n",
    "                df_cleaned.loc[i, 'ocar_node'] = 3\n",
    "            elif o == 4:\n",
    "                df_cleaned.loc[i, 'ocar_node'] = 2\n",
    "            elif o >= 5:\n",
    "                df_cleaned.loc[i, 'ocar_node'] = 1\n",
    "            else:\n",
    "                df_cleaned.loc[i, 'ocar_node'] = 3 # どこにも載ってなければ3にしとく（適当）\n",
    "\n",
    "        else:\n",
    "            continue # 他の路線だと改札関係ないので削除\n",
    "\n",
    "    else: # 工事後なのでホーム変わってる\n",
    "        if df_cleaned.loc[i, 'o_line'] == 1 or df_cleaned.loc[i, 'o_line'] == 2: # 山手\n",
    "            if o == 1:\n",
    "                df_cleaned.loc[i, 'ocar_node'] = 15\n",
    "            elif o == 2:\n",
    "                df_cleaned.loc[i, 'ocar_node'] = 14\n",
    "            elif o == 3:\n",
    "                df_cleaned.loc[i, 'ocar_node'] = 13\n",
    "            elif o == 4:\n",
    "                df_cleaned.loc[i, 'ocar_node'] = 12\n",
    "            elif o == 5:\n",
    "                df_cleaned.loc[i, 'ocar_node'] = 11\n",
    "            elif o == 6:\n",
    "                df_cleaned.loc[i, 'ocar_node'] = 10\n",
    "            elif o == 7 or o == 8:\n",
    "                df_cleaned.loc[i, 'ocar_node'] = 9\n",
    "            elif 9 <= o <= 11:\n",
    "                df_cleaned.loc[i, 'ocar_node'] = 8\n",
    "            else:\n",
    "                df_cleaned.loc[i, 'ocar_node'] = 14 # どこにも載ってなければ14にしとく（適当）\n",
    "\n",
    "        # 湘南・埼京は条件同じ\n",
    "        elif df_cleaned.loc[i, 'o_line'] == 3: # 湘南新宿\n",
    "            if o == 15:\n",
    "                df_cleaned.loc[i, 'ocar_node'] = 7\n",
    "            elif o == 14:\n",
    "                df_cleaned.loc[i, 'ocar_node'] = 6\n",
    "            elif o == 13:\n",
    "                df_cleaned.loc[i, 'ocar_node'] = 5\n",
    "            elif o == 12:\n",
    "                df_cleaned.loc[i, 'ocar_node'] = 4\n",
    "            elif o == 10 or o == 11:\n",
    "                df_cleaned.loc[i, 'ocar_node'] = 3\n",
    "            elif o == 9:\n",
    "                df_cleaned.loc[i, 'ocar_node'] = 2\n",
    "            elif o <= 8:\n",
    "                df_cleaned.loc[i, 'ocar_node'] = 1\n",
    "            else:\n",
    "                df_cleaned.loc[i, 'ocar_node'] = 4 # どこにも載ってなければ4にしとく（適当）\n",
    "\n",
    "        elif df_cleaned.loc[i, 'o_line'] == 4: # 埼京\n",
    "            if o == 1:\n",
    "                df_cleaned.loc[i, 'ocar_node'] = 5\n",
    "            elif o == 2:\n",
    "                df_cleaned.loc[i, 'ocar_node'] = 4\n",
    "            elif o == 3:\n",
    "                df_cleaned.loc[i, 'ocar_node'] = 3\n",
    "            elif o == 4:\n",
    "                df_cleaned.loc[i, 'ocar_node'] = 2\n",
    "            elif o >= 5:\n",
    "                df_cleaned.loc[i, 'ocar_node'] = 1\n",
    "            else:\n",
    "                df_cleaned.loc[i, 'ocar_node'] = 3 # どこにも載ってなければ3にしとく（適当）\n",
    "\n",
    "        else:\n",
    "            continue # 他の路線だと改札関係ないので削除\n"
   ]
  },
  {
   "cell_type": "markdown",
   "metadata": {},
   "source": [
    "目的地dの位置情報を付与したdiaryデータとの紐付け（白井さん）\n",
    "及び出発地oの位置情報も新たに付与しないといけない"
   ]
  },
  {
   "cell_type": "code",
   "execution_count": 9,
   "metadata": {},
   "outputs": [],
   "source": [
    "# 読み込み\n",
    "df_d_loc = pd.read_csv('/Users/takahiromatsunaga/res2023/PPcameraTG/PP/PP_webq/gate_MNL/filtered_shibu_d_loc.csv')\n",
    "df_o_loc = pd.read_csv('/Users/takahiromatsunaga/res2023/PPcameraTG/PP/PP_webq/gate_MNL/filtered_shibu_o_loc.csv')"
   ]
  },
  {
   "cell_type": "code",
   "execution_count": 10,
   "metadata": {},
   "outputs": [],
   "source": [
    "df_cleaned2 = df_cleaned.copy()\n",
    "# 入れ物作る\n",
    "df_cleaned2['d_lat'] = 0\n",
    "df_cleaned2['d_lon'] = 0\n",
    "\n",
    "df_cleaned2['o_lat'] = 0\n",
    "df_cleaned2['o_lon'] = 0\n",
    "\n",
    "# df_d_loc/df_o_locの日付形式をMM/DDに変換\n",
    "def is_valid_date(date_str):\n",
    "    try:\n",
    "        pd.to_datetime(date_str)\n",
    "        return True\n",
    "    except ValueError:\n",
    "        return False\n",
    "valid_dates = df_d_loc['day'].apply(is_valid_date)\n",
    "df_d_loc.loc[valid_dates, 'day'] = pd.to_datetime(df_d_loc.loc[valid_dates, 'day']).dt.strftime('%m/%d')\n",
    "valid_dates = df_o_loc['day'].apply(is_valid_date)\n",
    "df_o_loc.loc[valid_dates, 'day'] = pd.to_datetime(df_o_loc.loc[valid_dates, 'day']).dt.strftime('%m/%d')\n",
    "\n",
    "# df_d_loc/df_o_locいづれかに入ってれば採用して，d_lonlat, o_lonlatが0か否かで処理を判別する\n",
    "for i in range(len(df_d_loc)):\n",
    "    userid = df_d_loc.loc[i, 'id']\n",
    "    day = df_d_loc.loc[i, 'day']\n",
    "\n",
    "    # df_cleaned2['id']とdf_cleaned2['day']が一致するか否かで場合分け\n",
    "    match = df_cleaned2[(df_cleaned2['id'] == userid) & (df_cleaned2['day'] == day)]\n",
    "    if not match.empty:\n",
    "        df_cleaned2.loc[match.index, 'd_lat'] = df_d_loc.loc[i, 'lat']  # 緯度を入れる\n",
    "        df_cleaned2.loc[match.index, 'd_lon'] = df_d_loc.loc[i, 'lon']  # 経度を入れる\n",
    "\n",
    "for i in range(len(df_o_loc)):\n",
    "    userid = df_o_loc.loc[i, 'id']\n",
    "    day = df_o_loc.loc[i, 'day']\n",
    "\n",
    "    # df_cleaned2['id']とdf_cleaned2['day']が一致するか否かで場合分け\n",
    "    match = df_cleaned2[(df_cleaned2['id'] == userid) & (df_cleaned2['day'] == day)]\n",
    "    if not match.empty:\n",
    "        df_cleaned2.loc[match.index, 'o_lat'] = df_o_loc.loc[i, 'lat']  # 緯度を入れる\n",
    "        df_cleaned2.loc[match.index, 'o_lon'] = df_o_loc.loc[i, 'lon']  # 経度を入れる\n",
    "\n",
    "df_cleaned2.to_csv('/Users/takahiromatsunaga/res2023/PPcameraTG/PP/PP_webq/q_ans/diary_cleaned_odcar_odlatlon.csv')\n"
   ]
  },
  {
   "cell_type": "markdown",
   "metadata": {},
   "source": [
    "改札ポイントデータの導入"
   ]
  },
  {
   "cell_type": "code",
   "execution_count": 11,
   "metadata": {},
   "outputs": [],
   "source": [
    "import pandas as pd\n",
    "df_point = pd.read_csv('/Users/takahiromatsunaga/res2023/PPcameraTG/PP/PP_webq/gate_MNL/point_kai.csv')"
   ]
  },
  {
   "cell_type": "code",
   "execution_count": 12,
   "metadata": {},
   "outputs": [],
   "source": [
    "df_cleaned2 = pd.read_csv('/Users/takahiromatsunaga/res2023/PPcameraTG/PP/PP_webq/q_ans/diary_cleaned_odcar_odlatlon.csv')"
   ]
  },
  {
   "cell_type": "code",
   "execution_count": 13,
   "metadata": {},
   "outputs": [
    {
     "name": "stdout",
     "output_type": "stream",
     "text": [
      "      Unnamed: 0     id    day         time  purpose  d  o  d_line  d_car  \\\n",
      "0              0  23026  12/19  10:00-11:00        2  7  5       1    4.0   \n",
      "1              1  23020  12/21  13:00-14:00       11  0  0      10    NaN   \n",
      "2              2  23034  12/20  14:00-15:00        0  7  7       1    3.0   \n",
      "3              3  23244  12/21  18:00-19:00        4  0  0       1    4.0   \n",
      "4              4  23120  12/19    6:00-7:00        2  0  0       1    1.0   \n",
      "...          ...    ...    ...          ...      ... .. ..     ...    ...   \n",
      "1574        1574  23078  01/28  21:00-22:00        4  1  1       1    8.0   \n",
      "1575        1575  23179  01/27  17:00-18:00       11  0  0       1    8.0   \n",
      "1576        1576  23105  01/30    8:00-9:00       11  0  0       9    NaN   \n",
      "1577        1577  23073  01/27  18:00-19:00        4  1  1       4    3.0   \n",
      "1578        1578  23084  01/29  19:00-20:00       11  0  0       6    NaN   \n",
      "\n",
      "     staire_to_gate  ...  o_line  o_gate  staire_to_home o_car  dcar_node  \\\n",
      "0                12  ...       5       0             NaN   NaN         12   \n",
      "1               NaN  ...       0       0             NaN   NaN          0   \n",
      "2                12  ...       2       1               5   2.0         13   \n",
      "3                12  ...       9       0             NaN   NaN         12   \n",
      "4                12  ...       0       0             NaN   NaN         15   \n",
      "...             ...  ...     ...     ...             ...   ...        ...   \n",
      "1574              6  ...       8       0             NaN   NaN          9   \n",
      "1575              7  ...      11       0             NaN   NaN          9   \n",
      "1576            NaN  ...       2       1             NaN   1.0          0   \n",
      "1577             15  ...       8       0             NaN   NaN          3   \n",
      "1578            NaN  ...       2       2             NaN   7.0          0   \n",
      "\n",
      "      ocar_node      d_lat       d_lon      o_lat       o_lon  \n",
      "0             0  35.659938  139.700059  35.659624  139.699793  \n",
      "1             0   0.000000    0.000000   0.000000    0.000000  \n",
      "2            23  35.661266  139.698110  35.661194  139.698300  \n",
      "3             0   0.000000    0.000000  35.659481  139.701597  \n",
      "4             0   0.000000    0.000000   0.000000    0.000000  \n",
      "...         ...        ...         ...        ...         ...  \n",
      "1574          0   0.000000    0.000000   0.000000    0.000000  \n",
      "1575          0   0.000000    0.000000   0.000000    0.000000  \n",
      "1576         15   0.000000    0.000000   0.000000    0.000000  \n",
      "1577          0   0.000000    0.000000   0.000000    0.000000  \n",
      "1578          9   0.000000    0.000000   0.000000    0.000000  \n",
      "\n",
      "[1579 rows x 21 columns]\n"
     ]
    }
   ],
   "source": [
    "print(df_cleaned2)"
   ]
  },
  {
   "cell_type": "markdown",
   "metadata": {},
   "source": [
    "dirayデータにどの改札に何ポイント与えられたかをくっつける"
   ]
  },
  {
   "cell_type": "code",
   "execution_count": 14,
   "metadata": {},
   "outputs": [
    {
     "name": "stdout",
     "output_type": "stream",
     "text": [
      "     Unnamed: 0     id  point_category point_action point_limit  point_amount  \\\n",
      "0             0  23038             1.0         南口改札         当日中          60.0   \n",
      "1             1  23040             2.0          7時台    2/5（日）まで          60.0   \n",
      "2             2  23062             1.0         南口改札   1/30（月）まで          20.0   \n",
      "3             3  23080             2.0          7時台   1/30（月）まで          40.0   \n",
      "4             4  23084             1.0        ハチ公改札    2/5（日）まで          60.0   \n",
      "..          ...    ...             ...          ...         ...           ...   \n",
      "913        1455  23221             2.0         11時台         当日中          60.0   \n",
      "914        1456  23044             1.0         中央改札         当日中          40.0   \n",
      "915        1457  23111             1.0         南口改札    2/5（日）まで          40.0   \n",
      "916        1458  23155             1.0         南口改札         当日中          60.0   \n",
      "917        1459  23166             1.0        ハチ公改札         当日中          20.0   \n",
      "\n",
      "       day  \n",
      "0    01/24  \n",
      "1    01/24  \n",
      "2    01/24  \n",
      "3    01/24  \n",
      "4    01/24  \n",
      "..     ...  \n",
      "913  01/13  \n",
      "914  01/13  \n",
      "915  01/13  \n",
      "916  01/13  \n",
      "917  01/13  \n",
      "\n",
      "[918 rows x 7 columns]\n"
     ]
    }
   ],
   "source": [
    "df_point['id'] = df_point['id'].str.replace('jrs', '', regex=True) # .astype(int)\n",
    "# df_cleaned['id'] = df_cleaned['id'].apply(lambda x: int(f\"23{x}\"))\n",
    "df_point['id'] = df_point['id'].apply(lambda x: f\"23{x.zfill(3)}\").astype(int)\n",
    "\n",
    "df_cleaned3 = df_cleaned2.copy()\n",
    "df_cleaned3['point_gate'] = 0\n",
    "df_cleaned3['point_amount'] = 0\n",
    "\n",
    "# df_pointの日付形式をMM/DDに変換\n",
    "def is_valid_date(date_str):\n",
    "    try:\n",
    "        pd.to_datetime(date_str)\n",
    "        return True\n",
    "    except ValueError:\n",
    "        return False\n",
    "valid_dates = df_point['day'].apply(is_valid_date)\n",
    "df_point.loc[valid_dates, 'day'] = pd.to_datetime(df_point.loc[valid_dates, 'day']).dt.strftime('%m/%d')\n",
    "\n",
    "a = 0\n",
    "for i in range(len(df_point)):\n",
    "    userid = df_point.loc[i, 'id']\n",
    "    day = df_point.loc[i, 'day']\n",
    "    category = df_point.loc[i, 'point_category']\n",
    "    if category == 1:\n",
    "\n",
    "        gate = df_point.loc[i, 'point_action']\n",
    "        \n",
    "        if gate == 'ハチ公改札':\n",
    "            a = 1\n",
    "        elif gate == '中央改札':\n",
    "            a = 2\n",
    "        elif gate == '南口改札':\n",
    "            a = 3\n",
    "\n",
    "        # df_cleaned2['id']とdf_cleaned2['day']が一致するか否かで場合分け\n",
    "        match = df_cleaned3[(df_cleaned3['id'] == userid) & (df_cleaned3['day'] == day)]\n",
    "        if not match.empty:\n",
    "            df_cleaned3.loc[match.index, 'point_gate'] = a #df_d_loc.loc[i, 'lat']  # 緯度を入れる\n",
    "            df_cleaned3.loc[match.index, 'point_amount'] = df_point.loc[i, 'point_amount']  # 経度を入れる\n",
    "    \n",
    "    else:\n",
    "        continue\n",
    "\n",
    "\n",
    "print(df_point)"
   ]
  },
  {
   "cell_type": "markdown",
   "metadata": {},
   "source": [
    "ポイントつけた最終盤をcsv出力"
   ]
  },
  {
   "cell_type": "code",
   "execution_count": 15,
   "metadata": {},
   "outputs": [],
   "source": [
    "df_cleaned3.to_csv('/Users/takahiromatsunaga/res2023/PPcameraTG/PP/PP_webq/q_ans/diary_cleaned_odcar_odlatlon_point.csv')"
   ]
  },
  {
   "cell_type": "markdown",
   "metadata": {},
   "source": [
    "クロス集計パート"
   ]
  },
  {
   "cell_type": "code",
   "execution_count": 4,
   "metadata": {},
   "outputs": [
    {
     "data": {
      "text/plain": [
       "<Figure size 720x432 with 0 Axes>"
      ]
     },
     "metadata": {},
     "output_type": "display_data"
    },
    {
     "data": {
      "image/png": "[encoded data removed]",
      "text/plain": [
       "<Figure size 432x288 with 1 Axes>"
      ]
     },
     "metadata": {
      "needs_background": "light"
     },
     "output_type": "display_data"
    }
   ],
   "source": [
    "## クロス集計\n",
    "import matplotlib.pyplot as plt\n",
    "\n",
    "df_diary = pd.read_csv('/Users/takahiromatsunaga/res2023/PPcameraTG/PP/PP_webq/q_ans/diary_cleaned.csv')\n",
    "\n",
    "# dとd_gateのクロス集計\n",
    "cross_tab = pd.crosstab(df_cleaned['d'], df_cleaned['d_gate'])\n",
    "\n",
    "# どっちかがNaNのものはカウントしない\n",
    "df_filtered = df_cleaned.dropna(subset=['d', 'd_gate'])\n",
    "cross_tab_filtered = pd.crosstab(df_filtered['d'], df_filtered['d_gate'])\n",
    "\n",
    "# グラフの描画\n",
    "plt.figure(figsize=(10, 6))\n",
    "cross_tab_filtered.plot(kind='bar', stacked=True)\n",
    "plt.title('Cross Tabulation of d and d_gate')\n",
    "plt.xlabel('d')\n",
    "plt.ylabel('Count')\n",
    "plt.legend(title='d_gate')\n",
    "plt.show()"
   ]
  },
  {
   "cell_type": "code",
   "execution_count": 5,
   "metadata": {},
   "outputs": [
    {
     "data": {
      "text/plain": [
       "<Figure size 720x432 with 0 Axes>"
      ]
     },
     "metadata": {},
     "output_type": "display_data"
    },
    {
     "data": {
      "image/png": "[encoded data removed]",
      "text/plain": [
       "<Figure size 432x288 with 1 Axes>"
      ]
     },
     "metadata": {
      "needs_background": "light"
     },
     "output_type": "display_data"
    }
   ],
   "source": [
    "# dとd_gateのクロス集計\n",
    "cross_tab = pd.crosstab(df_cleaned['o_car'], df_cleaned['d_gate'])\n",
    "\n",
    "# どっちかがNaNのものはカウントしない\n",
    "df_filtered = df_cleaned.dropna(subset=['o_car', 'd_gate'])\n",
    "cross_tab_filtered = pd.crosstab(df_filtered['o_car'], df_filtered['d_gate'])\n",
    "\n",
    "# グラフの描画\n",
    "plt.figure(figsize=(10, 6))\n",
    "cross_tab_filtered.plot(kind='bar', stacked=True)\n",
    "plt.title('Cross Tabulation of o_car and d_gate')\n",
    "plt.xlabel('o_car')\n",
    "plt.ylabel('Count')\n",
    "plt.legend(title='d_gate')\n",
    "plt.show()"
   ]
  },
  {
   "cell_type": "code",
   "execution_count": 6,
   "metadata": {},
   "outputs": [
    {
     "data": {
      "text/plain": [
       "<Figure size 720x432 with 0 Axes>"
      ]
     },
     "metadata": {},
     "output_type": "display_data"
    },
    {
     "data": {
      "image/png": "[encoded data removed]",
      "text/plain": [
       "<Figure size 432x288 with 1 Axes>"
      ]
     },
     "metadata": {
      "needs_background": "light"
     },
     "output_type": "display_data"
    }
   ],
   "source": [
    "# dとd_gateのクロス集計\n",
    "cross_tab = pd.crosstab(df_cleaned['time'], df_cleaned['d_gate'])\n",
    "\n",
    "# どっちかがNaNのものはカウントしない\n",
    "df_filtered = df_cleaned.dropna(subset=['time', 'd_gate'])\n",
    "cross_tab_filtered = pd.crosstab(df_filtered['time'], df_filtered['d_gate'])\n",
    "\n",
    "# グラフの描画\n",
    "plt.figure(figsize=(10, 6))\n",
    "cross_tab_filtered.plot(kind='bar', stacked=True)\n",
    "plt.title('Cross Tabulation of time and d_gate')\n",
    "plt.xlabel('time')\n",
    "plt.ylabel('Count')\n",
    "plt.legend(title='d_gate')\n",
    "plt.show()"
   ]
  },
  {
   "cell_type": "code",
   "execution_count": 7,
   "metadata": {},
   "outputs": [
    {
     "data": {
      "text/plain": [
       "<Figure size 720x432 with 0 Axes>"
      ]
     },
     "metadata": {},
     "output_type": "display_data"
    },
    {
     "data": {
      "image/png": "[encoded data removed]",
      "text/plain": [
       "<Figure size 432x288 with 1 Axes>"
      ]
     },
     "metadata": {
      "needs_background": "light"
     },
     "output_type": "display_data"
    }
   ],
   "source": [
    "# dとd_gateのクロス集計\n",
    "cross_tab = pd.crosstab(df_cleaned['day'], df_cleaned['d_gate'])\n",
    "\n",
    "# どっちかがNaNのものはカウントしない\n",
    "df_filtered = df_cleaned.dropna(subset=['day', 'd_gate'])\n",
    "cross_tab_filtered = pd.crosstab(df_filtered['day'], df_filtered['d_gate'])\n",
    "\n",
    "# グラフの描画\n",
    "plt.figure(figsize=(10, 6))\n",
    "cross_tab_filtered.plot(kind='bar', stacked=True)\n",
    "plt.title('Cross Tabulation of day and d_gate')\n",
    "plt.xlabel('day')\n",
    "plt.ylabel('Count')\n",
    "plt.legend(title='d_gate')\n",
    "plt.show()"
   ]
  },
  {
   "cell_type": "code",
   "execution_count": 8,
   "metadata": {},
   "outputs": [
    {
     "data": {
      "text/plain": [
       "<Figure size 720x432 with 0 Axes>"
      ]
     },
     "metadata": {},
     "output_type": "display_data"
    },
    {
     "data": {
      "image/png": "[encoded data removed]",
      "text/plain": [
       "<Figure size 432x288 with 1 Axes>"
      ]
     },
     "metadata": {
      "needs_background": "light"
     },
     "output_type": "display_data"
    }
   ],
   "source": [
    "# dとd_gateのクロス集計\n",
    "cross_tab = pd.crosstab(df_cleaned['purpose'], df_cleaned['d_gate'])\n",
    "\n",
    "# どっちかがNaNのものはカウントしない\n",
    "df_filtered = df_cleaned.dropna(subset=['purpose', 'd_gate'])\n",
    "cross_tab_filtered = pd.crosstab(df_filtered['purpose'], df_filtered['d_gate'])\n",
    "\n",
    "# グラフの描画\n",
    "plt.figure(figsize=(10, 6))\n",
    "cross_tab_filtered.plot(kind='bar', stacked=True)\n",
    "plt.title('Cross Tabulation of purpose and d_gate')\n",
    "plt.xlabel('purpose')\n",
    "plt.ylabel('Count')\n",
    "plt.legend(title='d_gate')\n",
    "plt.show()"
   ]
  },
  {
   "cell_type": "code",
   "execution_count": 9,
   "metadata": {},
   "outputs": [
    {
     "data": {
      "text/plain": [
       "<Figure size 720x432 with 0 Axes>"
      ]
     },
     "metadata": {},
     "output_type": "display_data"
    },
    {
     "data": {
      "image/png": "[encoded data removed]",
      "text/plain": [
       "<Figure size 432x288 with 1 Axes>"
      ]
     },
     "metadata": {
      "needs_background": "light"
     },
     "output_type": "display_data"
    }
   ],
   "source": [
    "# dとd_gateのクロス集計\n",
    "cross_tab = pd.crosstab(df_cleaned['o'], df_cleaned['o_gate'])\n",
    "\n",
    "# どっちかがNaNのものはカウントしない\n",
    "df_filtered = df_cleaned.dropna(subset=['o', 'o_gate'])\n",
    "cross_tab_filtered = pd.crosstab(df_filtered['o'], df_filtered['o_gate'])\n",
    "\n",
    "# グラフの描画\n",
    "plt.figure(figsize=(10, 6))\n",
    "cross_tab_filtered.plot(kind='bar', stacked=True)\n",
    "plt.title('Cross Tabulation of o and o_gate')\n",
    "plt.xlabel('o')\n",
    "plt.ylabel('Count')\n",
    "plt.legend(title='o_gate')\n",
    "plt.show()"
   ]
  },
  {
   "cell_type": "code",
   "execution_count": 10,
   "metadata": {},
   "outputs": [
    {
     "data": {
      "text/plain": [
       "<Figure size 720x432 with 0 Axes>"
      ]
     },
     "metadata": {},
     "output_type": "display_data"
    },
    {
     "data": {
      "image/png": "[encoded data removed]",
      "text/plain": [
       "<Figure size 432x288 with 1 Axes>"
      ]
     },
     "metadata": {
      "needs_background": "light"
     },
     "output_type": "display_data"
    }
   ],
   "source": [
    "# dとd_gateのクロス集計\n",
    "cross_tab = pd.crosstab(df_cleaned['o_car'], df_cleaned['o_gate'])\n",
    "\n",
    "# どっちかがNaNのものはカウントしない\n",
    "df_filtered = df_cleaned.dropna(subset=['o_car', 'o_gate'])\n",
    "cross_tab_filtered = pd.crosstab(df_filtered['o_car'], df_filtered['o_gate'])\n",
    "\n",
    "# グラフの描画\n",
    "plt.figure(figsize=(10, 6))\n",
    "cross_tab_filtered.plot(kind='bar', stacked=True)\n",
    "plt.title('Cross Tabulation of o_car and o_gate')\n",
    "plt.xlabel('o_car')\n",
    "plt.ylabel('Count')\n",
    "plt.legend(title='o_gate')\n",
    "plt.show()"
   ]
  },
  {
   "cell_type": "code",
   "execution_count": null,
   "metadata": {},
   "outputs": [],
   "source": []
  }
 ],
 "metadata": {
  "kernelspec": {
   "display_name": "base",
   "language": "python",
   "name": "python3"
  },
  "language_info": {
   "codemirror_mode": {
    "name": "ipython",
    "version": 3
   },
   "file_extension": ".py",
   "mimetype": "text/x-python",
   "name": "python",
   "nbconvert_exporter": "python",
   "pygments_lexer": "ipython3",
   "version": "3.9.7"
  }
 },
 "nbformat": 4,
 "nbformat_minor": 2
}
