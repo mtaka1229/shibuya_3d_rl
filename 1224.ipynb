{
 "cells": [
  {
   "cell_type": "code",
   "execution_count": 1,
   "metadata": {},
   "outputs": [
    {
     "name": "stdout",
     "output_type": "stream",
     "text": [
      "pk[od, t, :]: [9 4 4]\n",
      "Pall[od, t, :, :]:\n",
      " [[3 8 5]\n",
      " [8 3 3]\n",
      " [5 4 8]]\n",
      "行列積の結果: [ 79 100  89]\n"
     ]
    }
   ],
   "source": [
    "import numpy as np\n",
    "\n",
    "# サンプルデータ\n",
    "od = 3\n",
    "t = 2\n",
    "pk = np.random.randint(1, 10, size=(od, t+2, od))  # 3次元配列の例\n",
    "Pall = np.random.randint(1, 10, size=(od, t+1, od, od))  # 4次元配列の例\n",
    "\n",
    "# pk[od, t, :] は行ベクトルとして取得されます\n",
    "result = pk[od-1, t, :] @ Pall[od-1, t, :, :]\n",
    "\n",
    "# 結果の表示\n",
    "\n",
    "print(\"pk[od, t, :]:\", pk[od-1, t, :])\n",
    "print(\"Pall[od, t, :, :]:\\n\", Pall[od-1, t, :, :])\n",
    "print(\"行列積の結果:\", result)\n"
   ]
  },
  {
   "cell_type": "code",
   "execution_count": 3,
   "metadata": {},
   "outputs": [
    {
     "name": "stdout",
     "output_type": "stream",
     "text": [
      "[[1 0 3]\n",
      " [0 0 5]\n",
      " [0 0 0]]\n",
      "非零の要素を持つ列のインデックス: [0, 2]\n"
     ]
    }
   ],
   "source": [
    "import numpy as np\n",
    "\n",
    "# TLmatrix[t-1, :, :] があると仮定\n",
    "TLmatrix = np.array([[1, 0, 3], [0, 0, 5], [0, 0, 0]])  # 仮の行列\n",
    "\n",
    "print(TLmatrix)\n",
    "\n",
    "# 方法1: any() を使って非零の要素を持つ列を見つける\n",
    "non_zero_columns = np.any(TLmatrix != 0, axis=0)\n",
    "klist = np.where(non_zero_columns)[0]\n",
    "\n",
    "# 方法2: nonzero() を使って非零の要素がある列のインデックスを取得する\n",
    "non_zero_indices = np.nonzero(np.any(TLmatrix != 0, axis=0))[0]\n",
    "klist = non_zero_indices.tolist()\n",
    "\n",
    "# 結果を表示\n",
    "print(\"非零の要素を持つ列のインデックス:\", klist)\n"
   ]
  },
  {
   "cell_type": "code",
   "execution_count": null,
   "metadata": {},
   "outputs": [],
   "source": []
  }
 ],
 "metadata": {
  "kernelspec": {
   "display_name": "base",
   "language": "python",
   "name": "python3"
  },
  "language_info": {
   "codemirror_mode": {
    "name": "ipython",
    "version": 3
   },
   "file_extension": ".py",
   "mimetype": "text/x-python",
   "name": "python",
   "nbconvert_exporter": "python",
   "pygments_lexer": "ipython3",
   "version": "3.9.7"
  }
 },
 "nbformat": 4,
 "nbformat_minor": 2
}
