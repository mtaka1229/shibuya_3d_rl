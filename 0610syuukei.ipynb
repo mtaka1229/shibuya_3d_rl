{
 "cells": [
  {
   "cell_type": "markdown",
   "metadata": {},
   "source": [
    "配分結果から各改札の利用率がどのようになったかを集計"
   ]
  },
  {
   "cell_type": "code",
   "execution_count": 1,
   "metadata": {},
   "outputs": [],
   "source": [
    "import pandas as pd \n",
    "import numpy as np "
   ]
  },
  {
   "cell_type": "code",
   "execution_count": 8,
   "metadata": {},
   "outputs": [],
   "source": [
    "df3_0_0 = pd.read_csv('/Users/takahiromatsunaga/res2023/PPcameraTG/PP/PP_webq/gate_MNL/gate_assignment_0610/gate_assign_gate3_0point_0percent_abs.csv')\n",
    "df3_20_40 = pd.read_csv('/Users/takahiromatsunaga/res2023/PPcameraTG/PP/PP_webq/gate_MNL/gate_assignment_0610/gate_assign_gate3_20point_40percent_abs.csv')\n",
    "df4_20_40 = pd.read_csv('/Users/takahiromatsunaga/res2023/PPcameraTG/PP/PP_webq/gate_MNL/gate_assignment_0610/gate_assign_gate4_20point_40percent_abs.csv')\n",
    "df2_40_40 = pd.read_csv('/Users/takahiromatsunaga/res2023/PPcameraTG/PP/PP_webq/gate_MNL/gate_assignment_0610/gate_assign_gate2_40point_40percent_abs.csv')\n",
    "\n",
    "#df4_20_40 = pd.read_csv('/Users/takahiromatsunaga/res2023/results/0610multiscale/micro_assign_4_20point_40percent.csv')\n",
    "#df2_40_40 = pd.read_csv('/Users/takahiromatsunaga/res2023/results/0610multiscale/micro_assign_2_40point_40percent.csv')"
   ]
  },
  {
   "cell_type": "code",
   "execution_count": 9,
   "metadata": {},
   "outputs": [
    {
     "name": "stdout",
     "output_type": "stream",
     "text": [
      "    Unnamed: 0  dcarnode  dgate  counts  abs\n",
      "0            0         1      1      77   67\n",
      "1            1         1      1      77   68\n",
      "2            2         1      2      57   69\n",
      "3            3         1      2      57   70\n",
      "4            4         1      3     128   66\n",
      "..         ...       ...    ...     ...  ...\n",
      "74          74        15      1     138   67\n",
      "75          75        15      1     138   68\n",
      "76          76        15      2      38   69\n",
      "77          77        15      2      39   70\n",
      "78          78        15      3      41   66\n",
      "\n",
      "[79 rows x 5 columns]\n"
     ]
    }
   ],
   "source": [
    "print(df3_0_0)"
   ]
  },
  {
   "cell_type": "code",
   "execution_count": 10,
   "metadata": {},
   "outputs": [
    {
     "name": "stdout",
     "output_type": "stream",
     "text": [
      "   dgate     ratio\n",
      "0      1  0.457264\n",
      "1      2  0.291114\n",
      "2      3  0.244570\n",
      "3      4  0.007052\n",
      "   dgate     ratio\n",
      "0      1  0.313759\n",
      "1      2  0.215602\n",
      "2      3  0.463781\n",
      "3      4  0.006858\n",
      "   dgate     ratio\n",
      "0      1  0.183026\n",
      "1      2  0.716245\n",
      "2      3  0.097300\n",
      "3      4  0.003429\n",
      "   dgate     ratio\n",
      "0      1  0.441063\n",
      "1      2  0.296399\n",
      "2      3  0.231462\n",
      "3      4  0.031076\n"
     ]
    }
   ],
   "source": [
    "counts_sum2_40_40 = df2_40_40.groupby('dgate')['counts'].sum()\n",
    "counts_sum3_0_0 = df3_0_0.groupby('dgate')['counts'].sum()\n",
    "counts_sum3_20_40 = df3_20_40.groupby('dgate')['counts'].sum()\n",
    "counts_sum4_20_40 = df4_20_40.groupby('dgate')['counts'].sum()\n",
    "\n",
    "total_counts3_0_0 = counts_sum3_0_0.sum()\n",
    "total_counts3_20_40 = counts_sum3_20_40.sum()\n",
    "total_counts2_40_40 = counts_sum2_40_40.sum()\n",
    "total_counts4_20_40 = counts_sum4_20_40.sum()\n",
    "\n",
    "\n",
    "counts_ratio3_0_0 = counts_sum3_0_0 / total_counts3_0_0\n",
    "counts_ratio3_20_40 = counts_sum3_20_40 / total_counts3_20_40\n",
    "counts_ratio2_40_40 = counts_sum2_40_40 / total_counts2_40_40\n",
    "counts_ratio4_20_40 = counts_sum4_20_40 / total_counts4_20_40\n",
    "\n",
    "\n",
    "result_df300 = counts_ratio3_0_0.reset_index(name='ratio')\n",
    "result_df324 = counts_ratio3_20_40.reset_index(name='ratio')\n",
    "result_df244 = counts_ratio2_40_40.reset_index(name='ratio')\n",
    "result_df424 = counts_ratio4_20_40.reset_index(name='ratio')\n",
    "\n",
    "print(result_df300)\n",
    "print(result_df324)\n",
    "print(result_df244)\n",
    "print(result_df424)\n"
   ]
  },
  {
   "cell_type": "code",
   "execution_count": 7,
   "metadata": {},
   "outputs": [
    {
     "name": "stdout",
     "output_type": "stream",
     "text": [
      "Columns in df2_40_40: Index(['Unnamed: 0', 'userid', 't', 'k', 'abs'], dtype='object')\n",
      "The required columns are not present in the dataframe.\n"
     ]
    }
   ],
   "source": [
    "import pandas as pd\n",
    "\n",
    "# データフレームの読み込み\n",
    "df2_40_40 = pd.read_csv('/Users/takahiromatsunaga/res2023/results/0610multiscale/micro_assign_2_40point_40percent.csv')\n",
    "\n",
    "# 列名を確認する\n",
    "print(\"Columns in df2_40_40:\", df2_40_40.columns)\n",
    "\n",
    "# 正しい列名で集計処理を行う\n",
    "if 'dgate' in df2_40_40.columns and 'counts' in df2_40_40.columns:\n",
    "    counts_sum = df2_40_40.groupby('dgate')['counts'].sum()\n",
    "\n",
    "    # 全体の合計を計算\n",
    "    total_counts = counts_sum.sum()\n",
    "\n",
    "    # 各'dgate'の割合を計算\n",
    "    counts_ratio = counts_sum / total_counts\n",
    "\n",
    "    # 結果をデータフレームとして表示\n",
    "    result_df244 = counts_ratio.reset_index(name='ratio')\n",
    "\n",
    "    import ace_tools as tools; tools.display_dataframe_to_user(name=\"Counts Ratio by dgate\", dataframe=result_df244)\n",
    "    print(result_df244)\n",
    "else:\n",
    "    print(\"The required columns are not present in the dataframe.\")\n"
   ]
  },
  {
   "cell_type": "code",
   "execution_count": null,
   "metadata": {},
   "outputs": [],
   "source": []
  }
 ],
 "metadata": {
  "kernelspec": {
   "display_name": "base",
   "language": "python",
   "name": "python3"
  },
  "language_info": {
   "codemirror_mode": {
    "name": "ipython",
    "version": 3
   },
   "file_extension": ".py",
   "mimetype": "text/x-python",
   "name": "python",
   "nbconvert_exporter": "python",
   "pygments_lexer": "ipython3",
   "version": "3.9.7"
  }
 },
 "nbformat": 4,
 "nbformat_minor": 2
}
