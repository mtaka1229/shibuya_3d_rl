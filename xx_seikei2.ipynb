{
 "cells": [
  {
   "cell_type": "markdown",
   "metadata": {},
   "source": [
    "00_seikei.ipynbで作成したtimstep振り分け済みcsvフォルダに対して，時間制約つけてファイルを残すためのコード（10timstep以下/10-20timestep，など）"
   ]
  },
  {
   "cell_type": "code",
   "execution_count": 2,
   "metadata": {},
   "outputs": [],
   "source": [
    "import pandas as pd \n",
    "import numpy as np \n",
    "import matplotlib.pyplot as plt \n",
    "import os \n",
    "import shutil"
   ]
  },
  {
   "cell_type": "code",
   "execution_count": 3,
   "metadata": {},
   "outputs": [],
   "source": [
    "read_folder = '/Users/takahiromatsunaga/res2023/bledata/ble_timegroup/20230130_17/20230130_1745_18sec_end162021'\n",
    "file_list = list(os.listdir(read_folder))\n",
    "\n",
    "under10folder = '/Users/takahiromatsunaga/res2023/bledata/ble_timegroup/20230130_17/20230130_1745_18sec_end162021_under10'\n",
    "over10under20folder = '/Users/takahiromatsunaga/res2023/bledata/ble_timegroup/20230130_17/20230130_1745_18sec_end162021_over10under20'\n",
    "\n",
    "if not os.path.exists(under10folder):\n",
    "    os.mkdir(under10folder)\n",
    "if not os.path.exists(over10under20folder):\n",
    "    os.mkdir(over10under20folder)\n",
    "\n",
    "for file_name in file_list:\n",
    "    file_path = os.path.join(read_folder, file_name)\n",
    "    df = pd.read_csv(file_path)\n",
    "    nts = df['timestep'].nunique()\n",
    "\n",
    "    if nts >= 5 and nts <= 10:\n",
    "        # under10folderにコピーして保存\n",
    "        destination_path = os.path.join(under10folder, file_name)\n",
    "        shutil.copy(file_path, destination_path)\n",
    "    elif nts >= 11 and nts <= 20:\n",
    "        # over10under20folderにコピーして保存\n",
    "        destination_path = os.path.join(over10under20folder, file_name)\n",
    "        shutil.copy(file_path, destination_path)\n",
    "    # nts > 20なら何もしない"
   ]
  },
  {
   "cell_type": "markdown",
   "metadata": {},
   "source": [
    "フォルダ内のデータを100サンプルくらいづつに分割して小さいフォルダに入れる"
   ]
  },
  {
   "cell_type": "code",
   "execution_count": 5,
   "metadata": {},
   "outputs": [],
   "source": [
    "import math \n",
    "\n",
    "read_folder = '/Users/takahiromatsunaga/res2023/bledata/ble_timegroup/20230130_17/20230130_1745_18sec_end162021'\n",
    "output_folder = '/Users/takahiromatsunaga/res2023/bledata/ble_timegroup/20230130_17/20230130_1745_18sec_end162021_under10_split'\n",
    "\n",
    "# フォルダが存在しない場合は作成\n",
    "if not os.path.exists(output_folder):\n",
    "    os.mkdir(output_folder)\n",
    "\n",
    "file_list = os.listdir(read_folder)\n",
    "num_samples = len(file_list)\n",
    "num_samples_per_folder = 100\n",
    "\n",
    "num_folders = math.ceil(num_samples / num_samples_per_folder)\n",
    "\n",
    "for i in range(num_folders):\n",
    "    start_index = i * num_samples_per_folder\n",
    "    end_index = min((i + 1) * num_samples_per_folder, num_samples)\n",
    "    \n",
    "    folder_name = f\"folder_{i + 1}\"\n",
    "    folder_path = os.path.join(output_folder, folder_name)\n",
    "    \n",
    "    if not os.path.exists(folder_path):\n",
    "        os.mkdir(folder_path)\n",
    "    \n",
    "    for j in range(start_index, end_index):\n",
    "        file_name = file_list[j]\n",
    "        source_file_path = os.path.join(read_folder, file_name)\n",
    "        destination_file_path = os.path.join(folder_path, file_name)\n",
    "        shutil.copy(source_file_path, destination_file_path)"
   ]
  }
 ],
 "metadata": {
  "kernelspec": {
   "display_name": "base",
   "language": "python",
   "name": "python3"
  },
  "language_info": {
   "codemirror_mode": {
    "name": "ipython",
    "version": 3
   },
   "file_extension": ".py",
   "mimetype": "text/x-python",
   "name": "python",
   "nbconvert_exporter": "python",
   "pygments_lexer": "ipython3",
   "version": "3.9.7"
  }
 },
 "nbformat": 4,
 "nbformat_minor": 2
}
