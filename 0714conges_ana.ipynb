{
 "cells": [
  {
   "cell_type": "markdown",
   "metadata": {},
   "source": [
    "BLE生データからセル（ビーコンボロノイ）ごとにエネルギー状態を求める"
   ]
  },
  {
   "cell_type": "code",
   "execution_count": 1,
   "metadata": {},
   "outputs": [],
   "source": [
    "import pandas as pd \n",
    "import numpy as np \n",
    "import os "
   ]
  },
  {
   "cell_type": "code",
   "execution_count": 2,
   "metadata": {},
   "outputs": [],
   "source": [
    "basepath = '/Users/takahiromatsunaga/res2023/bledata/ble_timegroup' #/20230130_08' # /20230130_0845.csv'\n",
    "day_stamp = '20230130'\n",
    "time_stamp = '08'\n",
    "date_stamp = f'{day_stamp}_{time_stamp}'\n",
    "df = pd.read_csv(os.path.join(basepath, date_stamp, f'{date_stamp}45.csv'))\n",
    "df_ble = pd.read_csv('/Users/takahiromatsunaga/res2023/shibuya_nw/shibuya_nw_detail/ble_nw.csv')"
   ]
  },
  {
   "cell_type": "code",
   "execution_count": 16,
   "metadata": {},
   "outputs": [],
   "source": [
    "df_node = pd.read_csv('/Users/takahiromatsunaga/res2023/shibuya_nw/shibuya_stanw/ver0707/micro_node_post.csv')\n",
    "df_link = pd.read_csv('/Users/takahiromatsunaga/res2023/shibuya_nw/shibuya_stanw/ver0707/micro_link_post.csv')"
   ]
  },
  {
   "cell_type": "code",
   "execution_count": 15,
   "metadata": {},
   "outputs": [
    {
     "name": "stdout",
     "output_type": "stream",
     "text": [
      "    ID          x          y  floor\n",
      "0    1 -11899.126 -37977.429   20.5\n",
      "1    2 -11921.452 -37929.268   20.5\n",
      "2    3 -11926.545 -37917.980   20.5\n",
      "3    4 -11937.249 -37889.446   20.5\n",
      "4    5 -11944.530 -37875.846   20.5\n",
      "5    6 -11948.260 -37858.242   20.5\n",
      "6    7 -11954.467 -37807.479   14.8\n",
      "7    8 -11910.889 -37984.180   20.5\n",
      "8    9 -11936.732 -37940.282   20.5\n",
      "9   10 -11956.289 -37881.094   20.5\n",
      "10  11 -11973.938 -37816.630   20.5\n",
      "11  12 -11944.104 -37908.067   28.5\n",
      "12  13 -11951.725 -37890.945   28.5\n",
      "13  14 -11932.074 -37903.900   28.5\n",
      "14  15 -11915.806 -37890.010   28.5\n",
      "15  16 -11922.159 -37871.700   28.5\n",
      "16  17 -11954.229 -37914.417   14.8\n",
      "17  18 -11913.794 -37881.741   14.8\n",
      "18  19 -11937.268 -37839.971   14.8\n",
      "19  20 -11966.577 -37831.814   14.8\n",
      "20  21 -11968.183 -37795.978   14.8\n",
      "21  22 -11904.653 -37919.897   20.5\n",
      "22  23 -11923.507 -37880.501   20.5\n"
     ]
    }
   ],
   "source": [
    "print(df_ble)"
   ]
  },
  {
   "cell_type": "code",
   "execution_count": 3,
   "metadata": {},
   "outputs": [],
   "source": [
    "bleid_list = sorted(df['ID'].unique())"
   ]
  },
  {
   "cell_type": "markdown",
   "metadata": {},
   "source": [
    "10秒単位での検出macアドレス数→密度計算をプロット"
   ]
  },
  {
   "cell_type": "code",
   "execution_count": 4,
   "metadata": {},
   "outputs": [
    {
     "name": "stdout",
     "output_type": "stream",
     "text": [
      "{1: -70.38608808360111, 2: -71.5396603973255, 3: -69.02775491003176, 4: -71.66883903042168, 5: -73.15427927927928, 6: -68.78739681900544, 7: -81.62706279190452, 15: -68.62808830073325, 16: -71.45025643779705, 17: -80.54346019247593, 18: -77.64990302494131, 19: -81.50684708625973, 20: -76.59212061383829, 21: -82.29228189381071, 22: -70.96004791431793, 23: -69.88143687707641}\n"
     ]
    }
   ],
   "source": [
    "grouped = df.groupby('ID')\n",
    "df_list = [group.reset_index(drop = True) for name, group in grouped]\n",
    "filtered_df_list = []\n",
    "mean_rssi_dict = {}\n",
    "for j in range(len(df_list)):\n",
    "    dfj = df_list[j]\n",
    "    j_id = dfj.loc[0, 'ID']\n",
    "    rssi_mean = dfj['RSSI'].mean()\n",
    "    mean_rssi_dict[j_id] = rssi_mean\n",
    "\n",
    "    filtered_dfj = dfj[dfj['RSSI'] >= rssi_mean]\n",
    "    filtered_df_list.append(filtered_dfj)\n",
    "\n",
    "print(mean_rssi_dict)"
   ]
  },
  {
   "cell_type": "code",
   "execution_count": 5,
   "metadata": {},
   "outputs": [
    {
     "name": "stdout",
     "output_type": "stream",
     "text": [
      "    ID                      time  MAC\n",
      "0    1 2023-01-30 08:30:00+09:00  117\n",
      "1    1 2023-01-30 08:30:10+09:00  123\n",
      "2    1 2023-01-30 08:30:20+09:00  161\n",
      "3    1 2023-01-30 08:30:30+09:00  102\n",
      "4    1 2023-01-30 08:30:40+09:00   91\n",
      "..  ..                       ...  ...\n",
      "85   1 2023-01-30 08:44:10+09:00   75\n",
      "86   1 2023-01-30 08:44:20+09:00   91\n",
      "87   1 2023-01-30 08:44:30+09:00  140\n",
      "88   1 2023-01-30 08:44:40+09:00  203\n",
      "89   1 2023-01-30 08:44:50+09:00  224\n",
      "\n",
      "[90 rows x 3 columns]\n",
      "    ID                      time  MAC\n",
      "0    2 2023-01-30 08:30:00+09:00  145\n",
      "1    2 2023-01-30 08:30:10+09:00  147\n",
      "2    2 2023-01-30 08:30:20+09:00  156\n",
      "3    2 2023-01-30 08:30:30+09:00  131\n",
      "4    2 2023-01-30 08:30:40+09:00  112\n",
      "..  ..                       ...  ...\n",
      "85   2 2023-01-30 08:44:10+09:00   97\n",
      "86   2 2023-01-30 08:44:20+09:00  100\n",
      "87   2 2023-01-30 08:44:30+09:00  145\n",
      "88   2 2023-01-30 08:44:40+09:00  134\n",
      "89   2 2023-01-30 08:44:50+09:00  155\n",
      "\n",
      "[90 rows x 3 columns]\n",
      "    ID                      time  MAC\n",
      "0    3 2023-01-30 08:30:00+09:00  163\n",
      "1    3 2023-01-30 08:30:10+09:00  170\n",
      "2    3 2023-01-30 08:30:20+09:00  132\n",
      "3    3 2023-01-30 08:30:30+09:00  114\n",
      "4    3 2023-01-30 08:30:40+09:00  113\n",
      "..  ..                       ...  ...\n",
      "85   3 2023-01-30 08:44:10+09:00  136\n",
      "86   3 2023-01-30 08:44:20+09:00  161\n",
      "87   3 2023-01-30 08:44:30+09:00  155\n",
      "88   3 2023-01-30 08:44:40+09:00  184\n",
      "89   3 2023-01-30 08:44:50+09:00  212\n",
      "\n",
      "[90 rows x 3 columns]\n",
      "    ID                      time  MAC\n",
      "0    4 2023-01-30 08:30:00+09:00  126\n",
      "1    4 2023-01-30 08:30:10+09:00  130\n",
      "2    4 2023-01-30 08:30:20+09:00  114\n",
      "3    4 2023-01-30 08:30:30+09:00  131\n",
      "4    4 2023-01-30 08:30:40+09:00  134\n",
      "..  ..                       ...  ...\n",
      "85   4 2023-01-30 08:44:10+09:00  166\n",
      "86   4 2023-01-30 08:44:20+09:00  151\n",
      "87   4 2023-01-30 08:44:30+09:00  152\n",
      "88   4 2023-01-30 08:44:40+09:00  197\n",
      "89   4 2023-01-30 08:44:50+09:00  182\n",
      "\n",
      "[90 rows x 3 columns]\n",
      "    ID                      time  MAC\n",
      "0    5 2023-01-30 08:30:00+09:00  117\n",
      "1    5 2023-01-30 08:30:10+09:00  150\n",
      "2    5 2023-01-30 08:30:20+09:00  123\n",
      "3    5 2023-01-30 08:30:30+09:00  125\n",
      "4    5 2023-01-30 08:30:40+09:00  116\n",
      "..  ..                       ...  ...\n",
      "85   5 2023-01-30 08:44:10+09:00  129\n",
      "86   5 2023-01-30 08:44:20+09:00  177\n",
      "87   5 2023-01-30 08:44:30+09:00  160\n",
      "88   5 2023-01-30 08:44:40+09:00  169\n",
      "89   5 2023-01-30 08:44:50+09:00  212\n",
      "\n",
      "[90 rows x 3 columns]\n",
      "    ID                      time  MAC\n",
      "0    6 2023-01-30 08:30:00+09:00  182\n",
      "1    6 2023-01-30 08:30:10+09:00  155\n",
      "2    6 2023-01-30 08:30:20+09:00  161\n",
      "3    6 2023-01-30 08:30:30+09:00  147\n",
      "4    6 2023-01-30 08:30:40+09:00  156\n",
      "..  ..                       ...  ...\n",
      "85   6 2023-01-30 08:44:10+09:00  138\n",
      "86   6 2023-01-30 08:44:20+09:00  147\n",
      "87   6 2023-01-30 08:44:30+09:00  184\n",
      "88   6 2023-01-30 08:44:40+09:00  152\n",
      "89   6 2023-01-30 08:44:50+09:00  184\n",
      "\n",
      "[90 rows x 3 columns]\n",
      "    ID                      time  MAC\n",
      "0    7 2023-01-30 08:30:00+09:00  109\n",
      "1    7 2023-01-30 08:30:10+09:00  122\n",
      "2    7 2023-01-30 08:30:20+09:00  146\n",
      "3    7 2023-01-30 08:30:30+09:00  119\n",
      "4    7 2023-01-30 08:30:40+09:00  115\n",
      "..  ..                       ...  ...\n",
      "85   7 2023-01-30 08:44:10+09:00   72\n",
      "86   7 2023-01-30 08:44:20+09:00   64\n",
      "87   7 2023-01-30 08:44:30+09:00  115\n",
      "88   7 2023-01-30 08:44:40+09:00   82\n",
      "89   7 2023-01-30 08:44:50+09:00   64\n",
      "\n",
      "[90 rows x 3 columns]\n",
      "    ID                      time  MAC\n",
      "0   15 2023-01-30 08:30:00+09:00  133\n",
      "1   15 2023-01-30 08:30:10+09:00  150\n",
      "2   15 2023-01-30 08:30:20+09:00  153\n",
      "3   15 2023-01-30 08:30:30+09:00  171\n",
      "4   15 2023-01-30 08:30:40+09:00  183\n",
      "..  ..                       ...  ...\n",
      "85  15 2023-01-30 08:44:10+09:00  122\n",
      "86  15 2023-01-30 08:44:20+09:00  114\n",
      "87  15 2023-01-30 08:44:30+09:00  106\n",
      "88  15 2023-01-30 08:44:40+09:00   91\n",
      "89  15 2023-01-30 08:44:50+09:00   81\n",
      "\n",
      "[90 rows x 3 columns]\n",
      "    ID                      time  MAC\n",
      "0   16 2023-01-30 08:30:00+09:00  100\n",
      "1   16 2023-01-30 08:30:10+09:00   86\n",
      "2   16 2023-01-30 08:30:20+09:00   79\n",
      "3   16 2023-01-30 08:30:30+09:00   83\n",
      "4   16 2023-01-30 08:30:40+09:00   82\n",
      "..  ..                       ...  ...\n",
      "85  16 2023-01-30 08:44:10+09:00   98\n",
      "86  16 2023-01-30 08:44:20+09:00   78\n",
      "87  16 2023-01-30 08:44:30+09:00   99\n",
      "88  16 2023-01-30 08:44:40+09:00   99\n",
      "89  16 2023-01-30 08:44:50+09:00   98\n",
      "\n",
      "[90 rows x 3 columns]\n",
      "    ID                      time  MAC\n",
      "0   17 2023-01-30 08:30:00+09:00  113\n",
      "1   17 2023-01-30 08:30:10+09:00  139\n",
      "2   17 2023-01-30 08:30:20+09:00  144\n",
      "3   17 2023-01-30 08:30:30+09:00   95\n",
      "4   17 2023-01-30 08:30:40+09:00   90\n",
      "..  ..                       ...  ...\n",
      "85  17 2023-01-30 08:44:10+09:00  180\n",
      "86  17 2023-01-30 08:44:20+09:00  176\n",
      "87  17 2023-01-30 08:44:30+09:00  163\n",
      "88  17 2023-01-30 08:44:40+09:00  145\n",
      "89  17 2023-01-30 08:44:50+09:00  117\n",
      "\n",
      "[90 rows x 3 columns]\n",
      "    ID                      time  MAC\n",
      "0   18 2023-01-30 08:30:00+09:00   80\n",
      "1   18 2023-01-30 08:30:10+09:00   91\n",
      "2   18 2023-01-30 08:30:20+09:00   97\n",
      "3   18 2023-01-30 08:30:30+09:00   90\n",
      "4   18 2023-01-30 08:30:40+09:00   98\n",
      "..  ..                       ...  ...\n",
      "85  18 2023-01-30 08:44:10+09:00   87\n",
      "86  18 2023-01-30 08:44:20+09:00  101\n",
      "87  18 2023-01-30 08:44:30+09:00   94\n",
      "88  18 2023-01-30 08:44:40+09:00   95\n",
      "89  18 2023-01-30 08:44:50+09:00   87\n",
      "\n",
      "[90 rows x 3 columns]\n",
      "    ID                      time  MAC\n",
      "0   19 2023-01-30 08:30:00+09:00   81\n",
      "1   19 2023-01-30 08:30:10+09:00  100\n",
      "2   19 2023-01-30 08:30:20+09:00   97\n",
      "3   19 2023-01-30 08:30:30+09:00  104\n",
      "4   19 2023-01-30 08:30:40+09:00  125\n",
      "..  ..                       ...  ...\n",
      "85  19 2023-01-30 08:44:10+09:00   46\n",
      "86  19 2023-01-30 08:44:20+09:00   58\n",
      "87  19 2023-01-30 08:44:30+09:00   57\n",
      "88  19 2023-01-30 08:44:40+09:00   51\n",
      "89  19 2023-01-30 08:44:50+09:00   39\n",
      "\n",
      "[90 rows x 3 columns]\n",
      "    ID                      time  MAC\n",
      "0   20 2023-01-30 08:30:00+09:00  199\n",
      "1   20 2023-01-30 08:30:10+09:00  176\n",
      "2   20 2023-01-30 08:30:20+09:00  175\n",
      "3   20 2023-01-30 08:30:30+09:00  200\n",
      "4   20 2023-01-30 08:30:40+09:00  210\n",
      "..  ..                       ...  ...\n",
      "85  20 2023-01-30 08:44:10+09:00  102\n",
      "86  20 2023-01-30 08:44:20+09:00  107\n",
      "87  20 2023-01-30 08:44:30+09:00  111\n",
      "88  20 2023-01-30 08:44:40+09:00  107\n",
      "89  20 2023-01-30 08:44:50+09:00   94\n",
      "\n",
      "[90 rows x 3 columns]\n",
      "    ID                      time  MAC\n",
      "0   21 2023-01-30 08:30:00+09:00  135\n",
      "1   21 2023-01-30 08:30:10+09:00  165\n",
      "2   21 2023-01-30 08:30:20+09:00  150\n",
      "3   21 2023-01-30 08:30:30+09:00  151\n",
      "4   21 2023-01-30 08:30:40+09:00  151\n",
      "..  ..                       ...  ...\n",
      "85  21 2023-01-30 08:44:10+09:00  109\n",
      "86  21 2023-01-30 08:44:20+09:00  111\n",
      "87  21 2023-01-30 08:44:30+09:00   77\n",
      "88  21 2023-01-30 08:44:40+09:00   71\n",
      "89  21 2023-01-30 08:44:50+09:00   80\n",
      "\n",
      "[90 rows x 3 columns]\n",
      "    ID                      time  MAC\n",
      "0   22 2023-01-30 08:30:00+09:00  162\n",
      "1   22 2023-01-30 08:30:10+09:00  148\n",
      "2   22 2023-01-30 08:30:20+09:00  152\n",
      "3   22 2023-01-30 08:30:30+09:00  135\n",
      "4   22 2023-01-30 08:30:40+09:00  113\n",
      "..  ..                       ...  ...\n",
      "85  22 2023-01-30 08:44:10+09:00   86\n",
      "86  22 2023-01-30 08:44:20+09:00   80\n",
      "87  22 2023-01-30 08:44:30+09:00   62\n",
      "88  22 2023-01-30 08:44:40+09:00   85\n",
      "89  22 2023-01-30 08:44:50+09:00   96\n",
      "\n",
      "[90 rows x 3 columns]\n",
      "    ID                      time  MAC\n",
      "0   23 2023-01-30 08:30:00+09:00  110\n",
      "1   23 2023-01-30 08:30:10+09:00  114\n",
      "2   23 2023-01-30 08:30:20+09:00  108\n",
      "3   23 2023-01-30 08:30:30+09:00  114\n",
      "4   23 2023-01-30 08:30:40+09:00  113\n",
      "..  ..                       ...  ...\n",
      "85  23 2023-01-30 08:44:10+09:00   73\n",
      "86  23 2023-01-30 08:44:20+09:00   82\n",
      "87  23 2023-01-30 08:44:30+09:00  104\n",
      "88  23 2023-01-30 08:44:40+09:00   71\n",
      "89  23 2023-01-30 08:44:50+09:00   98\n",
      "\n",
      "[90 rows x 3 columns]\n"
     ]
    }
   ],
   "source": [
    "resampled_df_list = []\n",
    "for dfj in filtered_df_list:\n",
    "    dfj_copy = dfj.copy()\n",
    "   # print(dfj_copy)\n",
    "    #dfj = filtered_df_list[j]\n",
    "    dfj_copy['time'] = pd.to_datetime(dfj_copy['time'])\n",
    "    dfj_copy.set_index('time', inplace=True)\n",
    "    resampled_dfj = dfj_copy.groupby('ID').resample('10S')['MAC'].nunique().reset_index() # resample('10S')のところで10秒間隔でデータを再取得している！！\n",
    "    resampled_df_list.append(resampled_dfj)\n",
    "    print(resampled_dfj) # resampleは10秒間のデータをまとめて（＝平均RSSIや検出MAC合計数など）10秒ごとに1行にしている"
   ]
  },
  {
   "cell_type": "code",
   "execution_count": 6,
   "metadata": {},
   "outputs": [
    {
     "name": "stdout",
     "output_type": "stream",
     "text": [
      "beaconid=20, beacon_ix = 12\n",
      "beaconid=21, beacon_ix = 13\n",
      "beaconid=7, beacon_ix = 6\n"
     ]
    },
    {
     "data": {
      "image/png": "[encoded data removed]",
      "text/plain": [
       "<Figure size 864x576 with 1 Axes>"
      ]
     },
     "metadata": {
      "needs_background": "light"
     },
     "output_type": "display_data"
    }
   ],
   "source": [
    "import matplotlib.pyplot as plt \n",
    "\n",
    "plt.figure(figsize=(12, 8))\n",
    "for beacon_id in [20, 21, 7]:\n",
    "    beacon_ix = bleid_list.index(beacon_id)\n",
    "    print(f'beaconid={beacon_id}, beacon_ix = {beacon_ix}')\n",
    "    # beacon_data = resampled_df[resampled_df['ID'] == beacon_id]\n",
    "    # print(beacon_data)\n",
    "    # mean_rssi = mean_rssi_dict[beacon_id]\n",
    "    # filterd_beacon_data = beacon_data[beacon_data['RSSI'] >= mean_rssi]\n",
    "    dfjb = resampled_df_list[beacon_ix]\n",
    "    plt.plot(dfjb['time'], dfjb['MAC'], label=f'Beacon ID {beacon_id}')\n",
    "\n",
    "plt.xlabel('Time')\n",
    "plt.ylabel('Unique MAC Addresses Count')\n",
    "plt.title('Unique MAC Addresses Detected by Each Beacon (10-second intervals)')\n",
    "plt.legend()\n",
    "plt.grid(True)\n",
    "plt.show()"
   ]
  },
  {
   "cell_type": "markdown",
   "metadata": {},
   "source": [
    "各セルにおける主流の方向を判別する"
   ]
  },
  {
   "cell_type": "code",
   "execution_count": 7,
   "metadata": {},
   "outputs": [],
   "source": [
    "# 階段ではなくとりあえず平面部分の卓越方向を見る\n",
    "# "
   ]
  },
  {
   "cell_type": "code",
   "execution_count": 8,
   "metadata": {},
   "outputs": [
    {
     "name": "stdout",
     "output_type": "stream",
     "text": [
      "52199\n"
     ]
    }
   ],
   "source": [
    "# 個人ごとに分割\n",
    "grouped2 = df.groupby('MAC')\n",
    "df_list2 = [group.reset_index(drop = True) for name, group in grouped2]\n",
    "\n",
    "print(len(df_list2))"
   ]
  },
  {
   "cell_type": "code",
   "execution_count": 9,
   "metadata": {},
   "outputs": [
    {
     "name": "stdout",
     "output_type": "stream",
     "text": [
      "23070\n"
     ]
    }
   ],
   "source": [
    "# 検出ビーコン数が2以下の場合消去\n",
    "filtered_df_list2 = []\n",
    "for u in range(len(df_list2)):\n",
    "    dfu = df_list2[u]\n",
    "    if dfu['ID'].nunique() <= 2:\n",
    "        continue\n",
    "    dfu_copy = dfu.copy()\n",
    "    filtered_df_list2.append(dfu_copy)\n",
    "\n",
    "print(len(filtered_df_list2)) # 23070くらい（半減した）"
   ]
  },
  {
   "cell_type": "markdown",
   "metadata": {},
   "source": [
    "10秒間隔でtimestep与えて絞り込む"
   ]
  },
  {
   "cell_type": "code",
   "execution_count": 10,
   "metadata": {},
   "outputs": [
    {
     "name": "stdout",
     "output_type": "stream",
     "text": [
      "2023-01-30 08:30:00+09:00\n",
      "20657\n"
     ]
    }
   ],
   "source": [
    "# 10秒ごとにサンプリング\n",
    "# 検出時間が30秒以下のものは削除\n",
    "import datetime \n",
    "import pytz\n",
    "initial_time = pd.Timestamp('2023-01-30 08:30:00')\n",
    "initial_time = initial_time.tz_localize('Asia/Tokyo')  # JSTとしてローカライズ\n",
    "\n",
    "# timezone = pytz.timezone('Asia/Tokyo')  # JSTはUTC+9\n",
    "# initial_time = initial_time.tz_localize(pytz.utc).tz_convert(timezone)\n",
    "print(initial_time)\n",
    "filtered_df_list3 = []\n",
    "for dfu in filtered_df_list2:\n",
    "    dfu_copy = dfu.copy()\n",
    "    # print(dfj_copy)\n",
    "    # dfj = filtered_df_list[j]\n",
    "    dfu_copy['time'] = pd.to_datetime(dfu_copy['time']).dt.tz_convert('Asia/Tokyo') \n",
    "    # すでに形上では+9:00がついているものの，df.tz_convert以降をつけないと正式には認識されない！！\n",
    "    # dfu_copy.set_index('time', inplace=True) \n",
    "    # print(dfu_copy.loc[0, 'time'] - initial_time) \n",
    "\n",
    "    dfu_copy['time_diff'] = (dfu_copy['time'] - initial_time).dt.total_seconds()\n",
    "    dfu_copy['timestep'] = (dfu_copy['time_diff'] // 10).astype(int) # dt.tz_localize('Asia/Tokyo') \n",
    "\n",
    "    if dfu_copy['timestep'].nunique() <= 3:\n",
    "        continue\n",
    "    filtered_df_list3.append(dfu_copy)\n",
    "\n",
    "print(len(filtered_df_list3))"
   ]
  },
  {
   "cell_type": "markdown",
   "metadata": {},
   "source": [
    "各個人について10秒ごとにBLEビーコンNW上での観測重みグラフを作成\n",
    "その差分から移動ベクトルを抽出したいが．．"
   ]
  },
  {
   "cell_type": "code",
   "execution_count": 11,
   "metadata": {},
   "outputs": [
    {
     "name": "stdout",
     "output_type": "stream",
     "text": [
      "(' 00038a9bc1e248de3b9713d6967742fb8f85b24b7e7b4108bbacdc7a41366921', array([[0., 0., 0., ..., 0., 0., 0.],\n",
      "       [0., 0., 0., ..., 0., 0., 0.],\n",
      "       [0., 0., 0., ..., 0., 0., 0.],\n",
      "       ...,\n",
      "       [0., 0., 0., ..., 0., 0., 0.],\n",
      "       [0., 0., 0., ..., 0., 0., 0.],\n",
      "       [0., 0., 0., ..., 0., 0., 0.]]))\n"
     ]
    }
   ],
   "source": [
    "res_dict = {} # 個人ごとに各timestepでBLEスコアを入れるT*Bのグラフ（行列）を格納\n",
    "B = len(bleid_list) # Bはビーコン数\n",
    "TT = 90 # 全部のtimestep数\n",
    "for dfi in filtered_df_list3: # 個人ごと\n",
    "    res_mat = np.zeros((TT, B)) # 各timestepでの各ビーコンのスコア\n",
    "    # 時間ごとに分けて集計\n",
    "    grouped3 = dfi.groupby('timestep')\n",
    "    mac = dfi.loc[0, 'MAC']\n",
    "    # res_dict[mac] = 0\n",
    "    dfi_t_list = [group.reset_index(drop = True) for name, group in grouped3]\n",
    "    for dfit in dfi_t_list: # 各timestep内で\n",
    "        ts = dfit.loc[0, 'timestep']\n",
    "        it_dict = {} # 各ビーコンの累積スコアを記録する辞書\n",
    "        for i in range(len(dfit)):\n",
    "            beacon_id = dfit.loc[i, 'ID']\n",
    "            beacon_ix = bleid_list.index(beacon_id)\n",
    "            rssi = dfit.loc[i, 'RSSI']\n",
    "            res_mat[ts-1, beacon_ix] += (100+rssi)/10\n",
    "            # if beacon_id not in it_dict.items():\n",
    "            #     it_dict[beacon_id] = (100+rssi)/10\n",
    "            # else:\n",
    "            #     it_dict[beacon_id] = (100+rssi)/10\n",
    "            #it\n",
    "        # print(it_dict)\n",
    "    res_dict[mac] = res_mat\n",
    "\n",
    "items1 = list(res_dict.items())\n",
    "# values = list(res_dict.values())\n",
    "print(items1[0])"
   ]
  },
  {
   "cell_type": "code",
   "execution_count": 12,
   "metadata": {},
   "outputs": [
    {
     "name": "stdout",
     "output_type": "stream",
     "text": [
      " 00038a9bc1e248de3b9713d6967742fb8f85b24b7e7b4108bbacdc7a41366921\n",
      ": time_beacon(40, 3), Value: 1.8\n",
      ": time_beacon(40, 22), Value: 2.4\n",
      ": time_beacon(42, 15), Value: 1.9\n",
      ": time_beacon(42, 22), Value: 6.5\n",
      ": time_beacon(43, 2), Value: 2.1\n",
      ": time_beacon(43, 22), Value: 12.0\n",
      ": time_beacon(44, 15), Value: 5.4\n",
      ": time_beacon(45, 15), Value: 6.2\n",
      ": time_beacon(45, 16), Value: 8.0\n",
      ": time_beacon(46, 15), Value: 7.1000000000000005\n",
      ": time_beacon(46, 16), Value: 4.4\n",
      ": time_beacon(47, 16), Value: 2.5\n"
     ]
    }
   ],
   "source": [
    "# print(items1[0][1])\n",
    "#np.set_printoptions(threshold=np.inf)\n",
    "print(items1[0][0])\n",
    "indices = np.nonzero(items1[0][1])\n",
    "values = items1[0][1][indices]\n",
    "for index, value in zip(zip(*indices), values):\n",
    "    #print(index)\n",
    "    time_beacon = (index[0], bleid_list[index[1]])\n",
    "    print(f\": time_beacon{time_beacon}, Value: {value}\")\n"
   ]
  },
  {
   "cell_type": "markdown",
   "metadata": {},
   "source": [
    "res_dictに入っている各mac address毎に時間TTと検出ビーコンBでのスコア行列がある．個人内で行列の上下の差分をとって変位行列を作成する\n"
   ]
  },
  {
   "cell_type": "code",
   "execution_count": 13,
   "metadata": {},
   "outputs": [
    {
     "ename": "KeyboardInterrupt",
     "evalue": "",
     "output_type": "error",
     "traceback": [
      "\u001b[0;31m---------------------------------------------------------------------------\u001b[0m",
      "\u001b[0;31mKeyboardInterrupt\u001b[0m                         Traceback (most recent call last)",
      "\u001b[0;32m/var/folders/1p/_62pxgbn5kg837b06pfnvkdw0000gn/T/ipykernel_1597/2932935712.py\u001b[0m in \u001b[0;36m<module>\u001b[0;34m\u001b[0m\n\u001b[1;32m      5\u001b[0m     \u001b[0mdelta_mat\u001b[0m \u001b[0;34m=\u001b[0m \u001b[0mnp\u001b[0m\u001b[0;34m.\u001b[0m\u001b[0mzeros\u001b[0m\u001b[0;34m(\u001b[0m\u001b[0;34m(\u001b[0m\u001b[0mTT\u001b[0m\u001b[0;34m-\u001b[0m\u001b[0;36m1\u001b[0m\u001b[0;34m,\u001b[0m \u001b[0mB\u001b[0m\u001b[0;34m)\u001b[0m\u001b[0;34m)\u001b[0m\u001b[0;34m\u001b[0m\u001b[0;34m\u001b[0m\u001b[0m\n\u001b[1;32m      6\u001b[0m     \u001b[0;32mfor\u001b[0m \u001b[0mt\u001b[0m \u001b[0;32min\u001b[0m \u001b[0mrange\u001b[0m\u001b[0;34m(\u001b[0m\u001b[0mTT\u001b[0m\u001b[0;34m-\u001b[0m\u001b[0;36m1\u001b[0m\u001b[0;34m)\u001b[0m\u001b[0;34m:\u001b[0m\u001b[0;34m\u001b[0m\u001b[0;34m\u001b[0m\u001b[0m\n\u001b[0;32m----> 7\u001b[0;31m         \u001b[0mdelta_mat\u001b[0m\u001b[0;34m[\u001b[0m\u001b[0mt\u001b[0m\u001b[0;34m,\u001b[0m \u001b[0;34m:\u001b[0m\u001b[0;34m]\u001b[0m \u001b[0;34m=\u001b[0m \u001b[0mres_mat\u001b[0m\u001b[0;34m[\u001b[0m\u001b[0mt\u001b[0m\u001b[0;34m+\u001b[0m\u001b[0;36m1\u001b[0m\u001b[0;34m,\u001b[0m \u001b[0;34m:\u001b[0m\u001b[0;34m]\u001b[0m \u001b[0;34m-\u001b[0m \u001b[0mres_mat\u001b[0m\u001b[0;34m[\u001b[0m\u001b[0mt\u001b[0m\u001b[0;34m,\u001b[0m \u001b[0;34m:\u001b[0m\u001b[0;34m]\u001b[0m\u001b[0;34m\u001b[0m\u001b[0;34m\u001b[0m\u001b[0m\n\u001b[0m\u001b[1;32m      8\u001b[0m     \u001b[0mdelta_res_dict\u001b[0m\u001b[0;34m[\u001b[0m\u001b[0mmac\u001b[0m\u001b[0;34m]\u001b[0m \u001b[0;34m=\u001b[0m \u001b[0mdelta_mat\u001b[0m\u001b[0;34m\u001b[0m\u001b[0;34m\u001b[0m\u001b[0m\n\u001b[1;32m      9\u001b[0m \u001b[0;34m\u001b[0m\u001b[0m\n",
      "\u001b[0;31mKeyboardInterrupt\u001b[0m: "
     ]
    }
   ],
   "source": [
    "# delta_res_dict = {}\n",
    "# for mac, res_mat in list(res_dict.items()):\n",
    "#     # 各個人毎に\n",
    "#     # print(len(list(res_dict.items())))\n",
    "#     delta_mat = np.zeros((TT-1, B))\n",
    "#     for t in range(TT-1):\n",
    "#         delta_mat[t, :] = res_mat[t+1, :] - res_mat[t, :]\n",
    "#     delta_res_dict[mac] = delta_mat\n",
    "\n",
    "# items2 = list(delta_res_dict.items())\n",
    "# print(items2[0][0])\n",
    "# indices2 = np.nonzero(items2[0][1])\n",
    "# values2 = items2[0][1][indices2]\n",
    "# for index, value in zip(zip(*indices2), values2):\n",
    "#     #print(index)\n",
    "#     time_beacon = (index[0], bleid_list[index[1]])\n",
    "#     print(f\": time_beacon{time_beacon}, Value: {value}\")\n"
   ]
  },
  {
   "cell_type": "markdown",
   "metadata": {},
   "source": [
    "ベクトル演算早すぎ＝＝＝＝＝"
   ]
  },
  {
   "cell_type": "code",
   "execution_count": 14,
   "metadata": {},
   "outputs": [
    {
     "name": "stdout",
     "output_type": "stream",
     "text": [
      " 00038a9bc1e248de3b9713d6967742fb8f85b24b7e7b4108bbacdc7a41366921\n",
      ": time_beacon(39, 3), Value: 1.8\n",
      ": time_beacon(39, 22), Value: 2.4\n",
      ": time_beacon(40, 3), Value: -1.8\n",
      ": time_beacon(40, 22), Value: -2.4\n",
      ": time_beacon(41, 15), Value: 1.9\n",
      ": time_beacon(41, 22), Value: 6.5\n",
      ": time_beacon(42, 2), Value: 2.1\n",
      ": time_beacon(42, 15), Value: -1.9\n",
      ": time_beacon(42, 22), Value: 5.5\n",
      ": time_beacon(43, 2), Value: -2.1\n",
      ": time_beacon(43, 15), Value: 5.4\n",
      ": time_beacon(43, 22), Value: -12.0\n",
      ": time_beacon(44, 15), Value: 0.7999999999999998\n",
      ": time_beacon(44, 16), Value: 8.0\n",
      ": time_beacon(45, 15), Value: 0.9000000000000004\n",
      ": time_beacon(45, 16), Value: -3.5999999999999996\n",
      ": time_beacon(46, 15), Value: -7.1000000000000005\n",
      ": time_beacon(46, 16), Value: -1.9000000000000004\n",
      ": time_beacon(47, 16), Value: -2.5\n"
     ]
    }
   ],
   "source": [
    "delta_res_dict = {}\n",
    "# 差分行列を計算する関数\n",
    "def compute_delta_matrix(res_mat):\n",
    "    return res_mat[1:, :] - res_mat[:-1, :] # この書き方つよい\n",
    "\n",
    "for mac, res_mat in res_dict.items():\n",
    "    delta_res_dict[mac] = compute_delta_matrix(res_mat)\n",
    "\n",
    "# for mac, res_mat in list(res_dict.items()):\n",
    "#     # 各個人毎に\n",
    "#     # print(len(list(res_dict.items())))\n",
    "#     delta_mat = np.zeros((TT-1, B))\n",
    "#     for t in range(TT-1):\n",
    "#         delta_mat[t, :] = res_mat[t+1, :] - res_mat[t, :]\n",
    "#     delta_res_dict[mac] = delta_mat\n",
    "\n",
    "items2 = list(delta_res_dict.items())\n",
    "print(items2[0][0])\n",
    "indices2 = np.nonzero(items2[0][1])\n",
    "values2 = items2[0][1][indices2]\n",
    "for index, value in zip(zip(*indices2), values2):\n",
    "    #print(index)\n",
    "    time_beacon = (index[0], bleid_list[index[1]])\n",
    "    print(f\": time_beacon{time_beacon}, Value: {value}\")\n"
   ]
  },
  {
   "cell_type": "markdown",
   "metadata": {},
   "source": [
    "重心の移動ベクトルから向きと速度を記憶し，これを最寄りのノード（セルorリンク）にマッピングする"
   ]
  },
  {
   "cell_type": "code",
   "execution_count": null,
   "metadata": {},
   "outputs": [],
   "source": [
    "# とりあえず時間ごとの重心を出す\n"
   ]
  },
  {
   "cell_type": "code",
   "execution_count": null,
   "metadata": {},
   "outputs": [],
   "source": [
    "# # import numpy as np\n",
    "# import matplotlib.pyplot as plt\n",
    "# from scipy.spatial import Voronoi, voronoi_plot_2d\n",
    "\n",
    "# # データの例（各時刻における各個人の位置と移動ベクトル）\n",
    "# positions = [np.array([...]), ...]  # 各時刻の位置データ\n",
    "# velocities = [np.array([...]), ...]  # 各時刻の移動ベクトルデータ\n",
    "\n",
    "# # ノードの位置\n",
    "# nodes = np.array([...])  # ボロノイ図の中心ノードの位置\n",
    "\n",
    "# # ボロノイ図の構築\n",
    "# vor = Voronoi(nodes)\n",
    "# voronoi_plot_2d(vor)\n",
    "# plt.show()\n",
    "\n",
    "# # セルごとの移動ベクトルの集計\n",
    "# cell_vectors = {}\n",
    "# for t, (pos, vel) in enumerate(zip(positions, velocities)):\n",
    "#     for i, node in enumerate(nodes):\n",
    "#         cell_vectors[i] = cell_vectors.get(i, []) + [vel[j] for j in range(len(pos)) if np.linalg.norm(pos[j] - node) < threshold]\n",
    "\n",
    "# # 移動ベクトルの密度と向きの計算\n",
    "# cell_density = {i: len(vectors) for i, vectors in cell_vectors.items()}\n",
    "# cell_directions = {i: np.mean(vectors, axis=0) if vectors else np.zeros(2) for i, vectors in cell_vectors.items()}\n",
    "\n",
    "# # ポテンシャル場の定義\n",
    "# potential_field = {i: density * direction for i, (density, direction) in enumerate(zip(cell_density.values(), cell_directions.values()))}\n",
    "\n",
    "# # 可視化\n",
    "# for i, (density, direction) in potential_field.items():\n",
    "#     plt.quiver(nodes[i, 0], nodes[i, 1], direction[0], direction[1], scale=density)\n",
    "# plt.show()\n"
   ]
  }
 ],
 "metadata": {
  "kernelspec": {
   "display_name": "base",
   "language": "python",
   "name": "python3"
  },
  "language_info": {
   "codemirror_mode": {
    "name": "ipython",
    "version": 3
   },
   "file_extension": ".py",
   "mimetype": "text/x-python",
   "name": "python",
   "nbconvert_exporter": "python",
   "pygments_lexer": "ipython3",
   "version": "3.9.7"
  }
 },
 "nbformat": 4,
 "nbformat_minor": 2
}
