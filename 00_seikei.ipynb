{
 "cells": [
  {
   "cell_type": "markdown",
   "metadata": {},
   "source": [
    "データの整形＆抽出用コード"
   ]
  },
  {
   "cell_type": "code",
   "execution_count": 43,
   "metadata": {},
   "outputs": [],
   "source": [
    "import pandas as pd\n",
    "import datetime\n",
    "import numpy as np\n",
    "import os"
   ]
  },
  {
   "cell_type": "code",
   "execution_count": 81,
   "metadata": {},
   "outputs": [],
   "source": [
    "time_stamp = '20230130_22'\n",
    "base_path = '/Users/takahiromatsunaga/res2023/bledata'\n",
    "input_path = os.path.join(base_path, f'ble_timegroup/{time_stamp}/{time_stamp}.csv') \n",
    "df_ble = pd.read_csv('/Users/takahiromatsunaga/res2023/shibuya_nw/shibuya_nw_detail/ble_nw.csv')"
   ]
  },
  {
   "cell_type": "markdown",
   "metadata": {},
   "source": [
    "親データ（日時指定）からinput用に整形．混雑度列の付与と不要列カット＆15分間のデータの抽出"
   ]
  },
  {
   "cell_type": "code",
   "execution_count": 82,
   "metadata": {},
   "outputs": [],
   "source": [
    "# 不要列カットしてcsv更新\n",
    "# 親データ読み込み\n",
    "# time_stamp = '20230129_17'\n",
    "input_path = os.path.join(base_path, f'ble_timegroup/{time_stamp}/{time_stamp}.csv') \n",
    "df_parents = pd.read_csv(input_path)\n",
    "\n",
    "# 不要列排除\n",
    "df_parents = df_parents.iloc[:, 2:]\n",
    "df_parents.drop(['num', 'type', 'day', 'hour', 'day_flag'], axis=1, inplace=True)\n",
    "\n",
    "# 既存列更新\n",
    "df_parents['ID'] = df_parents['ID'].str.replace('id', '').astype(int)\n",
    "df_parents['time'] = pd.to_datetime(df_parents['time'])\n",
    "\n",
    "df_parents.to_csv(input_path)"
   ]
  },
  {
   "cell_type": "code",
   "execution_count": 83,
   "metadata": {},
   "outputs": [
    {
     "data": {
      "text/plain": [
       "'22'"
      ]
     },
     "execution_count": 83,
     "metadata": {},
     "output_type": "execute_result"
    }
   ],
   "source": [
    "time_stamp[9:]"
   ]
  },
  {
   "cell_type": "code",
   "execution_count": 84,
   "metadata": {},
   "outputs": [
    {
     "name": "stdout",
     "output_type": "stream",
     "text": [
      "2023-01-30 22:30:00+09:00\n"
     ]
    }
   ],
   "source": [
    "start_time = pd.Timestamp(f'{time_stamp[:8]} {time_stamp[9:]}:30:00+09:00')\n",
    "print(start_time)"
   ]
  },
  {
   "cell_type": "code",
   "execution_count": 85,
   "metadata": {},
   "outputs": [],
   "source": [
    "# 親データから15分間のデータを取り出す\n",
    "# 更新済みcsvを読み込む\n",
    "\n",
    "df_parents = pd.read_csv(input_path)\n",
    "# df_parents = pd.read_csv('/Users/takahiromatsunaga/res2023/bledata/ble_timegroup/20230130_17/20230130_17.csv')\n",
    "df_parents['time'] = pd.to_datetime(df_parents['time'])\n",
    "# time_stamp = '20230129_10'\n",
    "\n",
    "# Timestampはdatetimeをpandas上でも機能させるように作られたもの ### 4:30-45に来る電車は一本しかない！！！しかも山手線じゃ！！\n",
    "# start_line = pd.Timestamp('2023-01-30 10:30:00+09:00')\n",
    "start_line = pd.Timestamp(f'{time_stamp[:8]} {time_stamp[9:]}:30:00+09:00')\n",
    "cutline = pd.Timestamp(f'{time_stamp[:8]} {time_stamp[9:]}:59:59+09:00') # グリニッジより9時間進んでるので\n",
    "\n",
    "#print(df.loc[1, 'time'].dtype)\n",
    "df_quater = df_parents[(df_parents['time'] > start_line) & (df_parents['time'] < cutline)]\n",
    "df_quater = df_quater.iloc[:, 1:]\n",
    "\n",
    "#df_quater_path = f'/Users/takahiromatsunaga/res2023/bledata/ble_timegroup/{time_stamp}/{time_stamp}45.csv'\n",
    "df_quater_path = os.path.join(base_path, f'ble_timegroup/{time_stamp}/{time_stamp}30.csv')\n",
    "#print(df_quater)\n",
    "df_quater.to_csv(df_quater_path)"
   ]
  },
  {
   "cell_type": "markdown",
   "metadata": {},
   "source": [
    "以降はpotentialのところを使えばいい？？？\n"
   ]
  },
  {
   "cell_type": "markdown",
   "metadata": {},
   "source": [
    "15分データにtimestepを付与"
   ]
  },
  {
   "cell_type": "code",
   "execution_count": null,
   "metadata": {},
   "outputs": [],
   "source": [
    "# 15分データに18sec間隔でtimestepを与える（timestep列）\n",
    "# start_line = pd.Timestamp('2023-01-29 17:30:00+09:00')\n",
    "# time_stamp = '20230130_17'\n",
    "df_quater_path =  os.path.join(base_path, f'ble_timegroup/{time_stamp}/{time_stamp}30.csv')\n",
    "df_quater = pd.read_csv(df_quater_path)\n",
    "\n",
    "# print(df_quater.dtypes) 最初timeはobjectなのでdatetime形式に変換\n",
    "df_quater['time'] = pd.to_datetime(df_quater['time'])\n",
    "\n",
    "# timeの昇順でデータを並べ替え\n",
    "df_quater = df_quater.sort_values('time', ascending=True).reset_index(drop=True)\n",
    "\n",
    "# time_stepを18秒間隔で付与\n",
    "seconds  = 20\n",
    "time_delta = pd.Timedelta(seconds) # df_quater['time'].iloc[0]がstart時刻であることを利用\n",
    "df_quater['timestep'] = (df_quater['time'] - df_quater['time'].iloc[0]) // time_delta + 1\n",
    "\n",
    "#new_18sec_path = f'/Users/takahiromatsunaga/res2023/bledata/ble_timegroup/{time_stamp}/{time_stamp}45_18sec.csv'\n",
    "new_sec_path = os.path.join(base_path, f'ble_timegroup/{time_stamp}/{time_stamp}30_{seconds}sec.csv')\n",
    "df_quater.to_csv(new_sec_path)\n",
    "#print(df_quater)"
   ]
  },
  {
   "cell_type": "markdown",
   "metadata": {},
   "source": [
    "【重要】不要列カット/timestep分割等が済んだ15分間データに対し，個人ごとにデータを分割する操作．ここでしかデータの切り落としはしていない！のでデータクリーニングの全てはこのコードにある"
   ]
  },
  {
   "cell_type": "code",
   "execution_count": null,
   "metadata": {},
   "outputs": [
    {
     "name": "stdout",
     "output_type": "stream",
     "text": [
      "84023\n",
      "1120 60968 15092 2243 4466 134 8\n"
     ]
    }
   ],
   "source": [
    "\n",
    "#new_18sec_path = f'/Users/takahiromatsunaga/res2023/bledata/ble_timegroup/{time_stamp}/{time_stamp}45_18sec.csv'\n",
    "#new_18sec_path = '/Users/takahiromatsunaga/res2023/bledata/ble_timegroup/20230129_17/20230129_1730_18sec.csv'\n",
    "#df = pd.read_csv(new_18sec_path)\n",
    "timelimit = 15\n",
    "#output_folder = f'/Users/takahiromatsunaga/res2023/bledata/ble_timegroup/{time_stamp}/{time_stamp}45_18sec_endgate_under{timelimit}'\n",
    "output_folder = os.path.join(base_path, f'ble_timegroup/{time_stamp}/{time_stamp}45_{seconds}sec_end162021_under{timelimit}')\n",
    "if not os.path.exists(output_folder):\n",
    "    os.mkdir(output_folder)\n",
    "\n",
    "# bleの階ごとのlist．工事の前中後で変化するので注意\n",
    "ble_at_home = [1, 2, 3, 4, 5, 6, 22, 23] # [1, 2, 3, 4, 5, 6, 8, 9, 10, 11, 22, 23] \n",
    "# post [1, 2, 3, 4, 5, 6, 22, 23]\n",
    "# ble_at_concourse = [7, 15, 16, 17, 18, 19, 20, 21]  # [7, 12, 13, 14, 15, 16, 17, 18, 19, 20, 21] \n",
    "# post [7, 15, 16, 17, 18, 19, 20, 21] \n",
    "ble_at_concourse = [15, 16, 20, 21, 7] # \n",
    "\n",
    "# 全部の改札をdとして許容する場合\n",
    "# abs_links = [16, 20, 21, 15, 17, 18, 7] # ややこしいが，これはリンクではなくビーコンのid\n",
    "# 南改札をdに入れない場合\n",
    "# abs_links = [15, 16, 20, 21, 7] \n",
    "abs_links = [16, 20, 21]\n",
    "# ここでもっと絞れるのではないか\n",
    "# ble_at_gate = [(15), 16, 17, 18, 20, 21, ]\n",
    "\n",
    "grouped = df.groupby('MAC')\n",
    "df_list = [group.reset_index(drop=True) for name, group in grouped]\n",
    "\n",
    "original_user = len(df_list)\n",
    "print(original_user)\n",
    "count = 0\n",
    "count1 = 0\n",
    "count2 = 0\n",
    "count3 = 0\n",
    "count4 = 0\n",
    "count5 = 0\n",
    "count6 = 0\n",
    "\n",
    "for group in df_list:\n",
    "    nts = group['timestep'].nunique()\n",
    "\n",
    "    if nts >= timelimit+1:\n",
    "       count1 += 1\n",
    "       continue\n",
    "\n",
    "    if nts <= 4:\n",
    "        count1 += 1\n",
    "        continue\n",
    "    \n",
    "    # if nts >= 36:\n",
    "    #     count1 += 1\n",
    "    #     continue\n",
    "    \n",
    "    group = group.sort_values(by = 'timestep') # 昇順のはず\n",
    "    ts_diff = group['timestep'].diff().tolist() # 上手くリスト内包表記で書きたい（forで回さない）\n",
    "    ts_diff = np.nan_to_num(ts_diff, nan = 0)\n",
    "\n",
    "    # 観測間隔が少しでも空いてる場合（簡単のため落とす）\n",
    "    if ts_diff.max() >= 2:\n",
    "        count2 += 1\n",
    "        continue\n",
    "\n",
    "    # そうでなくても，間隔3以上の場所が2箇所以上ある場合\n",
    "    #count_greater_than_3 = sum(x >= 3 for x in ts_diff)\n",
    "    #if count_greater_than_3 >= 2:\n",
    "    #    count2 += 1\n",
    "    #    continue\n",
    "\n",
    "    # ホーム階or改札階のいずれかのビーコンでしか観測されなかった場合\n",
    "    uni_beacons = group['ID'].unique().tolist()\n",
    "    if all(item in ble_at_concourse for item in uni_beacons) or all(item in ble_at_home for item in uni_beacons):        \n",
    "        count3 += 1\n",
    "        continue\n",
    "        # if (not any(item in uni_beacons for item in ble_at_home)) or (not any(item in uni_beacons for item in ble_at_concourse)):\n",
    "\n",
    "    #timestepでgrouping\n",
    "    grouped2 = group.groupby('timestep')\n",
    "    df_list2 = [group2.reset_index(drop=True) for name, group2 in grouped2]\n",
    "\n",
    "    # 最初と最後でともにhomeあるいは改札で観測された場合\n",
    "    ts1 = df_list2[0]\n",
    "    tslast = df_list2[-1]\n",
    "    ts1_ble = ts1['ID'].unique()\n",
    "    tslast_ble = tslast['ID'].unique()\n",
    "\n",
    "    # 最後のtimestepで最も観測頻度が大きかったビーコンでdを決める\n",
    "    most_common_did = tslast['ID'].mode()[0]\n",
    "    if not most_common_did in abs_links:\n",
    "        count4 += 1\n",
    "        continue\n",
    "\n",
    "    # ホーム階＆改札階で観測されてるけど，ODが同じっぽい場合\n",
    "    if (all(item in ble_at_home for item in ts1_ble) and all(item in ble_at_home for item in tslast_ble)):\n",
    "        count5 += 1\n",
    "        continue\n",
    "    if (all(item in ble_at_concourse for item in ts1_ble) and all(item in ble_at_concourse for item in tslast_ble)):\n",
    "        count5 += 1\n",
    "        continue\n",
    "\n",
    "    # 同時点に6個以上のビーコンで観測された場合（class1だとして落とす）．\n",
    "    for group2 in df_list2:\n",
    "        nbeacon = group2['ID'].nunique()\n",
    "        if nbeacon >= 7:\n",
    "            count6 += 1\n",
    "            break\n",
    "\n",
    "    # 上記の条件を潜り抜けるとここに行き着く\n",
    "    file_path = os.path.join(output_folder, f'{count}.csv')\n",
    "    group.to_csv(file_path, index=False)\n",
    "    count += 1\n",
    "\n",
    "print(count, count1, count2, count3, count4, count5, count6)\n",
    "\n",
    "# 前よりはマシなサンプリングができていると思う"
   ]
  },
  {
   "cell_type": "code",
   "execution_count": null,
   "metadata": {},
   "outputs": [
    {
     "name": "stdout",
     "output_type": "stream",
     "text": [
      "450\n"
     ]
    }
   ],
   "source": [
    "print(len(os.listdir('/Users/takahiromatsunaga/res2023/bledata/ble_timegroup/20230129_17/20230129_1745_18sec_end162021_under10')))"
   ]
  },
  {
   "cell_type": "code",
   "execution_count": null,
   "metadata": {},
   "outputs": [],
   "source": [
    "import os\n",
    "import shutil\n",
    "\n",
    "def organize_files(src_directory, files_per_folder):\n",
    "    # すべてのファイルをリストアップ\n",
    "    files = [f for f in os.listdir(src_directory) if f.endswith('.csv')]\n",
    "    \n",
    "    # ファイルを指定された数ごとに分ける\n",
    "    total_files = len(files)\n",
    "    for i in range(0, total_files, files_per_folder):\n",
    "        # 新しいフォルダの名前を定義（例: folder_1, folder_2, ...）\n",
    "        folder_name = os.path.join(src_directory, f'folder_{i // files_per_folder + 1}')\n",
    "        os.makedirs(folder_name, exist_ok=True)\n",
    "        \n",
    "        # ファイルを新しいフォルダに移動\n",
    "        for file in files[i:i + files_per_folder]:\n",
    "            shutil.move(os.path.join(src_directory, file), folder_name)\n",
    "\n",
    "# ユーザーが指定するソースディレクトリ（CSVファイルが含まれているフォルダ）\n",
    "source_directory = '/Users/takahiromatsunaga/res2023/bledata/ble_timegroup/20230129_17/20230129_1730_18sec_end162021_under10'\n",
    "# フォルダあたりのファイル数を指定\n",
    "files_per_folder = 112\n",
    "\n",
    "# 関数を実行\n",
    "organize_files(source_directory, files_per_folder)\n",
    "# （実行時間早すぎー）"
   ]
  },
  {
   "cell_type": "markdown",
   "metadata": {},
   "source": [
    "可視化のためにとりあえずODの傾向を見せる．のでホーム→改札or改札→ホームで，かつ時間制限もなし"
   ]
  },
  {
   "cell_type": "code",
   "execution_count": 2,
   "metadata": {},
   "outputs": [
    {
     "name": "stdout",
     "output_type": "stream",
     "text": [
      "52199\n",
      "11501 37203 0 2156 0 1339 199\n"
     ]
    }
   ],
   "source": [
    "### 朝夕で一旦比較する\n",
    "#df = pd.read_csv('/Users/takahiromatsunaga/res2023/bledata/ble_timegroup/20230130_17/20230130_1745_18sec.csv')\n",
    "\n",
    "# df = pd.read_csv('/Users/takahiromatsunaga/res2023/bledata/ble_timegroup/20230130_08/20230130_0845_20sec.csv')\n",
    "df = pd.read_csv(os.path.join(base_path, f'ble_timegroup/{time_stamp}/{time_stamp}45_20sec.csv'))\n",
    "# output_folder = '/Users/takahiromatsunaga/res2023/bledata/ble_timegroup/20230130_08/20230130_0845_20sec_forvisualization'\n",
    "output_folder = os.path.join(base_path, f'ble_timegroup/2{time_stamp}/{time_stamp}45_20sec_forvisualization')\n",
    "if not os.path.exists(output_folder):\n",
    "    os.mkdir(output_folder)\n",
    "\n",
    "# bleの階ごとのlist．工事の前中後で変化するので注意\n",
    "ble_at_home = [1, 2, 3, 4, 5, 6, 22, 23] # [1, 2, 3, 4, 5, 6, 8, 9, 10, 11, 22, 23] # post [1, 2, 3, 4, 5, 6, 22, 23]\n",
    "ble_at_concourse = [7, 15, 16, 17, 18, 19, 20, 21]  # [7, 12, 13, 14, 15, 16, 17, 18, 19, 20, 21] # post [7, 15, 16, 17, 18, 19, 20, 21] \n",
    "abs_links = [16, 20, 21]\n",
    "\n",
    "# ここでもっと絞れるのではないか\n",
    "# ble_at_gate = [(15), 16, 17, 18, 20, 21, ]\n",
    "\n",
    "grouped = df.groupby('MAC')\n",
    "df_list = [group.reset_index(drop=True) for name, group in grouped]\n",
    "\n",
    "original_user = len(df_list)\n",
    "print(original_user)\n",
    "count = 0\n",
    "count1 = 0\n",
    "count2 = 0\n",
    "count3 = 0\n",
    "count4 = 0\n",
    "count5 = 0\n",
    "count6 = 0\n",
    "\n",
    "for group in df_list:\n",
    "    nts = group['timestep'].nunique()\n",
    "    if nts <= 4: # 短すぎるのはカット\n",
    "        count1 += 1\n",
    "        continue\n",
    "\n",
    "    if nts <= 10:\n",
    "        count1 += 1\n",
    "        continue\n",
    "    \n",
    "    group = group.sort_values(by = 'timestep') # 昇順のはず\n",
    "    ts_diff = group['timestep'].diff().tolist() # 上手くリスト内包表記で書きたい（forで回さない）\n",
    "    ts_diff = np.nan_to_num(ts_diff, nan = 0)\n",
    "\n",
    "    # 観測間隔が少しでも空いてる場合（簡単のため落とす）\n",
    "    #if ts_diff.max() >= 2:\n",
    "    #    count2 += 1\n",
    "    #    continue\n",
    "\n",
    "    # そうでなくても，間隔3以上の場所が2箇所以上ある場合\n",
    "    #count_greater_than_3 = sum(x >= 3 for x in ts_diff)\n",
    "    #if count_greater_than_3 >= 2:\n",
    "    #    count2 += 1\n",
    "    #    continue\n",
    "\n",
    "    # ホーム階or改札階のいずれかのビーコンでしか観測されなかった場合\n",
    "    uni_beacons = group['ID'].unique().tolist()\n",
    "    if all(item in ble_at_concourse for item in uni_beacons) or all(item in ble_at_home for item in uni_beacons):        \n",
    "        count3 += 1\n",
    "        continue\n",
    "        # if (not any(item in uni_beacons for item in ble_at_home)) or (not any(item in uni_beacons for item in ble_at_concourse)):\n",
    "\n",
    "    grouped2 = group.groupby('timestep')\n",
    "    df_list2 = [group2.reset_index(drop=True) for name, group2 in grouped2]\n",
    "\n",
    "    ts1 = df_list2[0]\n",
    "    tslast = df_list2[-1]\n",
    "    ts1_ble = ts1['ID'].unique()\n",
    "    tslast_ble = tslast['ID'].unique()\n",
    "\n",
    "    # 最後の最頻ビーコンが改札かホームでない場合\n",
    "    most_common_did = tslast['ID'].mode()[0]\n",
    "    if not ((most_common_did in ble_at_home) or (most_common_did in ble_at_concourse)):\n",
    "        count4 += 1\n",
    "        continue\n",
    "\n",
    "    # 最初の最頻ビーコンが改札かホームでない場合\n",
    "    most_common_oid = ts1['ID'].mode()[0]\n",
    "    if not ((most_common_oid in ble_at_home) or (most_common_oid in ble_at_concourse)):\n",
    "        count4 += 1\n",
    "        continue\n",
    "\n",
    "    # ホーム階＆改札階で観測されてるけど，ODが同じっぽい場合\n",
    "    if (all(item in ble_at_home for item in ts1_ble) and all(item in ble_at_home for item in tslast_ble)):\n",
    "        count5 += 1\n",
    "        continue\n",
    "    if (all(item in ble_at_concourse for item in ts1_ble) and all(item in ble_at_concourse for item in tslast_ble)):\n",
    "        count5 += 1\n",
    "        continue\n",
    "\n",
    "\n",
    "    # 同時点に7個以上のビーコンで観測された場合（class1だとして落とす）．\n",
    "    for group2 in df_list2:\n",
    "        nbeacon = group2['ID'].nunique()\n",
    "        if nbeacon >= 7:\n",
    "            count6 += 1\n",
    "            break\n",
    "\n",
    "    # 上記の条件を潜り抜けるとここに行き着く\n",
    "    file_path = os.path.join(output_folder, f'{count}.csv')\n",
    "    group.to_csv(file_path, index=False)\n",
    "    count += 1\n",
    "\n",
    "print(count, count1, count2, count3, count4, count5, count6)\n",
    "\n",
    "# 前よりはマシなサンプリングができていると思う"
   ]
  },
  {
   "cell_type": "markdown",
   "metadata": {},
   "source": [
    "300サンプルずつ＊10セット（（（nanの意味がある？"
   ]
  },
  {
   "cell_type": "code",
   "execution_count": null,
   "metadata": {},
   "outputs": [],
   "source": [
    "import os \n",
    "import shutil\n",
    "\n",
    "sample_count = 300\n",
    "\n",
    "# 10個のサンプルフォルダを作成\n",
    "for i in range(10):\n",
    "    read_folder = '/Users/takahiromatsunaga/res2023/bledata/ble_timegroup/20230130_08/user_stock_kai'\n",
    "    file_list = os.listdir(read_folder)\n",
    "    output_folder = f\"/Users/takahiromatsunaga/res2023/bledata/ble_timegroup/20230130_08/stock_kai300_{i}\"\n",
    "\n",
    "    if not os.path.exists(output_folder):\n",
    "        os.mkdir(output_folder)\n",
    "\n",
    "    # 最初のn個のCSVファイルをコピー\n",
    "    count = 0\n",
    "    for file in file_list:\n",
    "        if file.endswith(\".csv\"):\n",
    "            source_file = os.path.join(read_folder, file)\n",
    "            destination_file = os.path.join(output_folder, file)\n",
    "            shutil.copy(source_file, destination_file)\n",
    "            count += 1\n",
    "            if count == sample_count:\n",
    "                break\n",
    "\n",
    "    print(f\"{count}個のCSVファイルを新しいフォルダに複製しました。\")"
   ]
  },
  {
   "cell_type": "markdown",
   "metadata": {},
   "source": [
    "基礎集計（今更何してんの）"
   ]
  },
  {
   "cell_type": "code",
   "execution_count": 2,
   "metadata": {},
   "outputs": [
    {
     "name": "stdout",
     "output_type": "stream",
     "text": [
      "[(19, 23), (16, 6), (6, 18), (19, 1), (16, 1), (20, 22), (18, 1), (20, 23), (5, 6), (15, 23), (23, 17), (5, 21), (4, 15), (16, 3), (20, 23), (20, 6), (21, 6), (5, 21), (16, 2), (16, 4), (22, 20), (15, 2), (1, 19), (20, 4), (22, 18), (16, 2), (20, 5), (16, 23), (1, 15), (5, 21), (2, 16), (6, 20), (20, 5), (6, 20), (20, 4), (3, 20), (16, 22), (20, 1), (20, 4), (1, 17), (2, 16), (16, 2), (2, 16), (17, 2), (2, 7), (2, 15), (22, 20), (16, 1), (6, 7), (15, 16), (20, 6), (20, 5), (22, 18), (5, 15), (20, 6), (2, 16), (16, 22), (19, 22), (17, 3), (20, 19), (20, 6), (4, 18), (4, 16), (7, 1), (17, 22), (3, 7), (2, 16), (4, 18), (20, 6), (2, 18), (4, 7), (5, 21), (16, 23), (21, 23), (20, 6), (15, 2), (4, 15), (7, 22), (15, 2), (18, 23), (20, 5), (4, 21), (5, 20), (20, 5), (20, 6), (17, 2), (19, 22), (16, 22), (20, 6), (23, 7), (20, 6), (20, 6), (23, 21), (1, 7), (20, 19), (2, 16), (4, 23), (4, 21), (17, 22), (2, 16), (7, 22), (20, 6), (22, 16), (4, 18), (19, 1), (4, 16), (4, 15), (16, 3), (1, 16), (4, 15), (2, 16), (20, 5), (5, 21), (4, 20), (1, 16), (20, 6), (1, 20), (3, 7), (6, 21), (20, 5), (16, 1), (15, 23), (20, 23), (23, 20), (22, 7), (16, 4), (5, 20), (6, 21), (20, 5), (6, 20), (20, 5), (2, 16), (20, 6), (2, 15), (7, 6), (16, 23), (15, 21), (1, 16), (2, 16), (2, 16), (5, 7), (3, 18), (20, 2), (4, 21), (20, 6), (3, 7), (6, 20), (16, 22), (20, 6), (16, 2), (22, 15), (4, 15), (3, 19), (1, 15), (23, 16), (6, 21), (7, 6), (5, 18), (2, 16), (20, 6), (2, 7), (20, 1), (20, 4), (22, 15), (4, 16), (16, 22), (20, 6), (5, 20), (1, 15), (2, 15), (20, 4), (7, 21), (22, 21), (17, 22), (22, 16), (20, 4), (4, 21), (21, 4), (17, 4), (3, 7), (1, 17), (3, 21), (4, 7), (17, 22), (7, 1), (1, 19), (22, 16), (22, 16), (2, 16), (4, 23), (16, 3), (18, 2), (3, 18), (3, 22), (20, 6), (20, 4), (20, 6), (7, 15), (20, 23), (1, 21), (3, 17), (20, 6), (22, 16), (2, 15), (1, 17), (20, 6), (20, 23), (20, 1), (22, 16), (7, 18), (22, 17), (22, 15), (6, 20), (17, 22), (3, 18), (1, 20), (4, 16), (20, 5), (1, 17), (20, 6), (16, 22), (20, 6), (3, 17), (16, 2), (1, 23), (2, 16), (22, 7), (2, 15), (20, 6), (16, 2), (6, 6), (4, 16), (23, 19), (20, 23), (20, 7), (1, 21), (4, 20), (16, 1), (17, 23), (23, 16), (4, 16), (16, 2), (22, 18), (20, 6), (2, 16), (22, 15), (5, 21), (19, 22), (20, 6), (20, 1), (2, 15), (17, 1), (16, 23), (6, 20), (1, 17), (17, 22), (21, 23), (4, 18), (6, 20), (18, 3), (16, 2), (17, 1), (17, 1), (19, 22), (16, 23), (22, 15), (20, 3), (20, 6), (7, 22), (1, 7), (2, 15), (6, 2), (23, 15), (20, 6), (20, 3), (20, 23), (5, 21), (22, 16), (2, 16), (17, 22), (15, 23), (22, 15), (16, 16), (2, 21), (7, 2), (22, 19), (6, 20), (3, 18), (5, 20), (17, 23), (16, 1), (1, 7), (1, 16), (21, 6), (17, 23), (20, 6), (4, 18), (16, 20), (22, 15), (20, 6), (20, 6), (7, 6), (18, 3), (16, 2), (3, 15), (4, 20), (2, 20), (22, 21), (15, 2), (23, 21), (1, 20), (1, 16), (22, 16), (3, 17), (22, 19), (18, 6), (18, 3), (22, 16), (15, 22), (5, 16), (16, 1), (20, 23), (1, 23), (2, 15), (20, 6), (4, 16), (16, 2), (16, 3), (6, 21), (7, 1), (19, 22), (20, 17), (1, 7), (2, 21), (17, 4), (5, 2), (1, 16), (2, 16), (1, 20), (3, 20), (4, 7), (4, 7), (20, 6), (16, 23), (22, 16), (20, 5), (17, 22), (22, 18), (16, 2), (2, 18), (22, 16), (17, 2), (20, 23), (21, 1), (6, 21), (20, 1), (22, 17), (22, 18), (2, 16), (18, 1), (22, 15), (2, 15), (22, 21), (2, 16), (4, 2), (18, 5), (20, 6), (17, 4), (19, 1), (4, 3), (4, 22), (4, 20), (19, 23), (5, 15), (6, 21), (20, 6), (19, 20), (2, 16), (20, 6), (2, 16), (1, 16), (5, 16), (2, 15), (5, 19), (22, 18), (16, 2), (16, 2), (20, 6), (5, 20), (3, 21), (23, 16), (20, 3), (22, 17), (23, 16), (6, 18), (2, 15), (20, 3), (22, 15), (20, 6), (16, 2), (20, 23), (16, 2), (20, 6), (20, 1), (6, 20), (2, 16), (3, 15), (19, 19), (3, 21), (3, 7), (22, 18), (23, 20), (7, 6), (6, 21), (20, 6), (7, 22), (2, 18), (17, 1), (5, 16), (2, 16), (16, 2), (5, 23), (20, 5), (17, 3), (20, 6), (20, 22), (16, 22), (1, 7), (6, 1), (3, 21), (20, 6), (5, 15), (1, 16), (2, 16), (1, 7), (17, 2), (16, 2), (4, 17), (15, 3), (7, 3), (7, 1), (20, 23), (1, 7), (22, 7), (16, 4), (17, 23), (4, 21), (18, 22), (2, 16), (17, 4), (21, 6), (18, 2), (2, 16), (3, 18), (16, 7), (3, 17), (18, 23), (21, 6), (22, 16), (20, 23), (5, 23), (1, 21), (1, 21), (20, 6), (20, 6), (22, 20), (20, 6), (16, 22), (1, 7), (3, 18), (20, 6), (18, 17), (21, 6), (17, 2), (4, 17), (16, 22), (4, 19), (2, 15), (1, 21), (17, 23), (20, 6), (1, 7), (21, 23), (20, 5), (20, 4), (20, 4), (7, 1), (18, 23), (20, 3), (21, 6), (6, 21), (23, 16), (20, 6), (20, 20), (2, 16), (2, 16), (22, 18), (15, 22), (2, 15), (21, 6)]\n"
     ]
    }
   ],
   "source": [
    "# 最初と最後のbleを見てみる\n",
    "import pandas as pd \n",
    "import numpy as np \n",
    "import matplotlib.pyplot as plt \n",
    "import os \n",
    "\n",
    "read_folder = '/Users/takahiromatsunaga/res2023/bledata/ble_timegroup/20230130_08/stock500'\n",
    "file_list = list(os.listdir(read_folder))\n",
    "\n",
    "od = []\n",
    "\n",
    "for file_name in file_list:\n",
    "    file_path = os.path.join(read_folder, file_name)\n",
    "    df = pd.read_csv(file_path)\n",
    "\n",
    "    first_ble = df.loc[0, 'ID']\n",
    "    last_ble = df.iloc[-1]['ID']\n",
    "\n",
    "    tuple = (first_ble, last_ble)\n",
    "\n",
    "    od.append(tuple)\n",
    "\n",
    "print(od)"
   ]
  },
  {
   "cell_type": "code",
   "execution_count": 6,
   "metadata": {},
   "outputs": [
    {
     "name": "stdout",
     "output_type": "stream",
     "text": [
      "d       1   2   3   4   5   6   7  15  16  17  18  19  20  21  22  23  total\n",
      "o                                                                           \n",
      "1       0   0   0   0   0   0   9   3   8   5   0   2   4   5   0   2     38\n",
      "2       0   0   0   0   0   0   2  13  28   0   3   0   1   2   0   0     49\n",
      "3       0   0   0   0   0   0   5   2   0   4   6   1   2   4   1   0     25\n",
      "4       0   1   1   0   0   0   4   5   7   2   5   1   4   5   1   2     38\n",
      "5       0   1   0   0   0   1   1   3   3   0   1   1   5   7   0   2     25\n",
      "6       1   1   0   0   0   1   1   0   0   0   2   0   9   8   0   0     23\n",
      "7       5   1   1   0   0   4   0   1   0   0   1   0   0   1   4   0     18\n",
      "15      0   4   1   0   0   0   0   0   1   0   0   0   0   1   2   3     12\n",
      "16      6  17   4   3   0   1   1   0   1   0   0   0   1   0   9   6     49\n",
      "17      4   5   2   4   0   0   0   0   0   0   0   0   0   0   8   5     28\n",
      "18      2   2   3   0   1   1   0   0   0   1   0   0   0   0   1   3     14\n",
      "19      3   0   0   0   0   0   0   0   0   0   0   1   1   0   5   2     12\n",
      "20      6   1   5   9  13  48   1   0   0   1   0   2   1   0   2  12    101\n",
      "21      1   0   0   1   0   7   0   0   0   0   0   0   0   0   0   3     12\n",
      "22      0   0   0   0   0   0   3   9  12   3   8   2   3   3   0   0     43\n",
      "23      0   0   0   0   0   0   1   1   5   1   0   1   2   2   0   0     13\n",
      "total  28  33  17  17  14  63  28  37  65  17  26  11  33  38  33  40    500\n"
     ]
    }
   ],
   "source": [
    "# dfからそのままcrosstable関数で黒須集計がすぐにできるらしい\n",
    "od_df = pd.DataFrame(od, columns=['o', 'd'])\n",
    "\n",
    "cross_table = pd.crosstab(od_df['o'], od_df['d'], margins=True, margins_name='total')\n",
    "print(cross_table)\n",
    "\n",
    "# やや南改札が少ないか．1分以上かかるのかな．\n",
    "# 欠損を結構省いているが，接続行列出して尤度計算する時がわの処理が良くない説がある．\n",
    "# 正規化して前の確率を補正したほうがいいかも"
   ]
  },
  {
   "cell_type": "code",
   "execution_count": 8,
   "metadata": {},
   "outputs": [
    {
     "name": "stdout",
     "output_type": "stream",
     "text": [
      "d   1   2   3   4   5   6   7   15  16  17  18  19  20  21  22  23\n",
      "o                                                                 \n",
      "1    0   0   0   0   0   0   9   3   8   5   0   2   4   5   0   2\n",
      "2    0   0   0   0   0   0   2  13  28   0   3   0   1   2   0   0\n",
      "3    0   0   0   0   0   0   5   2   0   4   6   1   2   4   1   0\n",
      "4    0   1   1   0   0   0   4   5   7   2   5   1   4   5   1   2\n",
      "5    0   1   0   0   0   1   1   3   3   0   1   1   5   7   0   2\n",
      "6    1   1   0   0   0   1   1   0   0   0   2   0   9   8   0   0\n",
      "7    5   1   1   0   0   4   0   1   0   0   1   0   0   1   4   0\n",
      "15   0   4   1   0   0   0   0   0   1   0   0   0   0   1   2   3\n",
      "16   6  17   4   3   0   1   1   0   1   0   0   0   1   0   9   6\n",
      "17   4   5   2   4   0   0   0   0   0   0   0   0   0   0   8   5\n",
      "18   2   2   3   0   1   1   0   0   0   1   0   0   0   0   1   3\n",
      "19   3   0   0   0   0   0   0   0   0   0   0   1   1   0   5   2\n",
      "20   6   1   5   9  13  48   1   0   0   1   0   2   1   0   2  12\n",
      "21   1   0   0   1   0   7   0   0   0   0   0   0   0   0   0   3\n",
      "22   0   0   0   0   0   0   3   9  12   3   8   2   3   3   0   0\n",
      "23   0   0   0   0   0   0   1   1   5   1   0   1   2   2   0   0\n"
     ]
    },
    {
     "data": {
      "image/png": "[encoded data removed]",
      "text/plain": [
       "<Figure size 432x288 with 2 Axes>"
      ]
     },
     "metadata": {
      "needs_background": "light"
     },
     "output_type": "display_data"
    }
   ],
   "source": [
    "import seaborn as sns\n",
    "import matplotlib.pyplot as plt\n",
    "od_df = pd.DataFrame(od, columns=['o', 'd'])\n",
    "\n",
    "cross_table = pd.crosstab(od_df['o'], od_df['d']) #, margins=True, margins_name='total')\n",
    "print(cross_table)\n",
    "sns.heatmap(cross_table, annot=False, fmt=\"d\", cmap=\"YlGnBu\")\n",
    "plt.show()"
   ]
  },
  {
   "cell_type": "code",
   "execution_count": 15,
   "metadata": {},
   "outputs": [
    {
     "name": "stdout",
     "output_type": "stream",
     "text": [
      "[(8, 13), (19, 11), (18, 22), (15, 8), (18, 23), (20, 10), (6, 21), (6, 21), (21, 2), (7, 3), (22, 15), (1, 12), (4, 15), (19, 6), (18, 23), (15, 10), (4, 15), (1, 21), (23, 19), (21, 11), (19, 11), (20, 20), (4, 21), (6, 7), (21, 11), (15, 2), (22, 15), (13, 10), (20, 20), (4, 23), (17, 22), (20, 5), (20, 6), (7, 5), (5, 15), (20, 10), (4, 7), (3, 7), (6, 23), (22, 18), (1, 21), (15, 10), (19, 22), (22, 15), (15, 23), (21, 6), (7, 6), (1, 20), (15, 22), (21, 11), (4, 15), (21, 10), (11, 11), (11, 21), (3, 21), (21, 10), (20, 22), (21, 11), (22, 15), (20, 23), (1, 15), (20, 22), (21, 11), (20, 6), (18, 23), (4, 17), (5, 10), (2, 15), (20, 6), (2, 18), (6, 23), (12, 10), (18, 22), (20, 6), (2, 4), (1, 20), (20, 6), (13, 11), (1, 15), (22, 18), (4, 3), (7, 11), (1, 15), (21, 10), (15, 13), (23, 20), (21, 23), (20, 6), (19, 6), (6, 21), (20, 11), (2, 10), (15, 8), (18, 3), (2, 15), (20, 11), (1, 21), (4, 23), (3, 15), (2, 15), (20, 11), (17, 1), (22, 23), (18, 3), (20, 10), (21, 6), (5, 21), (2, 14), (1, 15), (1, 7), (22, 21), (5, 20), (20, 6), (20, 11), (22, 15), (3, 21), (21, 6), (6, 7), (19, 1), (15, 2), (17, 4), (1, 21), (1, 7), (11, 20), (15, 5), (15, 6), (21, 23), (7, 11), (19, 8), (20, 10), (1, 15), (21, 11), (21, 6), (15, 8), (17, 2), (19, 2), (20, 11), (21, 11), (18, 22), (2, 21), (22, 11), (23, 20), (1, 15), (14, 23), (4, 20), (20, 6), (20, 6), (20, 6), (19, 6), (15, 8), (21, 4), (3, 14), (20, 10), (23, 5), (11, 20), (7, 11), (6, 19), (20, 11), (21, 23), (21, 8), (7, 10), (20, 20), (11, 21), (20, 11), (23, 21), (7, 15), (12, 15), (4, 21), (6, 20), (2, 21), (20, 5), (19, 1), (1, 12), (22, 15), (7, 11), (1, 21), (20, 1), (19, 11), (1, 21), (5, 7), (4, 21), (3, 12), (20, 6), (15, 6), (18, 22), (3, 15), (22, 15), (21, 2), (2, 15), (1, 12), (22, 19), (22, 15), (1, 23), (3, 15), (6, 15), (1, 21), (15, 3), (4, 15), (21, 10), (19, 8), (21, 5), (13, 15), (21, 10), (2, 15), (21, 10), (18, 4), (21, 11), (6, 21), (15, 1), (1, 7), (5, 3), (20, 11), (19, 10), (21, 11), (22, 15), (15, 23), (11, 21), (4, 20), (11, 20), (17, 2), (21, 6), (20, 11), (14, 14), (4, 21), (20, 6), (21, 11), (13, 5), (4, 21), (19, 11), (21, 5), (22, 17), (5, 15), (15, 5), (22, 15), (14, 14), (5, 21), (3, 14), (5, 10), (2, 15), (5, 21), (4, 20), (23, 21), (7, 6), (1, 21), (1, 15), (15, 23), (19, 23), (6, 1), (19, 11), (4, 7), (20, 7), (20, 23), (4, 14), (19, 6), (19, 4), (23, 20), (1, 21), (21, 2), (15, 4), (22, 21), (6, 21), (3, 12), (15, 10), (20, 10), (4, 15), (4, 15), (17, 8), (4, 11), (5, 10), (8, 17), (15, 8), (1, 7), (20, 10), (22, 17), (4, 19), (4, 21), (17, 6), (11, 23), (21, 6), (8, 12), (21, 10), (11, 19), (4, 21), (2, 20), (6, 10), (4, 21), (15, 3), (4, 4), (20, 11), (20, 23), (20, 2), (5, 11), (20, 11), (4, 10), (19, 8), (4, 8), (6, 3), (15, 10), (3, 15), (15, 20), (3, 21), (2, 19), (18, 23), (15, 10), (11, 20), (17, 2), (7, 4), (3, 21), (8, 15), (15, 15), (18, 2), (7, 11), (15, 10), (3, 15), (19, 1), (20, 11), (2, 12), (20, 2), (20, 6), (11, 20), (1, 15), (3, 15), (5, 11), (5, 21), (1, 21), (2, 20), (23, 19), (20, 6), (20, 23), (5, 21), (21, 11), (23, 20), (1, 13), (17, 3), (3, 18), (2, 21), (7, 6), (3, 21), (1, 15), (1, 15), (3, 15), (2, 21), (1, 21), (21, 10), (4, 7), (21, 11), (20, 22), (4, 12), (20, 10), (5, 23), (15, 3), (6, 6), (2, 15), (5, 23), (22, 20), (15, 23), (21, 6), (19, 23), (18, 22), (22, 17), (4, 21), (22, 15), (2, 20), (15, 8), (3, 15), (5, 15), (11, 20), (13, 10), (6, 15), (1, 15), (15, 10), (4, 15), (20, 6), (17, 10), (1, 15), (21, 11), (7, 23), (4, 23), (17, 22), (2, 15), (4, 19), (19, 23), (4, 20), (11, 10), (1, 21), (1, 13), (13, 12), (13, 23), (21, 10), (22, 15), (20, 6), (7, 10), (4, 21), (20, 10), (7, 1), (2, 15), (6, 12), (15, 6), (20, 10), (7, 23), (19, 23), (4, 12), (2, 2), (17, 3), (22, 21), (20, 6), (21, 10), (22, 15), (6, 21), (2, 15), (21, 1), (15, 23), (4, 4), (17, 3), (20, 11), (2, 15), (6, 15), (21, 20), (7, 13), (15, 11), (2, 1), (7, 6), (7, 22), (21, 11), (18, 2), (22, 11), (20, 11), (18, 3), (21, 11), (7, 2), (12, 10), (7, 11), (13, 11), (3, 14), (7, 10), (19, 23), (20, 11), (21, 11), (3, 3), (20, 11), (1, 21), (21, 11), (20, 23), (6, 15), (4, 21), (17, 1), (15, 3), (21, 11), (6, 7), (15, 8), (7, 6), (15, 22), (21, 11), (13, 11), (14, 22), (11, 21), (20, 11), (6, 19), (12, 10), (6, 15), (21, 10), (20, 6), (20, 23), (21, 23), (1, 10), (14, 7), (1, 7), (1, 15), (18, 22), (4, 10), (21, 3), (2, 13), (11, 19), (1, 15), (11, 7), (7, 1), (5, 21), (4, 12), (4, 21), (1, 12), (5, 4), (3, 21), (20, 10), (8, 15), (20, 10), (20, 6), (20, 1), (2, 15), (5, 12), (20, 11), (22, 15), (5, 21), (21, 11), (1, 15), (8, 7), (20, 10), (20, 10), (13, 3), (5, 15), (11, 20)]\n"
     ]
    }
   ],
   "source": [
    "# 最初と最後のbleを見てみる\n",
    "import pandas as pd \n",
    "import numpy as np \n",
    "import matplotlib.pyplot as plt \n",
    "import os \n",
    "\n",
    "read_folder = '/Users/takahiromatsunaga/res2023/bledata/ble_timegroup/20221218_17/stock500'\n",
    "file_list = list(os.listdir(read_folder))\n",
    "\n",
    "od = []\n",
    "\n",
    "for file_name in file_list:\n",
    "    file_path = os.path.join(read_folder, file_name)\n",
    "    df = pd.read_csv(file_path)\n",
    "\n",
    "    first_ble = df.loc[0, 'ID']\n",
    "    last_ble = df.iloc[-1]['ID']\n",
    "\n",
    "    tuple = (first_ble, last_ble)\n",
    "\n",
    "    od.append(tuple)\n",
    "\n",
    "print(od)"
   ]
  },
  {
   "cell_type": "code",
   "execution_count": 17,
   "metadata": {},
   "outputs": [
    {
     "name": "stdout",
     "output_type": "stream",
     "text": [
      "d       1   2   3   4  5   6   7   8  10  11  ...  14  15  17  18  19  20  21  \\\n",
      "o                                             ...                               \n",
      "1       0   0   0   0  0   0   5   0   1   0  ...   0  15   0   0   0   2  13   \n",
      "2       1   1   0   1  0   0   0   0   1   0  ...   1  12   0   1   1   3   4   \n",
      "3       0   0   1   0  0   0   1   0   0   0  ...   3   8   0   1   0   0   6   \n",
      "4       0   0   1   2  0   0   3   1   2   1  ...   1   7   1   0   2   4  12   \n",
      "5       0   0   1   1  0   0   1   0   3   2  ...   0   4   0   0   0   1   7   \n",
      "6       1   0   1   0  0   1   3   0   1   0  ...   0   5   0   0   2   1   6   \n",
      "7       2   1   1   1  1   5   0   0   3   6  ...   0   1   0   0   0   0   0   \n",
      "8       0   0   0   0  0   0   1   0   0   0  ...   0   2   1   0   0   0   0   \n",
      "11      0   0   0   0  0   0   1   0   1   1  ...   0   0   0   0   2   7   4   \n",
      "12      0   0   0   0  0   0   0   0   3   0  ...   0   1   0   0   0   0   0   \n",
      "13      0   0   1   0  1   0   0   0   2   3  ...   0   1   0   0   0   0   0   \n",
      "14      0   0   0   0  0   0   1   0   0   0  ...   2   0   0   0   0   0   0   \n",
      "15      1   2   4   1  2   3   0   7   7   1  ...   0   1   0   0   0   1   0   \n",
      "17      2   3   3   1  0   1   0   1   1   0  ...   0   0   0   0   0   0   0   \n",
      "18      0   2   3   1  0   0   0   0   0   0  ...   0   0   0   0   0   0   0   \n",
      "19      3   1   0   1  0   4   0   3   1   5  ...   0   0   0   0   0   0   0   \n",
      "20      2   2   0   0  2  19   1   0  14  18  ...   0   0   0   0   0   3   0   \n",
      "21      1   3   1   1  2   7   0   1  11  20  ...   0   0   0   0   0   1   0   \n",
      "22      0   0   0   0  0   0   0   0   0   2  ...   0  14   3   2   1   1   3   \n",
      "23      0   0   0   0  1   0   0   0   0   0  ...   0   0   0   0   2   4   2   \n",
      "total  13  15  17  10  9  40  17  13  51  59  ...   7  71   5   4  10  28  57   \n",
      "\n",
      "d      22  23  total  \n",
      "o                     \n",
      "1       0   1     43  \n",
      "2       0   0     28  \n",
      "3       0   0     22  \n",
      "4       0   3     43  \n",
      "5       0   2     23  \n",
      "6       0   2     24  \n",
      "7       1   2     25  \n",
      "8       0   0      6  \n",
      "11      0   1     17  \n",
      "12      0   0      4  \n",
      "13      0   1     10  \n",
      "14      1   1      5  \n",
      "15      2   5     38  \n",
      "17      2   0     14  \n",
      "18      6   4     16  \n",
      "19      1   5     24  \n",
      "20      3   6     70  \n",
      "21      0   4     52  \n",
      "22      0   1     27  \n",
      "23      0   0      9  \n",
      "total  16  38    500  \n",
      "\n",
      "[21 rows x 22 columns]\n"
     ]
    }
   ],
   "source": [
    "# dfからそのままcrosstable関数で黒須集計がすぐにできるらしい\n",
    "od_df = pd.DataFrame(od, columns=['o', 'd'])\n",
    "\n",
    "cross_table = pd.crosstab(od_df['o'], od_df['d'], margins=True, margins_name='total')\n",
    "print(cross_table)"
   ]
  },
  {
   "cell_type": "code",
   "execution_count": 18,
   "metadata": {},
   "outputs": [
    {
     "name": "stdout",
     "output_type": "stream",
     "text": [
      "d   1   2   3   4   5   6   7   8   10  11  ...  13  14  15  17  18  19  20  \\\n",
      "o                                           ...                               \n",
      "1    0   0   0   0   0   0   5   0   1   0  ...   2   0  15   0   0   0   2   \n",
      "2    1   1   0   1   0   0   0   0   1   0  ...   1   1  12   0   1   1   3   \n",
      "3    0   0   1   0   0   0   1   0   0   0  ...   0   3   8   0   1   0   0   \n",
      "4    0   0   1   2   0   0   3   1   2   1  ...   0   1   7   1   0   2   4   \n",
      "5    0   0   1   1   0   0   1   0   3   2  ...   0   0   4   0   0   0   1   \n",
      "6    1   0   1   0   0   1   3   0   1   0  ...   0   0   5   0   0   2   1   \n",
      "7    2   1   1   1   1   5   0   0   3   6  ...   1   0   1   0   0   0   0   \n",
      "8    0   0   0   0   0   0   1   0   0   0  ...   1   0   2   1   0   0   0   \n",
      "11   0   0   0   0   0   0   1   0   1   1  ...   0   0   0   0   0   2   7   \n",
      "12   0   0   0   0   0   0   0   0   3   0  ...   0   0   1   0   0   0   0   \n",
      "13   0   0   1   0   1   0   0   0   2   3  ...   0   0   1   0   0   0   0   \n",
      "14   0   0   0   0   0   0   1   0   0   0  ...   0   2   0   0   0   0   0   \n",
      "15   1   2   4   1   2   3   0   7   7   1  ...   1   0   1   0   0   0   1   \n",
      "17   2   3   3   1   0   1   0   1   1   0  ...   0   0   0   0   0   0   0   \n",
      "18   0   2   3   1   0   0   0   0   0   0  ...   0   0   0   0   0   0   0   \n",
      "19   3   1   0   1   0   4   0   3   1   5  ...   0   0   0   0   0   0   0   \n",
      "20   2   2   0   0   2  19   1   0  14  18  ...   0   0   0   0   0   0   3   \n",
      "21   1   3   1   1   2   7   0   1  11  20  ...   0   0   0   0   0   0   1   \n",
      "22   0   0   0   0   0   0   0   0   0   2  ...   0   0  14   3   2   1   1   \n",
      "23   0   0   0   0   1   0   0   0   0   0  ...   0   0   0   0   0   2   4   \n",
      "\n",
      "d   21  22  23  \n",
      "o               \n",
      "1   13   0   1  \n",
      "2    4   0   0  \n",
      "3    6   0   0  \n",
      "4   12   0   3  \n",
      "5    7   0   2  \n",
      "6    6   0   2  \n",
      "7    0   1   2  \n",
      "8    0   0   0  \n",
      "11   4   0   1  \n",
      "12   0   0   0  \n",
      "13   0   0   1  \n",
      "14   0   1   1  \n",
      "15   0   2   5  \n",
      "17   0   2   0  \n",
      "18   0   6   4  \n",
      "19   0   1   5  \n",
      "20   0   3   6  \n",
      "21   0   0   4  \n",
      "22   3   0   1  \n",
      "23   2   0   0  \n",
      "\n",
      "[20 rows x 21 columns]\n"
     ]
    },
    {
     "data": {
      "image/png": "[encoded data removed]",
      "text/plain": [
       "<Figure size 432x288 with 2 Axes>"
      ]
     },
     "metadata": {
      "needs_background": "light"
     },
     "output_type": "display_data"
    }
   ],
   "source": [
    "import seaborn as sns\n",
    "import matplotlib.pyplot as plt\n",
    "od_df = pd.DataFrame(od, columns=['o', 'd'])\n",
    "\n",
    "cross_table = pd.crosstab(od_df['o'], od_df['d']) #, margins=True, margins_name='total')\n",
    "print(cross_table)\n",
    "sns.heatmap(cross_table, annot=False, fmt=\"d\", cmap=\"YlGnBu\")\n",
    "plt.show()"
   ]
  }
 ],
 "metadata": {
  "kernelspec": {
   "display_name": "Python 3",
   "language": "python",
   "name": "python3"
  },
  "language_info": {
   "codemirror_mode": {
    "name": "ipython",
    "version": 3
   },
   "file_extension": ".py",
   "mimetype": "text/x-python",
   "name": "python",
   "nbconvert_exporter": "python",
   "pygments_lexer": "ipython3",
   "version": "3.9.7"
  }
 },
 "nbformat": 4,
 "nbformat_minor": 2
}
