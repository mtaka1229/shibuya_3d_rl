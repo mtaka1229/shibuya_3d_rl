{
 "cells": [
  {
   "cell_type": "markdown",
   "metadata": {},
   "source": [
    "カメラ観測結果からリンクフローデータを作成"
   ]
  },
  {
   "cell_type": "code",
   "execution_count": 1,
   "metadata": {},
   "outputs": [
    {
     "name": "stderr",
     "output_type": "stream",
     "text": [
      "/Users/takahiromatsunaga/opt/anaconda3/lib/python3.9/site-packages/pandas/core/computation/expressions.py:21: UserWarning: Pandas requires version '2.8.4' or newer of 'numexpr' (version '2.7.3' currently installed).\n",
      "  from pandas.core.computation.check import NUMEXPR_INSTALLED\n",
      "/Users/takahiromatsunaga/opt/anaconda3/lib/python3.9/site-packages/pandas/core/arrays/masked.py:60: UserWarning: Pandas requires version '1.3.6' or newer of 'bottleneck' (version '1.3.2' currently installed).\n",
      "  from pandas.core import (\n"
     ]
    }
   ],
   "source": [
    "# とりあえず2023/01/29, 2023/01/30の08:00台，17:00台を集計\n",
    "import pandas as pd \n",
    "import numpy as np \n",
    "import os "
   ]
  },
  {
   "cell_type": "code",
   "execution_count": 23,
   "metadata": {},
   "outputs": [],
   "source": [
    "basepath = '/Users/takahiromatsunaga/res2023/PPcameraTG/camera'\n",
    "date = '20230130'\n",
    "df = pd.read_csv(os.path.join(basepath, f'camera_{date}.csv'))"
   ]
  },
  {
   "cell_type": "code",
   "execution_count": 24,
   "metadata": {},
   "outputs": [
    {
     "name": "stdout",
     "output_type": "stream",
     "text": [
      "     Unnamed: 0       day  No  hour  min   ID  ID_camera  time     IN    OUT  \\\n",
      "0         12540  20230130   0     0    0  NaN          6  0:00   27.0   89.0   \n",
      "1         12541  20230130   1     0   10  NaN          6  0:10   11.0   51.0   \n",
      "2         12542  20230130   2     0   20  NaN          6  0:20    6.0   67.0   \n",
      "3         12543  20230130   3     0   30  NaN          6  0:30    9.0   35.0   \n",
      "4         12544  20230130   4     0   40  NaN          6  0:40    3.0   36.0   \n",
      "..          ...       ...  ..   ...  ...  ...        ...   ...    ...    ...   \n",
      "125       12583  20230130  43     9   10  NaN          6  9:10  215.0  496.0   \n",
      "126       12584  20230130  44     9   20  NaN          6  9:20  233.0  454.0   \n",
      "127       12585  20230130  45     9   30  NaN          6  9:30  162.0  561.0   \n",
      "128       12586  20230130  46     9   40  NaN          6  9:40  132.0  461.0   \n",
      "129       12587  20230130  47     9   50  NaN          6  9:50   79.0  373.0   \n",
      "\n",
      "     count  \n",
      "0      116  \n",
      "1       62  \n",
      "2       73  \n",
      "3       44  \n",
      "4       39  \n",
      "..     ...  \n",
      "125    711  \n",
      "126    687  \n",
      "127    723  \n",
      "128    593  \n",
      "129    452  \n",
      "\n",
      "[130 rows x 11 columns]\n",
      "(130,)\n",
      "(130,)\n"
     ]
    },
    {
     "ename": "ValueError",
     "evalue": "Multi-dimensional indexing (e.g. `obj[:, None]`) is no longer supported. Convert to a numpy array before indexing instead.",
     "output_type": "error",
     "traceback": [
      "\u001b[0;31m---------------------------------------------------------------------------\u001b[0m",
      "\u001b[0;31mValueError\u001b[0m                                Traceback (most recent call last)",
      "\u001b[0;32m/var/folders/1p/_62pxgbn5kg837b06pfnvkdw0000gn/T/ipykernel_18159/3851954002.py\u001b[0m in \u001b[0;36m<module>\u001b[0;34m\u001b[0m\n\u001b[1;32m     16\u001b[0m     \u001b[0mprint\u001b[0m\u001b[0;34m(\u001b[0m\u001b[0mgroup\u001b[0m\u001b[0;34m[\u001b[0m\u001b[0;34m'time'\u001b[0m\u001b[0;34m]\u001b[0m\u001b[0;34m.\u001b[0m\u001b[0mshape\u001b[0m\u001b[0;34m)\u001b[0m\u001b[0;34m\u001b[0m\u001b[0;34m\u001b[0m\u001b[0m\n\u001b[1;32m     17\u001b[0m     \u001b[0mprint\u001b[0m\u001b[0;34m(\u001b[0m\u001b[0mgroup\u001b[0m\u001b[0;34m[\u001b[0m\u001b[0;34m'OUT'\u001b[0m\u001b[0;34m]\u001b[0m\u001b[0;34m.\u001b[0m\u001b[0mshape\u001b[0m\u001b[0;34m)\u001b[0m\u001b[0;34m\u001b[0m\u001b[0;34m\u001b[0m\u001b[0m\n\u001b[0;32m---> 18\u001b[0;31m     \u001b[0mplt\u001b[0m\u001b[0;34m.\u001b[0m\u001b[0mplot\u001b[0m\u001b[0;34m(\u001b[0m\u001b[0mgroup\u001b[0m\u001b[0;34m[\u001b[0m\u001b[0;34m'time'\u001b[0m\u001b[0;34m]\u001b[0m\u001b[0;34m,\u001b[0m \u001b[0mgroup\u001b[0m\u001b[0;34m[\u001b[0m\u001b[0;34m'OUT'\u001b[0m\u001b[0;34m]\u001b[0m\u001b[0;34m,\u001b[0m \u001b[0mlabel\u001b[0m\u001b[0;34m=\u001b[0m\u001b[0;34m'OUT'\u001b[0m\u001b[0;34m)\u001b[0m\u001b[0;34m\u001b[0m\u001b[0;34m\u001b[0m\u001b[0m\n\u001b[0m\u001b[1;32m     19\u001b[0m     \u001b[0mplt\u001b[0m\u001b[0;34m.\u001b[0m\u001b[0mplot\u001b[0m\u001b[0;34m(\u001b[0m\u001b[0mgroup\u001b[0m\u001b[0;34m[\u001b[0m\u001b[0;34m'time'\u001b[0m\u001b[0;34m]\u001b[0m\u001b[0;34m,\u001b[0m \u001b[0mgroup\u001b[0m\u001b[0;34m[\u001b[0m\u001b[0;34m'IN'\u001b[0m\u001b[0;34m]\u001b[0m\u001b[0;34m,\u001b[0m \u001b[0mlabel\u001b[0m\u001b[0;34m=\u001b[0m\u001b[0;34m'IN'\u001b[0m\u001b[0;34m)\u001b[0m\u001b[0;34m\u001b[0m\u001b[0;34m\u001b[0m\u001b[0m\n\u001b[1;32m     20\u001b[0m     \u001b[0mplt\u001b[0m\u001b[0;34m.\u001b[0m\u001b[0mxlabel\u001b[0m\u001b[0;34m(\u001b[0m\u001b[0;34m'Time'\u001b[0m\u001b[0;34m)\u001b[0m\u001b[0;34m\u001b[0m\u001b[0;34m\u001b[0m\u001b[0m\n",
      "\u001b[0;32m~/opt/anaconda3/lib/python3.9/site-packages/matplotlib/pyplot.py\u001b[0m in \u001b[0;36mplot\u001b[0;34m(scalex, scaley, data, *args, **kwargs)\u001b[0m\n\u001b[1;32m   3017\u001b[0m \u001b[0;34m@\u001b[0m\u001b[0m_copy_docstring_and_deprecators\u001b[0m\u001b[0;34m(\u001b[0m\u001b[0mAxes\u001b[0m\u001b[0;34m.\u001b[0m\u001b[0mplot\u001b[0m\u001b[0;34m)\u001b[0m\u001b[0;34m\u001b[0m\u001b[0;34m\u001b[0m\u001b[0m\n\u001b[1;32m   3018\u001b[0m \u001b[0;32mdef\u001b[0m \u001b[0mplot\u001b[0m\u001b[0;34m(\u001b[0m\u001b[0;34m*\u001b[0m\u001b[0margs\u001b[0m\u001b[0;34m,\u001b[0m \u001b[0mscalex\u001b[0m\u001b[0;34m=\u001b[0m\u001b[0;32mTrue\u001b[0m\u001b[0;34m,\u001b[0m \u001b[0mscaley\u001b[0m\u001b[0;34m=\u001b[0m\u001b[0;32mTrue\u001b[0m\u001b[0;34m,\u001b[0m \u001b[0mdata\u001b[0m\u001b[0;34m=\u001b[0m\u001b[0;32mNone\u001b[0m\u001b[0;34m,\u001b[0m \u001b[0;34m**\u001b[0m\u001b[0mkwargs\u001b[0m\u001b[0;34m)\u001b[0m\u001b[0;34m:\u001b[0m\u001b[0;34m\u001b[0m\u001b[0;34m\u001b[0m\u001b[0m\n\u001b[0;32m-> 3019\u001b[0;31m     return gca().plot(\n\u001b[0m\u001b[1;32m   3020\u001b[0m         \u001b[0;34m*\u001b[0m\u001b[0margs\u001b[0m\u001b[0;34m,\u001b[0m \u001b[0mscalex\u001b[0m\u001b[0;34m=\u001b[0m\u001b[0mscalex\u001b[0m\u001b[0;34m,\u001b[0m \u001b[0mscaley\u001b[0m\u001b[0;34m=\u001b[0m\u001b[0mscaley\u001b[0m\u001b[0;34m,\u001b[0m\u001b[0;34m\u001b[0m\u001b[0;34m\u001b[0m\u001b[0m\n\u001b[1;32m   3021\u001b[0m         **({\"data\": data} if data is not None else {}), **kwargs)\n",
      "\u001b[0;32m~/opt/anaconda3/lib/python3.9/site-packages/matplotlib/axes/_axes.py\u001b[0m in \u001b[0;36mplot\u001b[0;34m(self, scalex, scaley, data, *args, **kwargs)\u001b[0m\n\u001b[1;32m   1603\u001b[0m         \"\"\"\n\u001b[1;32m   1604\u001b[0m         \u001b[0mkwargs\u001b[0m \u001b[0;34m=\u001b[0m \u001b[0mcbook\u001b[0m\u001b[0;34m.\u001b[0m\u001b[0mnormalize_kwargs\u001b[0m\u001b[0;34m(\u001b[0m\u001b[0mkwargs\u001b[0m\u001b[0;34m,\u001b[0m \u001b[0mmlines\u001b[0m\u001b[0;34m.\u001b[0m\u001b[0mLine2D\u001b[0m\u001b[0;34m)\u001b[0m\u001b[0;34m\u001b[0m\u001b[0;34m\u001b[0m\u001b[0m\n\u001b[0;32m-> 1605\u001b[0;31m         \u001b[0mlines\u001b[0m \u001b[0;34m=\u001b[0m \u001b[0;34m[\u001b[0m\u001b[0;34m*\u001b[0m\u001b[0mself\u001b[0m\u001b[0;34m.\u001b[0m\u001b[0m_get_lines\u001b[0m\u001b[0;34m(\u001b[0m\u001b[0;34m*\u001b[0m\u001b[0margs\u001b[0m\u001b[0;34m,\u001b[0m \u001b[0mdata\u001b[0m\u001b[0;34m=\u001b[0m\u001b[0mdata\u001b[0m\u001b[0;34m,\u001b[0m \u001b[0;34m**\u001b[0m\u001b[0mkwargs\u001b[0m\u001b[0;34m)\u001b[0m\u001b[0;34m]\u001b[0m\u001b[0;34m\u001b[0m\u001b[0;34m\u001b[0m\u001b[0m\n\u001b[0m\u001b[1;32m   1606\u001b[0m         \u001b[0;32mfor\u001b[0m \u001b[0mline\u001b[0m \u001b[0;32min\u001b[0m \u001b[0mlines\u001b[0m\u001b[0;34m:\u001b[0m\u001b[0;34m\u001b[0m\u001b[0;34m\u001b[0m\u001b[0m\n\u001b[1;32m   1607\u001b[0m             \u001b[0mself\u001b[0m\u001b[0;34m.\u001b[0m\u001b[0madd_line\u001b[0m\u001b[0;34m(\u001b[0m\u001b[0mline\u001b[0m\u001b[0;34m)\u001b[0m\u001b[0;34m\u001b[0m\u001b[0;34m\u001b[0m\u001b[0m\n",
      "\u001b[0;32m~/opt/anaconda3/lib/python3.9/site-packages/matplotlib/axes/_base.py\u001b[0m in \u001b[0;36m__call__\u001b[0;34m(self, data, *args, **kwargs)\u001b[0m\n\u001b[1;32m    313\u001b[0m                 \u001b[0mthis\u001b[0m \u001b[0;34m+=\u001b[0m \u001b[0margs\u001b[0m\u001b[0;34m[\u001b[0m\u001b[0;36m0\u001b[0m\u001b[0;34m]\u001b[0m\u001b[0;34m,\u001b[0m\u001b[0;34m\u001b[0m\u001b[0;34m\u001b[0m\u001b[0m\n\u001b[1;32m    314\u001b[0m                 \u001b[0margs\u001b[0m \u001b[0;34m=\u001b[0m \u001b[0margs\u001b[0m\u001b[0;34m[\u001b[0m\u001b[0;36m1\u001b[0m\u001b[0;34m:\u001b[0m\u001b[0;34m]\u001b[0m\u001b[0;34m\u001b[0m\u001b[0;34m\u001b[0m\u001b[0m\n\u001b[0;32m--> 315\u001b[0;31m             \u001b[0;32myield\u001b[0m \u001b[0;32mfrom\u001b[0m \u001b[0mself\u001b[0m\u001b[0;34m.\u001b[0m\u001b[0m_plot_args\u001b[0m\u001b[0;34m(\u001b[0m\u001b[0mthis\u001b[0m\u001b[0;34m,\u001b[0m \u001b[0mkwargs\u001b[0m\u001b[0;34m)\u001b[0m\u001b[0;34m\u001b[0m\u001b[0;34m\u001b[0m\u001b[0m\n\u001b[0m\u001b[1;32m    316\u001b[0m \u001b[0;34m\u001b[0m\u001b[0m\n\u001b[1;32m    317\u001b[0m     \u001b[0;32mdef\u001b[0m \u001b[0mget_next_color\u001b[0m\u001b[0;34m(\u001b[0m\u001b[0mself\u001b[0m\u001b[0;34m)\u001b[0m\u001b[0;34m:\u001b[0m\u001b[0;34m\u001b[0m\u001b[0;34m\u001b[0m\u001b[0m\n",
      "\u001b[0;32m~/opt/anaconda3/lib/python3.9/site-packages/matplotlib/axes/_base.py\u001b[0m in \u001b[0;36m_plot_args\u001b[0;34m(self, tup, kwargs, return_kwargs)\u001b[0m\n\u001b[1;32m    488\u001b[0m \u001b[0;34m\u001b[0m\u001b[0m\n\u001b[1;32m    489\u001b[0m         \u001b[0;32mif\u001b[0m \u001b[0mlen\u001b[0m\u001b[0;34m(\u001b[0m\u001b[0mxy\u001b[0m\u001b[0;34m)\u001b[0m \u001b[0;34m==\u001b[0m \u001b[0;36m2\u001b[0m\u001b[0;34m:\u001b[0m\u001b[0;34m\u001b[0m\u001b[0;34m\u001b[0m\u001b[0m\n\u001b[0;32m--> 490\u001b[0;31m             \u001b[0mx\u001b[0m \u001b[0;34m=\u001b[0m \u001b[0m_check_1d\u001b[0m\u001b[0;34m(\u001b[0m\u001b[0mxy\u001b[0m\u001b[0;34m[\u001b[0m\u001b[0;36m0\u001b[0m\u001b[0;34m]\u001b[0m\u001b[0;34m)\u001b[0m\u001b[0;34m\u001b[0m\u001b[0;34m\u001b[0m\u001b[0m\n\u001b[0m\u001b[1;32m    491\u001b[0m             \u001b[0my\u001b[0m \u001b[0;34m=\u001b[0m \u001b[0m_check_1d\u001b[0m\u001b[0;34m(\u001b[0m\u001b[0mxy\u001b[0m\u001b[0;34m[\u001b[0m\u001b[0;36m1\u001b[0m\u001b[0;34m]\u001b[0m\u001b[0;34m)\u001b[0m\u001b[0;34m\u001b[0m\u001b[0;34m\u001b[0m\u001b[0m\n\u001b[1;32m    492\u001b[0m         \u001b[0;32melse\u001b[0m\u001b[0;34m:\u001b[0m\u001b[0;34m\u001b[0m\u001b[0;34m\u001b[0m\u001b[0m\n",
      "\u001b[0;32m~/opt/anaconda3/lib/python3.9/site-packages/matplotlib/cbook/__init__.py\u001b[0m in \u001b[0;36m_check_1d\u001b[0;34m(x)\u001b[0m\n\u001b[1;32m   1360\u001b[0m                     message='Support for multi-dimensional indexing')\n\u001b[1;32m   1361\u001b[0m \u001b[0;34m\u001b[0m\u001b[0m\n\u001b[0;32m-> 1362\u001b[0;31m                 \u001b[0mndim\u001b[0m \u001b[0;34m=\u001b[0m \u001b[0mx\u001b[0m\u001b[0;34m[\u001b[0m\u001b[0;34m:\u001b[0m\u001b[0;34m,\u001b[0m \u001b[0;32mNone\u001b[0m\u001b[0;34m]\u001b[0m\u001b[0;34m.\u001b[0m\u001b[0mndim\u001b[0m\u001b[0;34m\u001b[0m\u001b[0;34m\u001b[0m\u001b[0m\n\u001b[0m\u001b[1;32m   1363\u001b[0m                 \u001b[0;31m# we have definitely hit a pandas index or series object\u001b[0m\u001b[0;34m\u001b[0m\u001b[0;34m\u001b[0m\u001b[0m\n\u001b[1;32m   1364\u001b[0m                 \u001b[0;31m# cast to a numpy array.\u001b[0m\u001b[0;34m\u001b[0m\u001b[0;34m\u001b[0m\u001b[0m\n",
      "\u001b[0;32m~/opt/anaconda3/lib/python3.9/site-packages/pandas/core/series.py\u001b[0m in \u001b[0;36m__getitem__\u001b[0;34m(self, key)\u001b[0m\n\u001b[1;32m   1151\u001b[0m             \u001b[0;32mreturn\u001b[0m \u001b[0mself\u001b[0m\u001b[0;34m.\u001b[0m\u001b[0m_get_rows_with_mask\u001b[0m\u001b[0;34m(\u001b[0m\u001b[0mkey\u001b[0m\u001b[0;34m)\u001b[0m\u001b[0;34m\u001b[0m\u001b[0;34m\u001b[0m\u001b[0m\n\u001b[1;32m   1152\u001b[0m \u001b[0;34m\u001b[0m\u001b[0m\n\u001b[0;32m-> 1153\u001b[0;31m         \u001b[0;32mreturn\u001b[0m \u001b[0mself\u001b[0m\u001b[0;34m.\u001b[0m\u001b[0m_get_with\u001b[0m\u001b[0;34m(\u001b[0m\u001b[0mkey\u001b[0m\u001b[0;34m)\u001b[0m\u001b[0;34m\u001b[0m\u001b[0;34m\u001b[0m\u001b[0m\n\u001b[0m\u001b[1;32m   1154\u001b[0m \u001b[0;34m\u001b[0m\u001b[0m\n\u001b[1;32m   1155\u001b[0m     \u001b[0;32mdef\u001b[0m \u001b[0m_get_with\u001b[0m\u001b[0;34m(\u001b[0m\u001b[0mself\u001b[0m\u001b[0;34m,\u001b[0m \u001b[0mkey\u001b[0m\u001b[0;34m)\u001b[0m\u001b[0;34m:\u001b[0m\u001b[0;34m\u001b[0m\u001b[0;34m\u001b[0m\u001b[0m\n",
      "\u001b[0;32m~/opt/anaconda3/lib/python3.9/site-packages/pandas/core/series.py\u001b[0m in \u001b[0;36m_get_with\u001b[0;34m(self, key)\u001b[0m\n\u001b[1;32m   1161\u001b[0m             )\n\u001b[1;32m   1162\u001b[0m         \u001b[0;32melif\u001b[0m \u001b[0misinstance\u001b[0m\u001b[0;34m(\u001b[0m\u001b[0mkey\u001b[0m\u001b[0;34m,\u001b[0m \u001b[0mtuple\u001b[0m\u001b[0;34m)\u001b[0m\u001b[0;34m:\u001b[0m\u001b[0;34m\u001b[0m\u001b[0;34m\u001b[0m\u001b[0m\n\u001b[0;32m-> 1163\u001b[0;31m             \u001b[0;32mreturn\u001b[0m \u001b[0mself\u001b[0m\u001b[0;34m.\u001b[0m\u001b[0m_get_values_tuple\u001b[0m\u001b[0;34m(\u001b[0m\u001b[0mkey\u001b[0m\u001b[0;34m)\u001b[0m\u001b[0;34m\u001b[0m\u001b[0;34m\u001b[0m\u001b[0m\n\u001b[0m\u001b[1;32m   1164\u001b[0m \u001b[0;34m\u001b[0m\u001b[0m\n\u001b[1;32m   1165\u001b[0m         \u001b[0;32melif\u001b[0m \u001b[0;32mnot\u001b[0m \u001b[0mis_list_like\u001b[0m\u001b[0;34m(\u001b[0m\u001b[0mkey\u001b[0m\u001b[0;34m)\u001b[0m\u001b[0;34m:\u001b[0m\u001b[0;34m\u001b[0m\u001b[0;34m\u001b[0m\u001b[0m\n",
      "\u001b[0;32m~/opt/anaconda3/lib/python3.9/site-packages/pandas/core/series.py\u001b[0m in \u001b[0;36m_get_values_tuple\u001b[0;34m(self, key)\u001b[0m\n\u001b[1;32m   1201\u001b[0m             \u001b[0;31m# the asarray is needed to avoid returning a 2D DatetimeArray\u001b[0m\u001b[0;34m\u001b[0m\u001b[0;34m\u001b[0m\u001b[0m\n\u001b[1;32m   1202\u001b[0m             \u001b[0mresult\u001b[0m \u001b[0;34m=\u001b[0m \u001b[0mnp\u001b[0m\u001b[0;34m.\u001b[0m\u001b[0masarray\u001b[0m\u001b[0;34m(\u001b[0m\u001b[0mself\u001b[0m\u001b[0;34m.\u001b[0m\u001b[0m_values\u001b[0m\u001b[0;34m[\u001b[0m\u001b[0mkey\u001b[0m\u001b[0;34m]\u001b[0m\u001b[0;34m)\u001b[0m\u001b[0;34m\u001b[0m\u001b[0;34m\u001b[0m\u001b[0m\n\u001b[0;32m-> 1203\u001b[0;31m             \u001b[0mdisallow_ndim_indexing\u001b[0m\u001b[0;34m(\u001b[0m\u001b[0mresult\u001b[0m\u001b[0;34m)\u001b[0m\u001b[0;34m\u001b[0m\u001b[0;34m\u001b[0m\u001b[0m\n\u001b[0m\u001b[1;32m   1204\u001b[0m             \u001b[0;32mreturn\u001b[0m \u001b[0mresult\u001b[0m\u001b[0;34m\u001b[0m\u001b[0;34m\u001b[0m\u001b[0m\n\u001b[1;32m   1205\u001b[0m \u001b[0;34m\u001b[0m\u001b[0m\n",
      "\u001b[0;32m~/opt/anaconda3/lib/python3.9/site-packages/pandas/core/indexers/utils.py\u001b[0m in \u001b[0;36mdisallow_ndim_indexing\u001b[0;34m(result)\u001b[0m\n\u001b[1;32m    339\u001b[0m     \"\"\"\n\u001b[1;32m    340\u001b[0m     \u001b[0;32mif\u001b[0m \u001b[0mnp\u001b[0m\u001b[0;34m.\u001b[0m\u001b[0mndim\u001b[0m\u001b[0;34m(\u001b[0m\u001b[0mresult\u001b[0m\u001b[0;34m)\u001b[0m \u001b[0;34m>\u001b[0m \u001b[0;36m1\u001b[0m\u001b[0;34m:\u001b[0m\u001b[0;34m\u001b[0m\u001b[0;34m\u001b[0m\u001b[0m\n\u001b[0;32m--> 341\u001b[0;31m         raise ValueError(\n\u001b[0m\u001b[1;32m    342\u001b[0m             \u001b[0;34m\"Multi-dimensional indexing (e.g. `obj[:, None]`) is no longer \"\u001b[0m\u001b[0;34m\u001b[0m\u001b[0;34m\u001b[0m\u001b[0m\n\u001b[1;32m    343\u001b[0m             \u001b[0;34m\"supported. Convert to a numpy array before indexing instead.\"\u001b[0m\u001b[0;34m\u001b[0m\u001b[0;34m\u001b[0m\u001b[0m\n",
      "\u001b[0;31mValueError\u001b[0m: Multi-dimensional indexing (e.g. `obj[:, None]`) is no longer supported. Convert to a numpy array before indexing instead."
     ]
    },
    {
     "data": {
      "image/png": "[encoded data removed]",
      "text/plain": [
       "<Figure size 432x288 with 1 Axes>"
      ]
     },
     "metadata": {
      "needs_background": "light"
     },
     "output_type": "display_data"
    }
   ],
   "source": [
    "import matplotlib.pyplot as plt \n",
    "\n",
    "target_cameras = [1, 2, 3, 4, 5]\n",
    "grouped = df.groupby('ID_camera')\n",
    "\n",
    "# dfc_list = [group.reset_index(drop=True) for name, group in grouped]\n",
    "# for dfc in dfc_list:\n",
    "#     x1 = dfc['out']\n",
    "#     x2 = dfc['in']\n",
    "\n",
    "\n",
    "for name, group in grouped:\n",
    "    group = group.sort_values(by = 'time').reset_index(drop=True)\n",
    "    plt.figure()\n",
    "    print(group)\n",
    "    print(group['time'].shape)\n",
    "    print(group['OUT'].shape)\n",
    "    plt.plot(group['time'], group['OUT'], label='OUT')\n",
    "    plt.plot(group['time'], group['IN'], label='IN')\n",
    "    plt.xlabel('Time')\n",
    "    plt.ylabel('Count')\n",
    "    plt.title(f'Camera {name}')\n",
    "    plt.legend()\n",
    "    plt.savefig(os.path.join(basepath, f'graph_20230130/camera_{name}.png'))\n",
    "    plt.close()"
   ]
  },
  {
   "cell_type": "code",
   "execution_count": 26,
   "metadata": {},
   "outputs": [
    {
     "name": "stdout",
     "output_type": "stream",
     "text": [
      "{6: 464.25, 7: 315.0, 8: 27.0, 9: 407.25, 12: 798.0, 13: 771.0}\n"
     ]
    }
   ],
   "source": [
    "# 20分の合計を3/4して15分の通過データに変換する\n",
    "res_dict = {}\n",
    "for name, group in grouped:\n",
    "    out1 = group[group['time'] == '12:30']['OUT'].iloc[0]\n",
    "    out2 = group[group['time'] == '12:40']['OUT'].iloc[0]\n",
    "\n",
    "    out_quater = (out1 + out2) * 3 / 4\n",
    "    res_dict[name] = out_quater\n",
    "\n",
    "print(res_dict)"
   ]
  },
  {
   "cell_type": "code",
   "execution_count": 27,
   "metadata": {},
   "outputs": [
    {
     "name": "stderr",
     "output_type": "stream",
     "text": [
      "/var/folders/1p/_62pxgbn5kg837b06pfnvkdw0000gn/T/ipykernel_18159/1791040884.py:18: FutureWarning: Setting an item of incompatible dtype is deprecated and will raise an error in a future version of pandas. Value '464.25' has dtype incompatible with int64, please explicitly cast to a compatible dtype first.\n",
      "  flow_mat.at[k, a] += flow_value\n",
      "/var/folders/1p/_62pxgbn5kg837b06pfnvkdw0000gn/T/ipykernel_18159/1791040884.py:18: FutureWarning: Setting an item of incompatible dtype is deprecated and will raise an error in a future version of pandas. Value '407.25' has dtype incompatible with int64, please explicitly cast to a compatible dtype first.\n",
      "  flow_mat.at[k, a] += flow_value\n"
     ]
    }
   ],
   "source": [
    "df_multi_node = pd.read_csv('/Users/takahiromatsunaga/res2023/shibuya_nw/shibuya_stanw/ver0707/multi_node_post.csv')\n",
    "\n",
    "multi_nodeid_list = sorted(df_multi_node['nodeid'].unique())\n",
    "# 17:30-45\n",
    "# flow_dict_origin =  {6: 723.75, 7: 606.75, 8: 78.75, 9: 618.75, 12: 1203.0, 13: 1183.5}\n",
    "flow_dict = {(9, 31): 464.25, (10, 37): 342, (11, 34): 407.25, (14, 26): 798.0, (15, 27): 771.0}\n",
    "\n",
    "# 8:30-45\n",
    "# flow_dict_origin = {6: 756.75, 7: 561.0, 8: 28.5, 9: 405.0, 12: 663.0, 13: 831.0}\n",
    "# flow_dict = {(9, 31): 756.75, (10, 37): 589.5, (11, 34): 405.0, (14, 26): 663.0, (15, 27): 831.0}\n",
    "\n",
    "flow_mat = pd.DataFrame(0, index = multi_nodeid_list, columns = multi_nodeid_list)\n",
    "\n",
    "# flow_mat\n",
    "for node_set, flow_value in list(flow_dict.items()):\n",
    "    k = node_set[0] # nodeid\n",
    "    a = node_set[1]\n",
    "    flow_mat.at[k, a] += flow_value\n",
    "\n",
    "date = '20230130_12'\n",
    "flow_mat.to_csv(f'/Users/takahiromatsunaga/res2023/bledata/ble_timegroup/{date}/{date}30_flow.csv')\n"
   ]
  },
  {
   "cell_type": "code",
   "execution_count": 22,
   "metadata": {},
   "outputs": [
    {
     "ename": "IndexError",
     "evalue": "single positional indexer is out-of-bounds",
     "output_type": "error",
     "traceback": [
      "\u001b[0;31m---------------------------------------------------------------------------\u001b[0m",
      "\u001b[0;31mIndexError\u001b[0m                                Traceback (most recent call last)",
      "\u001b[0;32m/var/folders/1p/_62pxgbn5kg837b06pfnvkdw0000gn/T/ipykernel_18159/783830281.py\u001b[0m in \u001b[0;36m<module>\u001b[0;34m\u001b[0m\n\u001b[1;32m      2\u001b[0m \u001b[0mres_dict\u001b[0m \u001b[0;34m=\u001b[0m \u001b[0;34m{\u001b[0m\u001b[0;34m}\u001b[0m\u001b[0;34m\u001b[0m\u001b[0;34m\u001b[0m\u001b[0m\n\u001b[1;32m      3\u001b[0m \u001b[0;32mfor\u001b[0m \u001b[0mname\u001b[0m\u001b[0;34m,\u001b[0m \u001b[0mgroup\u001b[0m \u001b[0;32min\u001b[0m \u001b[0mgrouped\u001b[0m\u001b[0;34m:\u001b[0m\u001b[0;34m\u001b[0m\u001b[0;34m\u001b[0m\u001b[0m\n\u001b[0;32m----> 4\u001b[0;31m     \u001b[0mout1\u001b[0m \u001b[0;34m=\u001b[0m \u001b[0mgroup\u001b[0m\u001b[0;34m[\u001b[0m\u001b[0mgroup\u001b[0m\u001b[0;34m[\u001b[0m\u001b[0;34m'time'\u001b[0m\u001b[0;34m]\u001b[0m \u001b[0;34m==\u001b[0m \u001b[0;34m'08:30'\u001b[0m\u001b[0;34m]\u001b[0m\u001b[0;34m[\u001b[0m\u001b[0;34m'OUT'\u001b[0m\u001b[0;34m]\u001b[0m\u001b[0;34m.\u001b[0m\u001b[0miloc\u001b[0m\u001b[0;34m[\u001b[0m\u001b[0;36m0\u001b[0m\u001b[0;34m]\u001b[0m\u001b[0;34m\u001b[0m\u001b[0;34m\u001b[0m\u001b[0m\n\u001b[0m\u001b[1;32m      5\u001b[0m     \u001b[0mout2\u001b[0m \u001b[0;34m=\u001b[0m \u001b[0mgroup\u001b[0m\u001b[0;34m[\u001b[0m\u001b[0mgroup\u001b[0m\u001b[0;34m[\u001b[0m\u001b[0;34m'time'\u001b[0m\u001b[0;34m]\u001b[0m \u001b[0;34m==\u001b[0m \u001b[0;34m'08:40'\u001b[0m\u001b[0;34m]\u001b[0m\u001b[0;34m[\u001b[0m\u001b[0;34m'OUT'\u001b[0m\u001b[0;34m]\u001b[0m\u001b[0;34m.\u001b[0m\u001b[0miloc\u001b[0m\u001b[0;34m[\u001b[0m\u001b[0;36m0\u001b[0m\u001b[0;34m]\u001b[0m\u001b[0;34m\u001b[0m\u001b[0;34m\u001b[0m\u001b[0m\n\u001b[1;32m      6\u001b[0m \u001b[0;34m\u001b[0m\u001b[0m\n",
      "\u001b[0;32m~/opt/anaconda3/lib/python3.9/site-packages/pandas/core/indexing.py\u001b[0m in \u001b[0;36m__getitem__\u001b[0;34m(self, key)\u001b[0m\n\u001b[1;32m   1189\u001b[0m             \u001b[0mmaybe_callable\u001b[0m \u001b[0;34m=\u001b[0m \u001b[0mcom\u001b[0m\u001b[0;34m.\u001b[0m\u001b[0mapply_if_callable\u001b[0m\u001b[0;34m(\u001b[0m\u001b[0mkey\u001b[0m\u001b[0;34m,\u001b[0m \u001b[0mself\u001b[0m\u001b[0;34m.\u001b[0m\u001b[0mobj\u001b[0m\u001b[0;34m)\u001b[0m\u001b[0;34m\u001b[0m\u001b[0;34m\u001b[0m\u001b[0m\n\u001b[1;32m   1190\u001b[0m             \u001b[0mmaybe_callable\u001b[0m \u001b[0;34m=\u001b[0m \u001b[0mself\u001b[0m\u001b[0;34m.\u001b[0m\u001b[0m_check_deprecated_callable_usage\u001b[0m\u001b[0;34m(\u001b[0m\u001b[0mkey\u001b[0m\u001b[0;34m,\u001b[0m \u001b[0mmaybe_callable\u001b[0m\u001b[0;34m)\u001b[0m\u001b[0;34m\u001b[0m\u001b[0;34m\u001b[0m\u001b[0m\n\u001b[0;32m-> 1191\u001b[0;31m             \u001b[0;32mreturn\u001b[0m \u001b[0mself\u001b[0m\u001b[0;34m.\u001b[0m\u001b[0m_getitem_axis\u001b[0m\u001b[0;34m(\u001b[0m\u001b[0mmaybe_callable\u001b[0m\u001b[0;34m,\u001b[0m \u001b[0maxis\u001b[0m\u001b[0;34m=\u001b[0m\u001b[0maxis\u001b[0m\u001b[0;34m)\u001b[0m\u001b[0;34m\u001b[0m\u001b[0;34m\u001b[0m\u001b[0m\n\u001b[0m\u001b[1;32m   1192\u001b[0m \u001b[0;34m\u001b[0m\u001b[0m\n\u001b[1;32m   1193\u001b[0m     \u001b[0;32mdef\u001b[0m \u001b[0m_is_scalar_access\u001b[0m\u001b[0;34m(\u001b[0m\u001b[0mself\u001b[0m\u001b[0;34m,\u001b[0m \u001b[0mkey\u001b[0m\u001b[0;34m:\u001b[0m \u001b[0mtuple\u001b[0m\u001b[0;34m)\u001b[0m\u001b[0;34m:\u001b[0m\u001b[0;34m\u001b[0m\u001b[0;34m\u001b[0m\u001b[0m\n",
      "\u001b[0;32m~/opt/anaconda3/lib/python3.9/site-packages/pandas/core/indexing.py\u001b[0m in \u001b[0;36m_getitem_axis\u001b[0;34m(self, key, axis)\u001b[0m\n\u001b[1;32m   1750\u001b[0m \u001b[0;34m\u001b[0m\u001b[0m\n\u001b[1;32m   1751\u001b[0m             \u001b[0;31m# validate the location\u001b[0m\u001b[0;34m\u001b[0m\u001b[0;34m\u001b[0m\u001b[0m\n\u001b[0;32m-> 1752\u001b[0;31m             \u001b[0mself\u001b[0m\u001b[0;34m.\u001b[0m\u001b[0m_validate_integer\u001b[0m\u001b[0;34m(\u001b[0m\u001b[0mkey\u001b[0m\u001b[0;34m,\u001b[0m \u001b[0maxis\u001b[0m\u001b[0;34m)\u001b[0m\u001b[0;34m\u001b[0m\u001b[0;34m\u001b[0m\u001b[0m\n\u001b[0m\u001b[1;32m   1753\u001b[0m \u001b[0;34m\u001b[0m\u001b[0m\n\u001b[1;32m   1754\u001b[0m             \u001b[0;32mreturn\u001b[0m \u001b[0mself\u001b[0m\u001b[0;34m.\u001b[0m\u001b[0mobj\u001b[0m\u001b[0;34m.\u001b[0m\u001b[0m_ixs\u001b[0m\u001b[0;34m(\u001b[0m\u001b[0mkey\u001b[0m\u001b[0;34m,\u001b[0m \u001b[0maxis\u001b[0m\u001b[0;34m=\u001b[0m\u001b[0maxis\u001b[0m\u001b[0;34m)\u001b[0m\u001b[0;34m\u001b[0m\u001b[0;34m\u001b[0m\u001b[0m\n",
      "\u001b[0;32m~/opt/anaconda3/lib/python3.9/site-packages/pandas/core/indexing.py\u001b[0m in \u001b[0;36m_validate_integer\u001b[0;34m(self, key, axis)\u001b[0m\n\u001b[1;32m   1683\u001b[0m         \u001b[0mlen_axis\u001b[0m \u001b[0;34m=\u001b[0m \u001b[0mlen\u001b[0m\u001b[0;34m(\u001b[0m\u001b[0mself\u001b[0m\u001b[0;34m.\u001b[0m\u001b[0mobj\u001b[0m\u001b[0;34m.\u001b[0m\u001b[0m_get_axis\u001b[0m\u001b[0;34m(\u001b[0m\u001b[0maxis\u001b[0m\u001b[0;34m)\u001b[0m\u001b[0;34m)\u001b[0m\u001b[0;34m\u001b[0m\u001b[0;34m\u001b[0m\u001b[0m\n\u001b[1;32m   1684\u001b[0m         \u001b[0;32mif\u001b[0m \u001b[0mkey\u001b[0m \u001b[0;34m>=\u001b[0m \u001b[0mlen_axis\u001b[0m \u001b[0;32mor\u001b[0m \u001b[0mkey\u001b[0m \u001b[0;34m<\u001b[0m \u001b[0;34m-\u001b[0m\u001b[0mlen_axis\u001b[0m\u001b[0;34m:\u001b[0m\u001b[0;34m\u001b[0m\u001b[0;34m\u001b[0m\u001b[0m\n\u001b[0;32m-> 1685\u001b[0;31m             \u001b[0;32mraise\u001b[0m \u001b[0mIndexError\u001b[0m\u001b[0;34m(\u001b[0m\u001b[0;34m\"single positional indexer is out-of-bounds\"\u001b[0m\u001b[0;34m)\u001b[0m\u001b[0;34m\u001b[0m\u001b[0;34m\u001b[0m\u001b[0m\n\u001b[0m\u001b[1;32m   1686\u001b[0m \u001b[0;34m\u001b[0m\u001b[0m\n\u001b[1;32m   1687\u001b[0m     \u001b[0;31m# -------------------------------------------------------------------\u001b[0m\u001b[0;34m\u001b[0m\u001b[0;34m\u001b[0m\u001b[0m\n",
      "\u001b[0;31mIndexError\u001b[0m: single positional indexer is out-of-bounds"
     ]
    }
   ],
   "source": [
    "# 20分の合計を3/4して15分の通過データに変換する\n",
    "res_dict = {}\n",
    "for name, group in grouped:\n",
    "    out1 = group[group['time'] == '08:30']['OUT'].iloc[0]\n",
    "    out2 = group[group['time'] == '08:40']['OUT'].iloc[0]\n",
    "\n",
    "    out_quater = (out1 + out2) * 3 / 4\n",
    "    res_dict[name] = out_quater\n",
    "\n",
    "print(res_dict)"
   ]
  },
  {
   "cell_type": "code",
   "execution_count": 13,
   "metadata": {},
   "outputs": [
    {
     "name": "stdout",
     "output_type": "stream",
     "text": [
      "{6: 506.25, 7: 283.5, 8: 15.75, 9: 309.75, 12: 667.5, 13: 575.25}\n"
     ]
    },
    {
     "name": "stderr",
     "output_type": "stream",
     "text": [
      "/var/folders/1p/_62pxgbn5kg837b06pfnvkdw0000gn/T/ipykernel_18159/2303317447.py:28: FutureWarning: Setting an item of incompatible dtype is deprecated and will raise an error in a future version of pandas. Value '506.25' has dtype incompatible with int64, please explicitly cast to a compatible dtype first.\n",
      "  flow_mat.at[k, a] += flow_value\n",
      "/var/folders/1p/_62pxgbn5kg837b06pfnvkdw0000gn/T/ipykernel_18159/2303317447.py:28: FutureWarning: Setting an item of incompatible dtype is deprecated and will raise an error in a future version of pandas. Value '300.25' has dtype incompatible with int64, please explicitly cast to a compatible dtype first.\n",
      "  flow_mat.at[k, a] += flow_value\n",
      "/var/folders/1p/_62pxgbn5kg837b06pfnvkdw0000gn/T/ipykernel_18159/2303317447.py:28: FutureWarning: Setting an item of incompatible dtype is deprecated and will raise an error in a future version of pandas. Value '309.75' has dtype incompatible with int64, please explicitly cast to a compatible dtype first.\n",
      "  flow_mat.at[k, a] += flow_value\n",
      "/var/folders/1p/_62pxgbn5kg837b06pfnvkdw0000gn/T/ipykernel_18159/2303317447.py:28: FutureWarning: Setting an item of incompatible dtype is deprecated and will raise an error in a future version of pandas. Value '667.5' has dtype incompatible with int64, please explicitly cast to a compatible dtype first.\n",
      "  flow_mat.at[k, a] += flow_value\n",
      "/var/folders/1p/_62pxgbn5kg837b06pfnvkdw0000gn/T/ipykernel_18159/2303317447.py:28: FutureWarning: Setting an item of incompatible dtype is deprecated and will raise an error in a future version of pandas. Value '575.25' has dtype incompatible with int64, please explicitly cast to a compatible dtype first.\n",
      "  flow_mat.at[k, a] += flow_value\n"
     ]
    }
   ],
   "source": [
    "# 20分の合計を3/4して15分の通過データに変換する\n",
    "res_dict = {}\n",
    "for name, group in grouped:\n",
    "    out1 = group[group['time'] == '10:30']['OUT'].iloc[0]\n",
    "    out2 = group[group['time'] == '10:40']['OUT'].iloc[0]\n",
    "\n",
    "    out_quater = (out1 + out2) * 3 / 4\n",
    "    res_dict[name] = out_quater\n",
    "\n",
    "print(res_dict)\n",
    "df_multi_node = pd.read_csv('/Users/takahiromatsunaga/res2023/shibuya_nw/shibuya_stanw/ver0707/multi_node_post.csv')\n",
    "\n",
    "multi_nodeid_list = sorted(df_multi_node['nodeid'].unique())\n",
    "# 17:30-45\n",
    "# flow_dict_origin =  {6: 723.75, 7: 606.75, 8: 78.75, 9: 618.75, 12: 1203.0, 13: 1183.5}\n",
    "flow_dict = {(9, 31): 506.25, (10, 37): 300.25, (11, 34): 309.75, (14, 26): 667.5, (15, 27): 575.25}\n",
    "\n",
    "# 8:30-45\n",
    "# flow_dict_origin = {6: 756.75, 7: 561.0, 8: 28.5, 9: 405.0, 12: 663.0, 13: 831.0}\n",
    "# flow_dict = {(9, 31): 756.75, (10, 37): 589.5, (11, 34): 405.0, (14, 26): 663.0, (15, 27): 831.0}\n",
    "\n",
    "flow_mat = pd.DataFrame(0, index = multi_nodeid_list, columns = multi_nodeid_list)\n",
    "\n",
    "# flow_mat\n",
    "for node_set, flow_value in list(flow_dict.items()):\n",
    "    k = node_set[0] # nodeid\n",
    "    a = node_set[1]\n",
    "    flow_mat.at[k, a] += flow_value\n",
    "\n",
    "date = '20230129_08'\n",
    "flow_mat.to_csv(f'/Users/takahiromatsunaga/res2023/bledata/ble_timegroup/{date}/{date}30_flow.csv')\n"
   ]
  },
  {
   "cell_type": "code",
   "execution_count": 8,
   "metadata": {},
   "outputs": [
    {
     "name": "stdout",
     "output_type": "stream",
     "text": [
      "{6: 464.25, 7: 315.0, 8: 27.0, 9: 407.25, 12: 798.0, 13: 771.0}\n"
     ]
    }
   ],
   "source": [
    "# 20分の合計を3/4して15分の通過データに変換する\n",
    "res_dict = {}\n",
    "for name, group in grouped:\n",
    "    out1 = group[group['time'] == '12:30']['OUT'].iloc[0]\n",
    "    out2 = group[group['time'] == '12:40']['OUT'].iloc[0]\n",
    "\n",
    "    out_quater = (out1 + out2) * 3 / 4\n",
    "    res_dict[name] = out_quater\n",
    "\n",
    "print(res_dict)\n",
    "\n",
    "df_multi_node = pd.read_csv('/Users/takahiromatsunaga/res2023/shibuya_nw/shibuya_stanw/ver0707/multi_node_post.csv')\n",
    "\n",
    "multi_nodeid_list = sorted(df_multi_node['nodeid'].unique())\n",
    "# 17:30-45\n",
    "# flow_dict_origin =  {6: 723.75, 7: 606.75, 8: 78.75, 9: 618.75, 12: 1203.0, 13: 1183.5}\n",
    "flow_dict = {(9, 31): 464.25, (10, 37): 342, (11, 34): 407.25, (14, 26): 798.0, (15, 27): 771.0}\n",
    "\n",
    "# 8:30-45\n",
    "# flow_dict_origin = {6: 756.75, 7: 561.0, 8: 28.5, 9: 405.0, 12: 663.0, 13: 831.0}\n",
    "# flow_dict = {(9, 31): 756.75, (10, 37): 589.5, (11, 34): 405.0, (14, 26): 663.0, (15, 27): 831.0}\n",
    "\n",
    "flow_mat = pd.DataFrame(0, index = multi_nodeid_list, columns = multi_nodeid_list)\n",
    "\n",
    "# flow_mat\n",
    "for node_set, flow_value in list(flow_dict.items()):\n",
    "    k = node_set[0] # nodeid\n",
    "    a = node_set[1]\n",
    "    flow_mat.at[k, a] += flow_value\n",
    "\n",
    "date = '20230130_12'\n",
    "flow_mat.to_csv(f'/Users/takahiromatsunaga/res2023/bledata/ble_timegroup/{date}/{date}30_flow.csv')\n"
   ]
  },
  {
   "cell_type": "code",
   "execution_count": 14,
   "metadata": {},
   "outputs": [
    {
     "name": "stdout",
     "output_type": "stream",
     "text": [
      "{6: 462.0, 7: 273.75, 8: 24.0, 9: 454.5, 12: 714.75, 13: 844.5}\n"
     ]
    },
    {
     "name": "stderr",
     "output_type": "stream",
     "text": [
      "/var/folders/1p/_62pxgbn5kg837b06pfnvkdw0000gn/T/ipykernel_18159/399962461.py:28: FutureWarning: Setting an item of incompatible dtype is deprecated and will raise an error in a future version of pandas. Value '297.75' has dtype incompatible with int64, please explicitly cast to a compatible dtype first.\n",
      "  flow_mat.at[k, a] += flow_value\n",
      "/var/folders/1p/_62pxgbn5kg837b06pfnvkdw0000gn/T/ipykernel_18159/399962461.py:28: FutureWarning: Setting an item of incompatible dtype is deprecated and will raise an error in a future version of pandas. Value '454.5' has dtype incompatible with int64, please explicitly cast to a compatible dtype first.\n",
      "  flow_mat.at[k, a] += flow_value\n",
      "/var/folders/1p/_62pxgbn5kg837b06pfnvkdw0000gn/T/ipykernel_18159/399962461.py:28: FutureWarning: Setting an item of incompatible dtype is deprecated and will raise an error in a future version of pandas. Value '714.75' has dtype incompatible with int64, please explicitly cast to a compatible dtype first.\n",
      "  flow_mat.at[k, a] += flow_value\n",
      "/var/folders/1p/_62pxgbn5kg837b06pfnvkdw0000gn/T/ipykernel_18159/399962461.py:28: FutureWarning: Setting an item of incompatible dtype is deprecated and will raise an error in a future version of pandas. Value '844.5' has dtype incompatible with int64, please explicitly cast to a compatible dtype first.\n",
      "  flow_mat.at[k, a] += flow_value\n"
     ]
    }
   ],
   "source": [
    "# 20分の合計を3/4して15分の通過データに変換する\n",
    "res_dict = {}\n",
    "for name, group in grouped:\n",
    "    out1 = group[group['time'] == '14:30']['OUT'].iloc[0]\n",
    "    out2 = group[group['time'] == '14:40']['OUT'].iloc[0]\n",
    "\n",
    "    out_quater = (out1 + out2) * 3 / 4\n",
    "    res_dict[name] = out_quater\n",
    "\n",
    "print(res_dict)\n",
    "df_multi_node = pd.read_csv('/Users/takahiromatsunaga/res2023/shibuya_nw/shibuya_stanw/ver0707/multi_node_post.csv')\n",
    "\n",
    "multi_nodeid_list = sorted(df_multi_node['nodeid'].unique())\n",
    "# 17:30-45\n",
    "# flow_dict_origin =  {6: 723.75, 7: 606.75, 8: 78.75, 9: 618.75, 12: 1203.0, 13: 1183.5}\n",
    "flow_dict = {(9, 31): 462.0, (10, 37): 297.75, (11, 34): 454.5, (14, 26): 714.75, (15, 27): 844.5}\n",
    "\n",
    "# 8:30-45\n",
    "# flow_dict_origin = {6: 756.75, 7: 561.0, 8: 28.5, 9: 405.0, 12: 663.0, 13: 831.0}\n",
    "# flow_dict = {(9, 31): 756.75, (10, 37): 589.5, (11, 34): 405.0, (14, 26): 663.0, (15, 27): 831.0}\n",
    "\n",
    "flow_mat = pd.DataFrame(0, index = multi_nodeid_list, columns = multi_nodeid_list)\n",
    "\n",
    "# flow_mat\n",
    "for node_set, flow_value in list(flow_dict.items()):\n",
    "    k = node_set[0] # nodeid\n",
    "    a = node_set[1]\n",
    "    flow_mat.at[k, a] += flow_value\n",
    "\n",
    "date = '20230130_14'\n",
    "flow_mat.to_csv(f'/Users/takahiromatsunaga/res2023/bledata/ble_timegroup/{date}/{date}30_flow.csv')\n"
   ]
  },
  {
   "cell_type": "code",
   "execution_count": 15,
   "metadata": {},
   "outputs": [
    {
     "name": "stdout",
     "output_type": "stream",
     "text": [
      "{6: 603.75, 7: 461.25, 8: 40.5, 9: 512.25, 12: 1120.5, 13: 1003.5}\n"
     ]
    },
    {
     "name": "stderr",
     "output_type": "stream",
     "text": [
      "/var/folders/1p/_62pxgbn5kg837b06pfnvkdw0000gn/T/ipykernel_18159/2855913687.py:28: FutureWarning: Setting an item of incompatible dtype is deprecated and will raise an error in a future version of pandas. Value '603.75' has dtype incompatible with int64, please explicitly cast to a compatible dtype first.\n",
      "  flow_mat.at[k, a] += flow_value\n",
      "/var/folders/1p/_62pxgbn5kg837b06pfnvkdw0000gn/T/ipykernel_18159/2855913687.py:28: FutureWarning: Setting an item of incompatible dtype is deprecated and will raise an error in a future version of pandas. Value '501.75' has dtype incompatible with int64, please explicitly cast to a compatible dtype first.\n",
      "  flow_mat.at[k, a] += flow_value\n",
      "/var/folders/1p/_62pxgbn5kg837b06pfnvkdw0000gn/T/ipykernel_18159/2855913687.py:28: FutureWarning: Setting an item of incompatible dtype is deprecated and will raise an error in a future version of pandas. Value '512.25' has dtype incompatible with int64, please explicitly cast to a compatible dtype first.\n",
      "  flow_mat.at[k, a] += flow_value\n",
      "/var/folders/1p/_62pxgbn5kg837b06pfnvkdw0000gn/T/ipykernel_18159/2855913687.py:28: FutureWarning: Setting an item of incompatible dtype is deprecated and will raise an error in a future version of pandas. Value '1120.5' has dtype incompatible with int64, please explicitly cast to a compatible dtype first.\n",
      "  flow_mat.at[k, a] += flow_value\n",
      "/var/folders/1p/_62pxgbn5kg837b06pfnvkdw0000gn/T/ipykernel_18159/2855913687.py:28: FutureWarning: Setting an item of incompatible dtype is deprecated and will raise an error in a future version of pandas. Value '1003.5' has dtype incompatible with int64, please explicitly cast to a compatible dtype first.\n",
      "  flow_mat.at[k, a] += flow_value\n"
     ]
    }
   ],
   "source": [
    "# 20分の合計を3/4して15分の通過データに変換する\n",
    "res_dict = {}\n",
    "for name, group in grouped:\n",
    "    out1 = group[group['time'] == '16:30']['OUT'].iloc[0]\n",
    "    out2 = group[group['time'] == '16:40']['OUT'].iloc[0]\n",
    "\n",
    "    out_quater = (out1 + out2) * 3 / 4\n",
    "    res_dict[name] = out_quater\n",
    "\n",
    "print(res_dict)\n",
    "df_multi_node = pd.read_csv('/Users/takahiromatsunaga/res2023/shibuya_nw/shibuya_stanw/ver0707/multi_node_post.csv')\n",
    "\n",
    "multi_nodeid_list = sorted(df_multi_node['nodeid'].unique())\n",
    "# 17:30-45\n",
    "# flow_dict_origin =  {6: 723.75, 7: 606.75, 8: 78.75, 9: 618.75, 12: 1203.0, 13: 1183.5}\n",
    "flow_dict = {(9, 31): 603.75, (10, 37): 501.75, (11, 34): 512.25, (14, 26): 1120.5, (15, 27): 1003.5}\n",
    "\n",
    "# 8:30-45\n",
    "# flow_dict_origin = {6: 756.75, 7: 561.0, 8: 28.5, 9: 405.0, 12: 663.0, 13: 831.0}\n",
    "# flow_dict = {(9, 31): 756.75, (10, 37): 589.5, (11, 34): 405.0, (14, 26): 663.0, (15, 27): 831.0}\n",
    "\n",
    "flow_mat = pd.DataFrame(0, index = multi_nodeid_list, columns = multi_nodeid_list)\n",
    "\n",
    "# flow_mat\n",
    "for node_set, flow_value in list(flow_dict.items()):\n",
    "    k = node_set[0] # nodeid\n",
    "    a = node_set[1]\n",
    "    flow_mat.at[k, a] += flow_value\n",
    "\n",
    "date = '20230130_16'\n",
    "flow_mat.to_csv(f'/Users/takahiromatsunaga/res2023/bledata/ble_timegroup/{date}/{date}30_flow.csv')\n"
   ]
  },
  {
   "cell_type": "code",
   "execution_count": 16,
   "metadata": {},
   "outputs": [
    {
     "name": "stdout",
     "output_type": "stream",
     "text": [
      "{6: 824.25, 7: 739.5, 8: 107.25, 9: 628.5, 12: 1415.25, 13: 1158.75}\n"
     ]
    },
    {
     "name": "stderr",
     "output_type": "stream",
     "text": [
      "/var/folders/1p/_62pxgbn5kg837b06pfnvkdw0000gn/T/ipykernel_18159/1876632349.py:28: FutureWarning: Setting an item of incompatible dtype is deprecated and will raise an error in a future version of pandas. Value '824.25' has dtype incompatible with int64, please explicitly cast to a compatible dtype first.\n",
      "  flow_mat.at[k, a] += flow_value\n",
      "/var/folders/1p/_62pxgbn5kg837b06pfnvkdw0000gn/T/ipykernel_18159/1876632349.py:28: FutureWarning: Setting an item of incompatible dtype is deprecated and will raise an error in a future version of pandas. Value '746.75' has dtype incompatible with int64, please explicitly cast to a compatible dtype first.\n",
      "  flow_mat.at[k, a] += flow_value\n",
      "/var/folders/1p/_62pxgbn5kg837b06pfnvkdw0000gn/T/ipykernel_18159/1876632349.py:28: FutureWarning: Setting an item of incompatible dtype is deprecated and will raise an error in a future version of pandas. Value '628.5' has dtype incompatible with int64, please explicitly cast to a compatible dtype first.\n",
      "  flow_mat.at[k, a] += flow_value\n",
      "/var/folders/1p/_62pxgbn5kg837b06pfnvkdw0000gn/T/ipykernel_18159/1876632349.py:28: FutureWarning: Setting an item of incompatible dtype is deprecated and will raise an error in a future version of pandas. Value '1415.25' has dtype incompatible with int64, please explicitly cast to a compatible dtype first.\n",
      "  flow_mat.at[k, a] += flow_value\n",
      "/var/folders/1p/_62pxgbn5kg837b06pfnvkdw0000gn/T/ipykernel_18159/1876632349.py:28: FutureWarning: Setting an item of incompatible dtype is deprecated and will raise an error in a future version of pandas. Value '1158.75' has dtype incompatible with int64, please explicitly cast to a compatible dtype first.\n",
      "  flow_mat.at[k, a] += flow_value\n"
     ]
    }
   ],
   "source": [
    "# 20分の合計を3/4して15分の通過データに変換する\n",
    "res_dict = {}\n",
    "for name, group in grouped:\n",
    "    out1 = group[group['time'] == '18:30']['OUT'].iloc[0]\n",
    "    out2 = group[group['time'] == '18:40']['OUT'].iloc[0]\n",
    "\n",
    "    out_quater = (out1 + out2) * 3 / 4\n",
    "    res_dict[name] = out_quater\n",
    "\n",
    "print(res_dict)\n",
    "df_multi_node = pd.read_csv('/Users/takahiromatsunaga/res2023/shibuya_nw/shibuya_stanw/ver0707/multi_node_post.csv')\n",
    "\n",
    "multi_nodeid_list = sorted(df_multi_node['nodeid'].unique())\n",
    "# 17:30-45\n",
    "# flow_dict_origin =  {6: 723.75, 7: 606.75, 8: 78.75, 9: 618.75, 12: 1203.0, 13: 1183.5}\n",
    "flow_dict = {(9, 31): 824.25, (10, 37): 746.75, (11, 34): 628.5, (14, 26): 1415.25, (15, 27): 1158.75}\n",
    "\n",
    "# 8:30-45\n",
    "# flow_dict_origin = {6: 756.75, 7: 561.0, 8: 28.5, 9: 405.0, 12: 663.0, 13: 831.0}\n",
    "# flow_dict = {(9, 31): 756.75, (10, 37): 589.5, (11, 34): 405.0, (14, 26): 663.0, (15, 27): 831.0}\n",
    "\n",
    "flow_mat = pd.DataFrame(0, index = multi_nodeid_list, columns = multi_nodeid_list)\n",
    "\n",
    "# flow_mat\n",
    "for node_set, flow_value in list(flow_dict.items()):\n",
    "    k = node_set[0] # nodeid\n",
    "    a = node_set[1]\n",
    "    flow_mat.at[k, a] += flow_value\n",
    "\n",
    "date = '20230130_18'\n",
    "flow_mat.to_csv(f'/Users/takahiromatsunaga/res2023/bledata/ble_timegroup/{date}/{date}30_flow.csv')\n"
   ]
  },
  {
   "cell_type": "code",
   "execution_count": 18,
   "metadata": {},
   "outputs": [
    {
     "name": "stdout",
     "output_type": "stream",
     "text": [
      "{6: 440.25, 7: 494.25, 8: 33.75, 9: 451.5, 12: 803.25, 13: 948.75}\n"
     ]
    },
    {
     "name": "stderr",
     "output_type": "stream",
     "text": [
      "/var/folders/1p/_62pxgbn5kg837b06pfnvkdw0000gn/T/ipykernel_18159/2989869867.py:28: FutureWarning: Setting an item of incompatible dtype is deprecated and will raise an error in a future version of pandas. Value '440.25' has dtype incompatible with int64, please explicitly cast to a compatible dtype first.\n",
      "  flow_mat.at[k, a] += flow_value\n",
      "/var/folders/1p/_62pxgbn5kg837b06pfnvkdw0000gn/T/ipykernel_18159/2989869867.py:28: FutureWarning: Setting an item of incompatible dtype is deprecated and will raise an error in a future version of pandas. Value '451.5' has dtype incompatible with int64, please explicitly cast to a compatible dtype first.\n",
      "  flow_mat.at[k, a] += flow_value\n",
      "/var/folders/1p/_62pxgbn5kg837b06pfnvkdw0000gn/T/ipykernel_18159/2989869867.py:28: FutureWarning: Setting an item of incompatible dtype is deprecated and will raise an error in a future version of pandas. Value '803.25' has dtype incompatible with int64, please explicitly cast to a compatible dtype first.\n",
      "  flow_mat.at[k, a] += flow_value\n",
      "/var/folders/1p/_62pxgbn5kg837b06pfnvkdw0000gn/T/ipykernel_18159/2989869867.py:28: FutureWarning: Setting an item of incompatible dtype is deprecated and will raise an error in a future version of pandas. Value '948.755' has dtype incompatible with int64, please explicitly cast to a compatible dtype first.\n",
      "  flow_mat.at[k, a] += flow_value\n"
     ]
    }
   ],
   "source": [
    "# 20分の合計を3/4して15分の通過データに変換する\n",
    "res_dict = {}\n",
    "for name, group in grouped:\n",
    "    out1 = group[group['time'] == '20:30']['OUT'].iloc[0]\n",
    "    out2 = group[group['time'] == '20:40']['OUT'].iloc[0]\n",
    "\n",
    "    out_quater = (out1 + out2) * 3 / 4\n",
    "    res_dict[name] = out_quater\n",
    "\n",
    "print(res_dict)\n",
    "df_multi_node = pd.read_csv('/Users/takahiromatsunaga/res2023/shibuya_nw/shibuya_stanw/ver0707/multi_node_post.csv')\n",
    "\n",
    "multi_nodeid_list = sorted(df_multi_node['nodeid'].unique())\n",
    "# 17:30-45\n",
    "# flow_dict_origin =  {6: 723.75, 7: 606.75, 8: 78.75, 9: 618.75, 12: 1203.0, 13: 1183.5}\n",
    "flow_dict = {(9, 31): 440.25, (10, 37): 827, (11, 34): 451.5, (14, 26): 803.25, (15, 27): 948.755}\n",
    "\n",
    "# 8:30-45\n",
    "# flow_dict_origin = {6: 756.75, 7: 561.0, 8: 28.5, 9: 405.0, 12: 663.0, 13: 831.0}\n",
    "# flow_dict = {(9, 31): 756.75, (10, 37): 589.5, (11, 34): 405.0, (14, 26): 663.0, (15, 27): 831.0}\n",
    "\n",
    "flow_mat = pd.DataFrame(0, index = multi_nodeid_list, columns = multi_nodeid_list)\n",
    "\n",
    "# flow_mat\n",
    "for node_set, flow_value in list(flow_dict.items()):\n",
    "    k = node_set[0] # nodeid\n",
    "    a = node_set[1]\n",
    "    flow_mat.at[k, a] += flow_value\n",
    "\n",
    "date = '20230130_20'\n",
    "flow_mat.to_csv(f'/Users/takahiromatsunaga/res2023/bledata/ble_timegroup/{date}/{date}30_flow.csv')\n"
   ]
  },
  {
   "cell_type": "markdown",
   "metadata": {},
   "source": [
    "抽出したデータから各時間帯のフローデータを作る"
   ]
  },
  {
   "cell_type": "code",
   "execution_count": 14,
   "metadata": {},
   "outputs": [],
   "source": [
    "import pandas as pd \n",
    "df_multi_node = pd.read_csv('/Users/takahiromatsunaga/res2023/shibuya_nw/shibuya_stanw/ver0707/multi_node_post.csv')\n",
    "multi_nodeid_list = sorted(df_multi_node['nodeid'].unique())\n",
    "# 17:30-45\n",
    "flow_dict_origin = {6: 723.75, 7: 606.75, 8: 78.75, 9: 618.75, 12: 1203.0, 13: 1183.5}\n",
    "flow_dict = {(9, 31): 723.75, (10, 37): 685.75, (11, 34): 618.75, (14, 26): 1203.0, (15, 27): 1183.5}\n",
    "\n",
    "# 8:30-45\n",
    "# flow_dict_origin = {6: 756.75, 7: 561.0, 8: 28.5, 9: 405.0, 12: 663.0, 13: 831.0}\n",
    "# flow_dict = {(9, 31): 756.75, (10, 37): 589.5, (11, 34): 405.0, (14, 26): 663.0, (15, 27): 831.0}\n",
    "\n",
    "flow_mat = pd.DataFrame(0, index = multi_nodeid_list, columns = multi_nodeid_list)\n",
    "\n",
    "# flow_mat\n",
    "for node_set, flow_value in list(flow_dict.items()):\n",
    "    k = node_set[0] # nodeid\n",
    "    a = node_set[1]\n",
    "    flow_mat.at[k, a] += flow_value\n",
    "\n",
    "date = '20230130_17'\n",
    "flow_mat.to_csv(f'/Users/takahiromatsunaga/res2023/bledata/ble_timegroup/{date}/{date}30_flow.csv')\n"
   ]
  },
  {
   "cell_type": "code",
   "execution_count": 15,
   "metadata": {},
   "outputs": [
    {
     "name": "stderr",
     "output_type": "stream",
     "text": [
      "/var/folders/1p/_62pxgbn5kg837b06pfnvkdw0000gn/T/ipykernel_22202/2030752535.py:4: FutureWarning: Setting an item of incompatible dtype is deprecated and will raise an error in a future version of pandas. Value '723.75' has dtype incompatible with int64, please explicitly cast to a compatible dtype first.\n",
      "  flow_mat.at[k, a] += flow_value\n",
      "/var/folders/1p/_62pxgbn5kg837b06pfnvkdw0000gn/T/ipykernel_22202/2030752535.py:4: FutureWarning: Setting an item of incompatible dtype is deprecated and will raise an error in a future version of pandas. Value '685.75' has dtype incompatible with int64, please explicitly cast to a compatible dtype first.\n",
      "  flow_mat.at[k, a] += flow_value\n",
      "/var/folders/1p/_62pxgbn5kg837b06pfnvkdw0000gn/T/ipykernel_22202/2030752535.py:4: FutureWarning: Setting an item of incompatible dtype is deprecated and will raise an error in a future version of pandas. Value '618.75' has dtype incompatible with int64, please explicitly cast to a compatible dtype first.\n",
      "  flow_mat.at[k, a] += flow_value\n",
      "/var/folders/1p/_62pxgbn5kg837b06pfnvkdw0000gn/T/ipykernel_22202/2030752535.py:4: FutureWarning: Setting an item of incompatible dtype is deprecated and will raise an error in a future version of pandas. Value '1183.5' has dtype incompatible with int64, please explicitly cast to a compatible dtype first.\n",
      "  flow_mat.at[k, a] += flow_value\n"
     ]
    }
   ],
   "source": [
    "# for node_set, flow_value in list(flow_dict.items()):\n",
    "#     k = node_set[0] # nodeid\n",
    "#     a = node_set[1]\n",
    "#     flow_mat.at[k, a] += flow_value\n"
   ]
  },
  {
   "cell_type": "code",
   "execution_count": 16,
   "metadata": {},
   "outputs": [],
   "source": [
    "# date = '20230130_17'\n",
    "# flow_mat.to_csv(f'/Users/takahiromatsunaga/res2023/bledata/ble_timegroup/{date}/{date}30_flow.csv')"
   ]
  },
  {
   "cell_type": "markdown",
   "metadata": {},
   "source": [
    "以下テスト"
   ]
  },
  {
   "cell_type": "code",
   "execution_count": 3,
   "metadata": {},
   "outputs": [
    {
     "name": "stdout",
     "output_type": "stream",
     "text": [
      "Optimal value: [2.04665188e-09 2.04665188e-09 2.04665188e-09 4.99999999e-01\n",
      " 5.00000001e-01]\n",
      "Objective value: 0.5\n"
     ]
    },
    {
     "name": "stderr",
     "output_type": "stream",
     "text": [
      "/Users/takahiromatsunaga/opt/anaconda3/lib/python3.9/site-packages/scipy/optimize/_hessian_update_strategy.py:182: UserWarning: delta_grad == 0.0. Check if the approximated function is linear. If the function is linear better results can be obtained by defining the Hessian as zero instead of using quasi-Newton approximations.\n",
      "  warn('delta_grad == 0.0. Check if the approximated '\n"
     ]
    }
   ],
   "source": [
    "from scipy.optimize import minimize, LinearConstraint\n",
    "import numpy as np \n",
    "# 例として、変数の長さが5の最適化問題を考えます\n",
    "n_vars = 5\n",
    "\n",
    "# 線形制約行列\n",
    "# ここでは変数の3番目から5番目（インデックス2から4）の和が1になるように設定します\n",
    "A = np.zeros((1, n_vars))\n",
    "A[0, 3:] = 1  # 3番目から5番目の要素に1を設定\n",
    "\n",
    "# 制約の下限と上限\n",
    "lb = 1\n",
    "ub = 1\n",
    "\n",
    "# LinearConstraintオブジェクトの作成\n",
    "linear_constraint = LinearConstraint(A, lb, ub)\n",
    "\n",
    "# 目的関数の定義\n",
    "def objective(x):\n",
    "    return np.sum(x**2)\n",
    "\n",
    "# 初期値\n",
    "x0 = np.ones(n_vars)\n",
    "\n",
    "# 最適化の実行\n",
    "res = minimize(objective, x0, method='trust-constr', constraints=[linear_constraint])\n",
    "\n",
    "# 結果の表示\n",
    "print(\"Optimal value:\", res.x)\n",
    "print(\"Objective value:\", res.fun)\n"
   ]
  },
  {
   "cell_type": "markdown",
   "metadata": {},
   "source": [
    "flow dataについてver0815を作成する"
   ]
  },
  {
   "cell_type": "code",
   "execution_count": 5,
   "metadata": {},
   "outputs": [],
   "source": [
    "basepath = '/Users/takahiromatsunaga/res2023/bledata/ble_timegroup'\n",
    "timelists = ['08', '10', '12', '14', '16', '18', '20']\n",
    "for timestamp in timelists:\n",
    "    date_stamp = f'20230130_{timestamp}'\n",
    "    file_name = f'{date_stamp}30_flow.csv'\n",
    "    df_flow = pd.read_csv(os.path.join(basepath, date_stamp, file_name), index_col=0)\n",
    "    df_flow.columns = pd.to_numeric(df_flow.columns, errors='coerce')\n",
    "\n",
    "    df_flow_ver0815 = df_flow.loc[:50, df_flow.columns[df_flow.columns <= 50]]\n",
    "    new_indices = [52, 55, 56, 57, 61, 62, 100]\n",
    "    df_flow_ver0815 = df_flow_ver0815.reindex(index=df_flow_ver0815.index.tolist() + new_indices, columns=df_flow_ver0815.columns.tolist() + new_indices, fill_value=0)\n",
    "    new_file_name = f'{date_stamp}30_flow_ver0815.csv'\n",
    "    df_flow_ver0815.to_csv(os.path.join(basepath, date_stamp, new_file_name))"
   ]
  },
  {
   "cell_type": "code",
   "execution_count": null,
   "metadata": {},
   "outputs": [],
   "source": []
  }
 ],
 "metadata": {
  "kernelspec": {
   "display_name": "base",
   "language": "python",
   "name": "python3"
  },
  "language_info": {
   "codemirror_mode": {
    "name": "ipython",
    "version": 3
   },
   "file_extension": ".py",
   "mimetype": "text/x-python",
   "name": "python",
   "nbconvert_exporter": "python",
   "pygments_lexer": "ipython3",
   "version": "3.9.7"
  }
 },
 "nbformat": 4,
 "nbformat_minor": 2
}
