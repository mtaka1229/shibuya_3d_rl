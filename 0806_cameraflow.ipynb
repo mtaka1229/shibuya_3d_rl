{
 "cells": [
  {
   "cell_type": "markdown",
   "metadata": {},
   "source": [
    "カメラ観測結果からリンクフローデータを作成"
   ]
  },
  {
   "cell_type": "code",
   "execution_count": 1,
   "metadata": {},
   "outputs": [],
   "source": [
    "# とりあえず2023/01/29, 2023/01/30の08:00台，17:00台を集計\n",
    "import pandas as pd \n",
    "import numpy as np \n",
    "import os "
   ]
  },
  {
   "cell_type": "code",
   "execution_count": 2,
   "metadata": {},
   "outputs": [],
   "source": [
    "basepath = '/Users/takahiromatsunaga/res2023/PPcameraTG/camera'\n",
    "date = '20230130'\n",
    "df = pd.read_csv(os.path.join(basepath, f'camera_{date}.csv'))"
   ]
  },
  {
   "cell_type": "code",
   "execution_count": 6,
   "metadata": {},
   "outputs": [],
   "source": [
    "import matplotlib.pyplot as plt \n",
    "\n",
    "target_cameras = [1, 2, 3, 4, 5]\n",
    "grouped = df.groupby('ID_camera')\n",
    "# dfc_list = [group.reset_index(drop=True) for name, group in grouped]\n",
    "# for dfc in dfc_list:\n",
    "#     x1 = dfc['out']\n",
    "#     x2 = dfc['in']\n",
    "\n",
    "\n",
    "for name, group in grouped:\n",
    "    group = group.sort_values(by = 'time').reset_index(drop=True)\n",
    "    plt.figure()\n",
    "    plt.plot(group['time'], group['OUT'], label='OUT')\n",
    "    plt.plot(group['time'], group['IN'], label='IN')\n",
    "    plt.xlabel('Time')\n",
    "    plt.ylabel('Count')\n",
    "    plt.title(f'Camera {name}')\n",
    "    plt.legend()\n",
    "    plt.savefig(os.path.join(basepath, f'graph_20230130/camera_{name}.png'))\n",
    "    plt.close()"
   ]
  },
  {
   "cell_type": "code",
   "execution_count": 8,
   "metadata": {},
   "outputs": [
    {
     "name": "stdout",
     "output_type": "stream",
     "text": [
      "{6: 723.75, 7: 606.75, 8: 78.75, 9: 618.75, 12: 1203.0, 13: 1183.5}\n"
     ]
    }
   ],
   "source": [
    "# 20分の合計を3/4して15分の通過データに変換する\n",
    "res_dict = {}\n",
    "for name, group in grouped:\n",
    "    out1 = group[group['time'] == '17:30']['OUT'].iloc[0]\n",
    "    out2 = group[group['time'] == '17:40']['OUT'].iloc[0]\n",
    "\n",
    "    out_quater = (out1 + out2) * 3 / 4\n",
    "    res_dict[name] = out_quater\n",
    "\n",
    "print(res_dict)"
   ]
  },
  {
   "cell_type": "code",
   "execution_count": 9,
   "metadata": {},
   "outputs": [
    {
     "name": "stdout",
     "output_type": "stream",
     "text": [
      "{6: 756.75, 7: 561.0, 8: 28.5, 9: 405.0, 12: 663.0, 13: 831.0}\n"
     ]
    }
   ],
   "source": [
    "# 20分の合計を3/4して15分の通過データに変換する\n",
    "res_dict = {}\n",
    "for name, group in grouped:\n",
    "    out1 = group[group['time'] == '8:30']['OUT'].iloc[0]\n",
    "    out2 = group[group['time'] == '8:40']['OUT'].iloc[0]\n",
    "\n",
    "    out_quater = (out1 + out2) * 3 / 4\n",
    "    res_dict[name] = out_quater\n",
    "\n",
    "print(res_dict)"
   ]
  },
  {
   "cell_type": "code",
   "execution_count": 10,
   "metadata": {},
   "outputs": [
    {
     "name": "stdout",
     "output_type": "stream",
     "text": [
      "{6: 766.5, 7: 427.5, 8: 23.25, 9: 388.5, 12: 766.5, 13: 744.75}\n"
     ]
    }
   ],
   "source": [
    "# 20分の合計を3/4して15分の通過データに変換する\n",
    "res_dict = {}\n",
    "for name, group in grouped:\n",
    "    out1 = group[group['time'] == '9:30']['OUT'].iloc[0]\n",
    "    out2 = group[group['time'] == '9:40']['OUT'].iloc[0]\n",
    "\n",
    "    out_quater = (out1 + out2) * 3 / 4\n",
    "    res_dict[name] = out_quater\n",
    "\n",
    "print(res_dict)"
   ]
  },
  {
   "cell_type": "code",
   "execution_count": 11,
   "metadata": {},
   "outputs": [
    {
     "name": "stdout",
     "output_type": "stream",
     "text": [
      "{6: 447.75, 7: 265.5, 8: 21.0, 9: 382.5, 12: 717.75, 13: 812.25}\n"
     ]
    }
   ],
   "source": [
    "# 20分の合計を3/4して15分の通過データに変換する\n",
    "res_dict = {}\n",
    "for name, group in grouped:\n",
    "    out1 = group[group['time'] == '13:30']['OUT'].iloc[0]\n",
    "    out2 = group[group['time'] == '13:40']['OUT'].iloc[0]\n",
    "\n",
    "    out_quater = (out1 + out2) * 3 / 4\n",
    "    res_dict[name] = out_quater\n",
    "\n",
    "print(res_dict)"
   ]
  }
 ],
 "metadata": {
  "kernelspec": {
   "display_name": "base",
   "language": "python",
   "name": "python3"
  },
  "language_info": {
   "codemirror_mode": {
    "name": "ipython",
    "version": 3
   },
   "file_extension": ".py",
   "mimetype": "text/x-python",
   "name": "python",
   "nbconvert_exporter": "python",
   "pygments_lexer": "ipython3",
   "version": "3.9.7"
  }
 },
 "nbformat": 4,
 "nbformat_minor": 2
}
