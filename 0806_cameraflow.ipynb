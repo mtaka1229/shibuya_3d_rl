{
 "cells": [
  {
   "cell_type": "markdown",
   "metadata": {},
   "source": [
    "カメラ観測結果からリンクフローデータを作成"
   ]
  },
  {
   "cell_type": "code",
   "execution_count": 1,
   "metadata": {},
   "outputs": [],
   "source": [
    "# とりあえず2023/01/29, 2023/01/30の08:00台，17:00台を集計\n",
    "import pandas as pd \n",
    "import numpy as np \n",
    "import os "
   ]
  },
  {
   "cell_type": "code",
   "execution_count": 2,
   "metadata": {},
   "outputs": [],
   "source": [
    "basepath = '/Users/takahiromatsunaga/res2023/PPcameraTG/camera'\n",
    "date = '20230130'\n",
    "df = pd.read_csv(os.path.join(basepath, f'camera_{date}.csv'))"
   ]
  },
  {
   "cell_type": "code",
   "execution_count": 6,
   "metadata": {},
   "outputs": [],
   "source": [
    "import matplotlib.pyplot as plt \n",
    "\n",
    "target_cameras = [1, 2, 3, 4, 5]\n",
    "grouped = df.groupby('ID_camera')\n",
    "# dfc_list = [group.reset_index(drop=True) for name, group in grouped]\n",
    "# for dfc in dfc_list:\n",
    "#     x1 = dfc['out']\n",
    "#     x2 = dfc['in']\n",
    "\n",
    "\n",
    "for name, group in grouped:\n",
    "    group = group.sort_values(by = 'time').reset_index(drop=True)\n",
    "    plt.figure()\n",
    "    plt.plot(group['time'], group['OUT'], label='OUT')\n",
    "    plt.plot(group['time'], group['IN'], label='IN')\n",
    "    plt.xlabel('Time')\n",
    "    plt.ylabel('Count')\n",
    "    plt.title(f'Camera {name}')\n",
    "    plt.legend()\n",
    "    plt.savefig(os.path.join(basepath, f'graph_20230130/camera_{name}.png'))\n",
    "    plt.close()"
   ]
  },
  {
   "cell_type": "code",
   "execution_count": 8,
   "metadata": {},
   "outputs": [
    {
     "name": "stdout",
     "output_type": "stream",
     "text": [
      "{6: 723.75, 7: 606.75, 8: 78.75, 9: 618.75, 12: 1203.0, 13: 1183.5}\n"
     ]
    }
   ],
   "source": [
    "# 20分の合計を3/4して15分の通過データに変換する\n",
    "res_dict = {}\n",
    "for name, group in grouped:\n",
    "    out1 = group[group['time'] == '17:30']['OUT'].iloc[0]\n",
    "    out2 = group[group['time'] == '17:40']['OUT'].iloc[0]\n",
    "\n",
    "    out_quater = (out1 + out2) * 3 / 4\n",
    "    res_dict[name] = out_quater\n",
    "\n",
    "print(res_dict)"
   ]
  },
  {
   "cell_type": "code",
   "execution_count": 9,
   "metadata": {},
   "outputs": [
    {
     "name": "stdout",
     "output_type": "stream",
     "text": [
      "{6: 756.75, 7: 561.0, 8: 28.5, 9: 405.0, 12: 663.0, 13: 831.0}\n"
     ]
    }
   ],
   "source": [
    "# 20分の合計を3/4して15分の通過データに変換する\n",
    "res_dict = {}\n",
    "for name, group in grouped:\n",
    "    out1 = group[group['time'] == '8:30']['OUT'].iloc[0]\n",
    "    out2 = group[group['time'] == '8:40']['OUT'].iloc[0]\n",
    "\n",
    "    out_quater = (out1 + out2) * 3 / 4\n",
    "    res_dict[name] = out_quater\n",
    "\n",
    "print(res_dict)"
   ]
  },
  {
   "cell_type": "code",
   "execution_count": 10,
   "metadata": {},
   "outputs": [
    {
     "name": "stdout",
     "output_type": "stream",
     "text": [
      "{6: 766.5, 7: 427.5, 8: 23.25, 9: 388.5, 12: 766.5, 13: 744.75}\n"
     ]
    }
   ],
   "source": [
    "# 20分の合計を3/4して15分の通過データに変換する\n",
    "res_dict = {}\n",
    "for name, group in grouped:\n",
    "    out1 = group[group['time'] == '9:30']['OUT'].iloc[0]\n",
    "    out2 = group[group['time'] == '9:40']['OUT'].iloc[0]\n",
    "\n",
    "    out_quater = (out1 + out2) * 3 / 4\n",
    "    res_dict[name] = out_quater\n",
    "\n",
    "print(res_dict)"
   ]
  },
  {
   "cell_type": "code",
   "execution_count": 11,
   "metadata": {},
   "outputs": [
    {
     "name": "stdout",
     "output_type": "stream",
     "text": [
      "{6: 447.75, 7: 265.5, 8: 21.0, 9: 382.5, 12: 717.75, 13: 812.25}\n"
     ]
    }
   ],
   "source": [
    "# 20分の合計を3/4して15分の通過データに変換する\n",
    "res_dict = {}\n",
    "for name, group in grouped:\n",
    "    out1 = group[group['time'] == '13:30']['OUT'].iloc[0]\n",
    "    out2 = group[group['time'] == '13:40']['OUT'].iloc[0]\n",
    "\n",
    "    out_quater = (out1 + out2) * 3 / 4\n",
    "    res_dict[name] = out_quater\n",
    "\n",
    "print(res_dict)"
   ]
  },
  {
   "cell_type": "markdown",
   "metadata": {},
   "source": [
    "抽出したデータから各時間帯のフローデータを作る"
   ]
  },
  {
   "cell_type": "code",
   "execution_count": 4,
   "metadata": {},
   "outputs": [],
   "source": [
    "import pandas as pd \n",
    "df_multi_node = pd.read_csv('/Users/takahiromatsunaga/res2023/shibuya_nw/shibuya_stanw/ver0707/multi_node_post.csv')\n",
    "multi_nodeid_list = sorted(df_multi_node['nodeid'].unique())\n",
    "flow_dict_origin = {6: 723.75, 7: 606.75, 8: 78.75, 9: 618.75, 12: 1203.0, 13: 1183.5}\n",
    "flow_dict = {(9, 31): 723.75, (10, 37): 685.75, (11, 34): 618.75, (14, 26): 1203.0, (15, 27): 1183.5}\n",
    "flow_mat = pd.DataFrame(0, index = multi_nodeid_list, columns = multi_nodeid_list)\n",
    "\n",
    "# flow_mat"
   ]
  },
  {
   "cell_type": "code",
   "execution_count": 5,
   "metadata": {},
   "outputs": [
    {
     "name": "stderr",
     "output_type": "stream",
     "text": [
      "/var/folders/1p/_62pxgbn5kg837b06pfnvkdw0000gn/T/ipykernel_2734/2030752535.py:4: FutureWarning: Setting an item of incompatible dtype is deprecated and will raise an error in a future version of pandas. Value '723.75' has dtype incompatible with int64, please explicitly cast to a compatible dtype first.\n",
      "  flow_mat.at[k, a] += flow_value\n",
      "/var/folders/1p/_62pxgbn5kg837b06pfnvkdw0000gn/T/ipykernel_2734/2030752535.py:4: FutureWarning: Setting an item of incompatible dtype is deprecated and will raise an error in a future version of pandas. Value '685.75' has dtype incompatible with int64, please explicitly cast to a compatible dtype first.\n",
      "  flow_mat.at[k, a] += flow_value\n",
      "/var/folders/1p/_62pxgbn5kg837b06pfnvkdw0000gn/T/ipykernel_2734/2030752535.py:4: FutureWarning: Setting an item of incompatible dtype is deprecated and will raise an error in a future version of pandas. Value '618.75' has dtype incompatible with int64, please explicitly cast to a compatible dtype first.\n",
      "  flow_mat.at[k, a] += flow_value\n",
      "/var/folders/1p/_62pxgbn5kg837b06pfnvkdw0000gn/T/ipykernel_2734/2030752535.py:4: FutureWarning: Setting an item of incompatible dtype is deprecated and will raise an error in a future version of pandas. Value '1183.5' has dtype incompatible with int64, please explicitly cast to a compatible dtype first.\n",
      "  flow_mat.at[k, a] += flow_value\n"
     ]
    }
   ],
   "source": [
    "for node_set, flow_value in list(flow_dict.items()):\n",
    "    k = node_set[0] # nodeid\n",
    "    a = node_set[1]\n",
    "    flow_mat.at[k, a] += flow_value\n"
   ]
  },
  {
   "cell_type": "code",
   "execution_count": 6,
   "metadata": {},
   "outputs": [],
   "source": [
    "flow_mat.to_csv('/Users/takahiromatsunaga/res2023/bledata/ble_timegroup/20230130_17/20230130_1730_flow.csv')"
   ]
  },
  {
   "cell_type": "code",
   "execution_count": 4,
   "metadata": {},
   "outputs": [],
   "source": [
    "xbounds=-5, 0)*5 + (1, 3)]"
   ]
  },
  {
   "cell_type": "code",
   "execution_count": 5,
   "metadata": {},
   "outputs": [
    {
     "data": {
      "text/plain": [
       "[(-5, 0, -5, 0, -5, 0, -5, 0, -5, 0, 1, 3)]"
      ]
     },
     "execution_count": 5,
     "metadata": {},
     "output_type": "execute_result"
    }
   ],
   "source": [
    "xbounds"
   ]
  },
  {
   "cell_type": "code",
   "execution_count": null,
   "metadata": {},
   "outputs": [],
   "source": []
  }
 ],
 "metadata": {
  "kernelspec": {
   "display_name": "base",
   "language": "python",
   "name": "python3"
  },
  "language_info": {
   "codemirror_mode": {
    "name": "ipython",
    "version": 3
   },
   "file_extension": ".py",
   "mimetype": "text/x-python",
   "name": "python",
   "nbconvert_exporter": "python",
   "pygments_lexer": "ipython3",
   "version": "3.9.7"
  }
 },
 "nbformat": 4,
 "nbformat_minor": 2
}
