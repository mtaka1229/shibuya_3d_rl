{
 "cells": [
  {
   "cell_type": "code",
   "execution_count": 1,
   "metadata": {},
   "outputs": [],
   "source": [
    "import pandas as pd \n",
    "import os\n",
    "import math"
   ]
  },
  {
   "cell_type": "code",
   "execution_count": 3,
   "metadata": {},
   "outputs": [],
   "source": [
    "# フォルダ内のCSVファイルを読み込む\n",
    "#folder_path = '/Users/takahiromatsunaga/res2023/bledata/ble_timegroup/20230130_08/user_stock_kai0015_end21'\n",
    "#files = [f for f in os.listdir(folder_path) if f.endswith('.csv')]\n",
    "\n",
    "# フォルダ内のCSVファイルを3つに分割\n",
    "#num_files = len(files)\n",
    "#files_per_group = math.ceil(num_files / 3)\n",
    "\n",
    "#for i in range(3):\n",
    "#    start_index = i * files_per_group\n",
    "#    end_index = min((i + 1) * files_per_group, num_files)\n",
    "    \n",
    "    # 新しいフォルダを作成\n",
    "#    new_folder_path = f'/Users/takahiromatsunaga/res2023/bledata/ble_timegroup/20230130_08/user_stock_kai0015_end21/groups/group_{i + 1}'\n",
    "#   os.makedirs(new_folder_path, exist_ok=True)\n",
    "    \n",
    "    # CSVファイルをコピーして新しいフォルダに保存\n",
    "#    for file in files[start_index:end_index]:\n",
    "#        file_path = os.path.join(folder_path, file)\n",
    "#        df = pd.read_csv(file_path)  # CSVファイルを読み込み\n",
    "#        new_file_path = os.path.join(new_folder_path, file)\n",
    "#        df.to_csv(new_file_path, index=False)  # 新しいフォルダに保存\n"
   ]
  },
  {
   "cell_type": "code",
   "execution_count": 2,
   "metadata": {},
   "outputs": [
    {
     "name": "stdout",
     "output_type": "stream",
     "text": [
      "734\n"
     ]
    }
   ],
   "source": [
    "# フォルダ内のCSVファイルを読み込む\n",
    "folder_path = '/Users/takahiromatsunaga/res2023/bledata/ble_timegroup/20230130_17/20230130_1745_18sec_end162021_under10'\n",
    "files = [f for f in os.listdir(folder_path) if f.endswith('.csv')]\n",
    "\n",
    "# フォルダ内のCSVファイルを3つに分割\n",
    "num_files = len(files)\n",
    "\n",
    "print(num_files)"
   ]
  },
  {
   "cell_type": "code",
   "execution_count": 3,
   "metadata": {},
   "outputs": [],
   "source": [
    "# フォルダ内のCSVファイルを読み込む\n",
    "folder_path = '/Users/takahiromatsunaga/res2023/bledata/ble_timegroup/20230130_17/20230130_1745_18sec_end162021_under10'\n",
    "files = [f for f in os.listdir(folder_path) if f.endswith('.csv')]\n",
    "\n",
    "# フォルダ内のCSVファイルを3つに分割\n",
    "num_files = len(files)\n",
    "files_per_group = math.ceil(num_files / 2)\n",
    "\n",
    "for i in range(3):\n",
    "    start_index = i * files_per_group\n",
    "    end_index = min((i + 1) * files_per_group, num_files)\n",
    "    \n",
    "    # 新しいフォルダを作成\n",
    "    new_folder_path = f'/Users/takahiromatsunaga/res2023/bledata/ble_timegroup/20230130_17/20230130_1745_18sec_end162021_under10_split/folder_big{i + 1}'\n",
    "    os.makedirs(new_folder_path, exist_ok=True)\n",
    "    \n",
    "    # CSVファイルをコピーして新しいフォルダに保存\n",
    "    for file in files[start_index:end_index]:\n",
    "        file_path = os.path.join(folder_path, file)\n",
    "        df = pd.read_csv(file_path)  # CSVファイルを読み込み\n",
    "        new_file_path = os.path.join(new_folder_path, file)\n",
    "        df.to_csv(new_file_path, index=False)  # 新しいフォルダに保存\n"
   ]
  },
  {
   "cell_type": "code",
   "execution_count": 5,
   "metadata": {},
   "outputs": [
    {
     "name": "stdout",
     "output_type": "stream",
     "text": [
      "367\n"
     ]
    }
   ],
   "source": [
    "# フォルダ内のCSVファイルを読み込む\n",
    "folder_path = '/Users/takahiromatsunaga/res2023/bledata/ble_timegroup/20230130_17/20230130_1745_18sec_end162021_under10_split/folder_big1'\n",
    "files = [f for f in os.listdir(folder_path) if f.endswith('.csv')]\n",
    "\n",
    "# フォルダ内のCSVファイルを3つに分割\n",
    "num_files = len(files)\n",
    "\n",
    "print(num_files)"
   ]
  },
  {
   "cell_type": "code",
   "execution_count": null,
   "metadata": {},
   "outputs": [],
   "source": []
  }
 ],
 "metadata": {
  "kernelspec": {
   "display_name": "base",
   "language": "python",
   "name": "python3"
  },
  "language_info": {
   "codemirror_mode": {
    "name": "ipython",
    "version": 3
   },
   "file_extension": ".py",
   "mimetype": "text/x-python",
   "name": "python",
   "nbconvert_exporter": "python",
   "pygments_lexer": "ipython3",
   "version": "3.9.7"
  }
 },
 "nbformat": 4,
 "nbformat_minor": 2
}
