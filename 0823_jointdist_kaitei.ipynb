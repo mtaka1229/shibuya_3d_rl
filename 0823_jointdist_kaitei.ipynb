{
 "cells": [
  {
   "cell_type": "markdown",
   "metadata": {},
   "source": [
    "カメラのflowデータはリンク数が不十分で時間帯の変動分をうまく見れないので，BLEとアンケートからq(z,x)を計算し，BLEのflowデータから推定する\n",
    "\n",
    "そのためにflowデータを作り直す（transit probabilityではなく実数でflowデータを作ってこれをぶち込む）\n",
    "\n",
    "0813あたりにやった操作をやり直す"
   ]
  },
  {
   "cell_type": "code",
   "execution_count": 1,
   "metadata": {},
   "outputs": [
    {
     "name": "stderr",
     "output_type": "stream",
     "text": [
      "/Users/takahiromatsunaga/opt/anaconda3/lib/python3.9/site-packages/pandas/core/computation/expressions.py:21: UserWarning: Pandas requires version '2.8.4' or newer of 'numexpr' (version '2.7.3' currently installed).\n",
      "  from pandas.core.computation.check import NUMEXPR_INSTALLED\n",
      "/Users/takahiromatsunaga/opt/anaconda3/lib/python3.9/site-packages/pandas/core/arrays/masked.py:60: UserWarning: Pandas requires version '1.3.6' or newer of 'bottleneck' (version '1.3.2' currently installed).\n",
      "  from pandas.core import (\n"
     ]
    }
   ],
   "source": [
    "import pandas as pd \n",
    "import numpy as np \n",
    "import os "
   ]
  },
  {
   "cell_type": "markdown",
   "metadata": {},
   "source": [
    "inputはtransit_countデータとmulti_transit_probabilityデータ\n",
    "\n",
    "境界部分の処理に注意して実数データに変換する&ver0816とそうでないのでわける"
   ]
  },
  {
   "cell_type": "code",
   "execution_count": 122,
   "metadata": {},
   "outputs": [],
   "source": [
    "basepath = '/Users/takahiromatsunaga/res2023/bledata/ble_timegroup' #/20230130_08' # /20230130_0845.csv'\n",
    "day_stamp = '20230130'\n",
    "time_stamp = '08'\n",
    "ver_index = 'ver0815' # 'ver0815'"
   ]
  },
  {
   "cell_type": "code",
   "execution_count": 123,
   "metadata": {},
   "outputs": [
    {
     "name": "stdout",
     "output_type": "stream",
     "text": [
      "[19, 20, 25, 26, 29] [30, 31, 32, 33, 34, 35]\n"
     ]
    }
   ],
   "source": [
    "if ver_index == 'original':\n",
    "    df_node = pd.read_csv('/Users/takahiromatsunaga/res2023/shibuya_nw/shibuya_stanw/ver0707/multi_node_post.csv')\n",
    "    df_link = pd.read_csv('/Users/takahiromatsunaga/res2023/shibuya_nw/shibuya_stanw/ver0707/multi_link_post.csv')\n",
    "    df_multiprob = pd.read_csv('/Users/takahiromatsunaga/res2023/PPcameraTG/PP/PP_webq/q_ans/multi_transit_probability.csv', index_col = 0)\n",
    "    dest_nodeids = [i for i in range(51, 61)]\n",
    "\n",
    "elif ver_index == 'ver0815':\n",
    "    df_node = pd.read_csv(f'/Users/takahiromatsunaga/res2023/shibuya_nw/shibuya_stanw/ver0707/multi_node_post_{ver_index}.csv')\n",
    "    df_link = pd.read_csv(f'/Users/takahiromatsunaga/res2023/shibuya_nw/shibuya_stanw/ver0707/multi_link_post_{ver_index}.csv')\n",
    "    df_multiprob = pd.read_csv(f'/Users/takahiromatsunaga/res2023/PPcameraTG/PP/PP_webq/q_ans/multi_transit_probability_{ver_index}.csv', index_col = 0)\n",
    "    dest_nodeids = [52, 55, 56, 57, 61, 62]\n",
    "\n",
    "nodeid_list = sorted(df_node['nodeid'].unique())\n",
    "\n",
    "gate_nodeids = [28, 29, 35, 36, 39]\n",
    "gate_nodeixs = [nodeid_list.index(i) for i in gate_nodeids]\n",
    "dest_nodeixs = [nodeid_list.index(i) for i in dest_nodeids]\n",
    "\n",
    "print(gate_nodeixs, dest_nodeixs)\n",
    "# こっちにcountを紐づける\n",
    "df_transit_count = pd.read_csv(f'/Users/takahiromatsunaga/res2023/bledata/ble_timegroup/{day_stamp}_{time_stamp}/transit_counts_{day_stamp}_{time_stamp}30_20sec_off.csv', index_col=0)\n"
   ]
  },
  {
   "cell_type": "code",
   "execution_count": 124,
   "metadata": {},
   "outputs": [
    {
     "name": "stdout",
     "output_type": "stream",
     "text": [
      "[1, 2, 3, 4, 5, 6, 7, 8, 9, 10, 11, 12, 13, 14, 15, 24, 25, 26, 27, 28, 29, 31, 32, 33, 34, 35, 36, 37, 38, 39, 52, 55, 56, 57, 61, 62, 100]\n"
     ]
    }
   ],
   "source": [
    "# df_transit_count に39-100の間にindexを追加（0）\n",
    "old_index = list(df_transit_count.index)\n",
    "old_index2 = old_index[:-1]\n",
    "newnodeids = old_index2 + dest_nodeids + [100]\n",
    "print(newnodeids)\n",
    "\n",
    "new_df_count = pd.DataFrame(0, index=newnodeids, columns=newnodeids)\n",
    "\n",
    "df_transit_count.index = df_transit_count.index.astype(str)\n",
    "df_transit_count.columns = df_transit_count.columns.astype(str)\n",
    "\n",
    "new_df_count.index = new_df_count.index.astype(str)\n",
    "new_df_count.columns = new_df_count.columns.astype(str)\n",
    "\n",
    "# print(df_transit_count.index, df_transit_count.columns)\n",
    "# print(new_df_count.index, new_df_count.columns)\n",
    "\n",
    "new_df_count.update(df_transit_count)\n",
    "# print(df_transit_count)\n",
    "# print(new_df_count) # OK"
   ]
  },
  {
   "cell_type": "code",
   "execution_count": 125,
   "metadata": {},
   "outputs": [
    {
     "name": "stdout",
     "output_type": "stream",
     "text": [
      "[   0   23  140   78    0    0    0   63  263  903 1403  366  785  617\n",
      "  127    8    7  704  478  482  528  283  629  541  720  256  349  566\n",
      "  649  707    0]\n",
      "31\n",
      "[   0.   23.  140.   78.    0.    0.    0.   63.  263.  903. 1403.  366.\n",
      "  785.  617.  127.    8.    7.  704.  478.  482.  528.  283.  629.  541.\n",
      "  720.  256.  349.  566.  649.  707.    0.    0.    0.    0.    0.    0.\n",
      "    0.]\n",
      "df_gtod_prob       1    2    3    4    5    6    7    8    9   10  ...   37   38   39  \\\n",
      "28  0.0  0.0  0.0  0.0  0.0  0.0  0.0  0.0  0.0  0.0  ...  0.0  0.0  0.0   \n",
      "29  0.0  0.0  0.0  0.0  0.0  0.0  0.0  0.0  0.0  0.0  ...  0.0  0.0  0.0   \n",
      "35  0.0  0.0  0.0  0.0  0.0  0.0  0.0  0.0  0.0  0.0  ...  0.0  0.0  0.0   \n",
      "36  0.0  0.0  0.0  0.0  0.0  0.0  0.0  0.0  0.0  0.0  ...  0.0  0.0  0.0   \n",
      "39  0.0  0.0  0.0  0.0  0.0  0.0  0.0  0.0  0.0  0.0  ...  0.0  0.0  0.0   \n",
      "\n",
      "          52        55        56        57        61        62  100  \n",
      "28  0.122642  0.084906  0.009434  0.009434  0.698113  0.075472  0.0  \n",
      "29  0.118483  0.047393  0.018957  0.000000  0.644550  0.170616  0.0  \n",
      "35  0.410256  0.108974  0.096154  0.000000  0.096154  0.288462  0.0  \n",
      "36  0.179487  0.423077  0.012821  0.153846  0.192308  0.038462  0.0  \n",
      "39  0.533784  0.148649  0.040541  0.006757  0.114865  0.155405  0.0  \n",
      "\n",
      "[5 rows x 37 columns]\n",
      "extracted [482 528 256 349 707]\n",
      "      1    2    3    4    5    6    7    8    9   10  ...   37   38   39  \\\n",
      "28  0.0  0.0  0.0  0.0  0.0  0.0  0.0  0.0  0.0  0.0  ...  0.0  0.0  0.0   \n",
      "29  0.0  0.0  0.0  0.0  0.0  0.0  0.0  0.0  0.0  0.0  ...  0.0  0.0  0.0   \n",
      "35  0.0  0.0  0.0  0.0  0.0  0.0  0.0  0.0  0.0  0.0  ...  0.0  0.0  0.0   \n",
      "36  0.0  0.0  0.0  0.0  0.0  0.0  0.0  0.0  0.0  0.0  ...  0.0  0.0  0.0   \n",
      "39  0.0  0.0  0.0  0.0  0.0  0.0  0.0  0.0  0.0  0.0  ...  0.0  0.0  0.0   \n",
      "\n",
      "            52          55         56         57          61          62  100  \n",
      "28   59.113208   40.924528   4.547170   4.547170  336.490566   36.377358  0.0  \n",
      "29   62.559242   25.023697  10.009479   0.000000  340.322275   90.085308  0.0  \n",
      "35  105.025641   27.897436  24.615385   0.000000   24.615385   73.846154  0.0  \n",
      "36   62.641026  147.653846   4.474359  53.692308   67.115385   13.423077  0.0  \n",
      "39  377.385135  105.094595  28.662162   4.777027   81.209459  109.871622  0.0  \n",
      "\n",
      "[5 rows x 37 columns]\n",
      "     1   2    3   4  5  6  7   8    9   10  ...   37   38   39          52  \\\n",
      "1    0   0    0   0  0  0  0   0    0    0  ...    0    0    0    0.000000   \n",
      "2    0   0    0   0  0  0  0   0    0    0  ...    0   23    0    0.000000   \n",
      "3    0  23   21  66  0  0  0   0    0    0  ...    0    0    0    0.000000   \n",
      "4    0   0   13   9  0  0  0   0    0    0  ...    0   50    0    0.000000   \n",
      "5    0   0    0   0  0  0  0   0    0    0  ...    0    0    0    0.000000   \n",
      "6    0   0    0   0  0  0  0   0    0    0  ...    0    0    0    0.000000   \n",
      "7    0   0    0   0  0  0  0   0    0    0  ...    0    0    0    0.000000   \n",
      "8    0   0    0   0  0  0  0  59  182    0  ...    0    0    0    0.000000   \n",
      "9    0   0    0   0  0  0  0   4   65  299  ...    0    0    0    0.000000   \n",
      "10   0   0    0   0  0  0  0   0   16  246  ...  557    0    0    0.000000   \n",
      "11   0   0    0   0  0  0  0   0    0  354  ...    0    0    0    0.000000   \n",
      "12   0   0    0   0  0  0  0   0    0    0  ...    0    0    0    0.000000   \n",
      "13   0   0    0   0  0  0  0   0    0    0  ...    0    0    0    0.000000   \n",
      "14   0   0    0   0  0  0  0   0    0    0  ...    0    0    0    0.000000   \n",
      "15   0   0    0   0  0  0  0   0    0    0  ...    0    0    0    0.000000   \n",
      "24   0   0    0   1  0  0  0   0    0    0  ...    0    0    0    0.000000   \n",
      "25   0   0    0   0  0  0  0   0    0    0  ...    0    0    0    0.000000   \n",
      "26   0   0    0   0  0  0  0   0    0    0  ...    0    0    0    0.000000   \n",
      "27   0   0    0   0  0  0  0   0    0    0  ...    0    0    0    0.000000   \n",
      "28   0   0    0   0  0  0  0   0    0    0  ...    0    0    0   59.113208   \n",
      "29   0   0    0   0  0  0  0   0    0    0  ...    0    0    0   62.559242   \n",
      "31   0   0    0   0  0  0  0   0    0    0  ...    0    0    0    0.000000   \n",
      "32   0   0  106   0  0  0  0   0    0    0  ...    0    0    0    0.000000   \n",
      "33   0   0    0   0  0  0  0   0    0    0  ...    0    0    0    0.000000   \n",
      "34   0   0    0   0  0  0  0   0    0    0  ...    0    0    0    0.000000   \n",
      "35   0   0    0   0  0  0  0   0    0    0  ...    0    0    0  105.025641   \n",
      "36   0   0    0   0  0  0  0   0    0    0  ...    0    0    0   62.641026   \n",
      "37   0   0    0   0  0  0  0   0    0    4  ...    9  554    0    0.000000   \n",
      "38   0   0    0   2  0  0  0   0    0    0  ...    0   22  625    0.000000   \n",
      "39   0   0    0   0  0  0  0   0    0    0  ...    0    0    0  377.385135   \n",
      "52   0   0    0   0  0  0  0   0    0    0  ...    0    0    0    0.000000   \n",
      "55   0   0    0   0  0  0  0   0    0    0  ...    0    0    0    0.000000   \n",
      "56   0   0    0   0  0  0  0   0    0    0  ...    0    0    0    0.000000   \n",
      "57   0   0    0   0  0  0  0   0    0    0  ...    0    0    0    0.000000   \n",
      "61   0   0    0   0  0  0  0   0    0    0  ...    0    0    0    0.000000   \n",
      "62   0   0    0   0  0  0  0   0    0    0  ...    0    0    0    0.000000   \n",
      "100  0   0    0   0  0  0  0   0    0    0  ...    0    0    0    0.000000   \n",
      "\n",
      "             55         56         57          61          62  100  \n",
      "1      0.000000   0.000000   0.000000    0.000000    0.000000    0  \n",
      "2      0.000000   0.000000   0.000000    0.000000    0.000000    0  \n",
      "3      0.000000   0.000000   0.000000    0.000000    0.000000    0  \n",
      "4      0.000000   0.000000   0.000000    0.000000    0.000000    0  \n",
      "5      0.000000   0.000000   0.000000    0.000000    0.000000    0  \n",
      "6      0.000000   0.000000   0.000000    0.000000    0.000000    0  \n",
      "7      0.000000   0.000000   0.000000    0.000000    0.000000    0  \n",
      "8      0.000000   0.000000   0.000000    0.000000    0.000000    0  \n",
      "9      0.000000   0.000000   0.000000    0.000000    0.000000    0  \n",
      "10     0.000000   0.000000   0.000000    0.000000    0.000000    0  \n",
      "11     0.000000   0.000000   0.000000    0.000000    0.000000    0  \n",
      "12     0.000000   0.000000   0.000000    0.000000    0.000000    0  \n",
      "13     0.000000   0.000000   0.000000    0.000000    0.000000    0  \n",
      "14     0.000000   0.000000   0.000000    0.000000    0.000000    0  \n",
      "15     0.000000   0.000000   0.000000    0.000000    0.000000    0  \n",
      "24     0.000000   0.000000   0.000000    0.000000    0.000000    0  \n",
      "25     0.000000   0.000000   0.000000    0.000000    0.000000    0  \n",
      "26     0.000000   0.000000   0.000000    0.000000    0.000000    0  \n",
      "27     0.000000   0.000000   0.000000    0.000000    0.000000    0  \n",
      "28    40.924528   4.547170   4.547170  336.490566   36.377358    0  \n",
      "29    25.023697  10.009479   0.000000  340.322275   90.085308    0  \n",
      "31     0.000000   0.000000   0.000000    0.000000    0.000000    0  \n",
      "32     0.000000   0.000000   0.000000    0.000000    0.000000    0  \n",
      "33     0.000000   0.000000   0.000000    0.000000    0.000000    0  \n",
      "34     0.000000   0.000000   0.000000    0.000000    0.000000    0  \n",
      "35    27.897436  24.615385   0.000000   24.615385   73.846154    0  \n",
      "36   147.653846   4.474359  53.692308   67.115385   13.423077    0  \n",
      "37     0.000000   0.000000   0.000000    0.000000    0.000000    0  \n",
      "38     0.000000   0.000000   0.000000    0.000000    0.000000    0  \n",
      "39   105.094595  28.662162   4.777027   81.209459  109.871622    0  \n",
      "52     0.000000   0.000000   0.000000    0.000000    0.000000    0  \n",
      "55     0.000000   0.000000   0.000000    0.000000    0.000000    0  \n",
      "56     0.000000   0.000000   0.000000    0.000000    0.000000    0  \n",
      "57     0.000000   0.000000   0.000000    0.000000    0.000000    0  \n",
      "61     0.000000   0.000000   0.000000    0.000000    0.000000    0  \n",
      "62     0.000000   0.000000   0.000000    0.000000    0.000000    0  \n",
      "100    0.000000   0.000000   0.000000    0.000000    0.000000    0  \n",
      "\n",
      "[37 rows x 37 columns]\n"
     ]
    },
    {
     "name": "stderr",
     "output_type": "stream",
     "text": [
      "/var/folders/1p/_62pxgbn5kg837b06pfnvkdw0000gn/T/ipykernel_7598/1461067811.py:25: FutureWarning: Setting an item of incompatible dtype is deprecated and will raise in a future error of pandas. Value '[  0.           0.           0.           0.           0.\n",
      "   0.           0.           0.           0.           0.\n",
      "   0.           0.           0.           0.           0.\n",
      "   0.           0.           0.           0.          59.11320755\n",
      "  62.55924171   0.           0.           0.           0.\n",
      " 105.02564103  62.64102564   0.           0.         377.38513514\n",
      "   0.           0.           0.           0.           0.\n",
      "   0.           0.        ]' has dtype incompatible with int64, please explicitly cast to a compatible dtype first.\n",
      "  new_df_count.update(result_df)\n",
      "/var/folders/1p/_62pxgbn5kg837b06pfnvkdw0000gn/T/ipykernel_7598/1461067811.py:25: FutureWarning: Setting an item of incompatible dtype is deprecated and will raise in a future error of pandas. Value '[  0.           0.           0.           0.           0.\n",
      "   0.           0.           0.           0.           0.\n",
      "   0.           0.           0.           0.           0.\n",
      "   0.           0.           0.           0.          40.9245283\n",
      "  25.02369668   0.           0.           0.           0.\n",
      "  27.8974359  147.65384615   0.           0.         105.09459459\n",
      "   0.           0.           0.           0.           0.\n",
      "   0.           0.        ]' has dtype incompatible with int64, please explicitly cast to a compatible dtype first.\n",
      "  new_df_count.update(result_df)\n",
      "/var/folders/1p/_62pxgbn5kg837b06pfnvkdw0000gn/T/ipykernel_7598/1461067811.py:25: FutureWarning: Setting an item of incompatible dtype is deprecated and will raise in a future error of pandas. Value '[ 0.          0.          0.          0.          0.          0.\n",
      "  0.          0.          0.          0.          0.          0.\n",
      "  0.          0.          0.          0.          0.          0.\n",
      "  0.          4.54716981 10.00947867  0.          0.          0.\n",
      "  0.         24.61538462  4.47435897  0.          0.         28.66216216\n",
      "  0.          0.          0.          0.          0.          0.\n",
      "  0.        ]' has dtype incompatible with int64, please explicitly cast to a compatible dtype first.\n",
      "  new_df_count.update(result_df)\n",
      "/var/folders/1p/_62pxgbn5kg837b06pfnvkdw0000gn/T/ipykernel_7598/1461067811.py:25: FutureWarning: Setting an item of incompatible dtype is deprecated and will raise in a future error of pandas. Value '[ 0.          0.          0.          0.          0.          0.\n",
      "  0.          0.          0.          0.          0.          0.\n",
      "  0.          0.          0.          0.          0.          0.\n",
      "  0.          4.54716981  0.          0.          0.          0.\n",
      "  0.          0.         53.69230769  0.          0.          4.77702703\n",
      "  0.          0.          0.          0.          0.          0.\n",
      "  0.        ]' has dtype incompatible with int64, please explicitly cast to a compatible dtype first.\n",
      "  new_df_count.update(result_df)\n",
      "/var/folders/1p/_62pxgbn5kg837b06pfnvkdw0000gn/T/ipykernel_7598/1461067811.py:25: FutureWarning: Setting an item of incompatible dtype is deprecated and will raise in a future error of pandas. Value '[  0.           0.           0.           0.           0.\n",
      "   0.           0.           0.           0.           0.\n",
      "   0.           0.           0.           0.           0.\n",
      "   0.           0.           0.           0.         336.49056604\n",
      " 340.32227488   0.           0.           0.           0.\n",
      "  24.61538462  67.11538462   0.           0.          81.20945946\n",
      "   0.           0.           0.           0.           0.\n",
      "   0.           0.        ]' has dtype incompatible with int64, please explicitly cast to a compatible dtype first.\n",
      "  new_df_count.update(result_df)\n",
      "/var/folders/1p/_62pxgbn5kg837b06pfnvkdw0000gn/T/ipykernel_7598/1461067811.py:25: FutureWarning: Setting an item of incompatible dtype is deprecated and will raise in a future error of pandas. Value '[  0.           0.           0.           0.           0.\n",
      "   0.           0.           0.           0.           0.\n",
      "   0.           0.           0.           0.           0.\n",
      "   0.           0.           0.           0.          36.37735849\n",
      "  90.08530806   0.           0.           0.           0.\n",
      "  73.84615385  13.42307692   0.           0.         109.87162162\n",
      "   0.           0.           0.           0.           0.\n",
      "   0.           0.        ]' has dtype incompatible with int64, please explicitly cast to a compatible dtype first.\n",
      "  new_df_count.update(result_df)\n"
     ]
    }
   ],
   "source": [
    "summ = np.sum(df_transit_count.values, axis = 0) # 各ノードへの到着数\n",
    "print(summ)\n",
    "print(len(summ))\n",
    "nzero = len(nodeid_list) - len(summ)\n",
    "extended_summ = np.concatenate([summ, np.zeros(nzero)])\n",
    "print(extended_summ)\n",
    "\n",
    "# 2. gate_nodeidsに基づいてdf_multi_probの行を選択\n",
    "df_gtod_prob = df_multiprob.loc[gate_nodeids]\n",
    "print('df_gtod_prob', df_gtod_prob)\n",
    "\n",
    "extracted_summ = summ[gate_nodeixs]\n",
    "print('extracted', extracted_summ)\n",
    "# 3. summの各要素を対応するdf_filtered_probの行に掛け算\n",
    "result_df = df_gtod_prob.multiply(extracted_summ, axis=0)\n",
    "\n",
    "print(result_df)\n",
    "\n",
    "result_df.index = result_df.index.astype(str)\n",
    "result_df.columns = result_df.columns.astype(str)\n",
    "\n",
    "# new_df_count.index = new_df_count.index.astype(str)\n",
    "# new_df_count.columns = new_df_count.columns.astype(str)\n",
    "\n",
    "new_df_count.update(result_df)\n",
    "\n",
    "print(new_df_count)\n",
    "\n",
    "if ver_index == 'original':\n",
    "    new_df_count.to_csv(f'/Users/takahiromatsunaga/res2023/bledata/ble_timegroup/{day_stamp}_{time_stamp}/joinprob_{day_stamp}_{time_stamp}30_20sec_off.csv')\n",
    "elif ver_index == 'ver0815':\n",
    "    new_df_count.to_csv(f'/Users/takahiromatsunaga/res2023/bledata/ble_timegroup/{day_stamp}_{time_stamp}/joinprob_{ver_index}_{day_stamp}_{time_stamp}30_20sec_off.csv')\n"
   ]
  },
  {
   "cell_type": "code",
   "execution_count": 126,
   "metadata": {},
   "outputs": [],
   "source": [
    "# 仕上げ\n"
   ]
  },
  {
   "cell_type": "code",
   "execution_count": 127,
   "metadata": {},
   "outputs": [],
   "source": [
    "# # 各改札ノードから目的地ノードへの遷移確率をかけて\n",
    "# sum_list = [summ[id] for id in gate_nodeixs]\n",
    "# sum_list \n"
   ]
  },
  {
   "cell_type": "code",
   "execution_count": null,
   "metadata": {},
   "outputs": [],
   "source": []
  },
  {
   "cell_type": "code",
   "execution_count": null,
   "metadata": {},
   "outputs": [],
   "source": []
  },
  {
   "cell_type": "code",
   "execution_count": null,
   "metadata": {},
   "outputs": [],
   "source": []
  },
  {
   "cell_type": "code",
   "execution_count": null,
   "metadata": {},
   "outputs": [],
   "source": []
  }
 ],
 "metadata": {
  "kernelspec": {
   "display_name": "base",
   "language": "python",
   "name": "python3"
  },
  "language_info": {
   "codemirror_mode": {
    "name": "ipython",
    "version": 3
   },
   "file_extension": ".py",
   "mimetype": "text/x-python",
   "name": "python",
   "nbconvert_exporter": "python",
   "pygments_lexer": "ipython3",
   "version": "3.9.7"
  }
 },
 "nbformat": 4,
 "nbformat_minor": 2
}
