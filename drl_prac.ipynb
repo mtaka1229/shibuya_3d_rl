{
 "cells": [
  {
   "cell_type": "code",
   "execution_count": 5,
   "metadata": {},
   "outputs": [],
   "source": [
    "import numpy as np\n",
    "import pandas as pd\n",
    "from scipy.stats import norm\n",
    "from scipy.optimize import minimize"
   ]
  },
  {
   "cell_type": "code",
   "execution_count": 6,
   "metadata": {},
   "outputs": [],
   "source": [
    "N = 100 #個人の数\n",
    "I = 4 #選択候補の数\n",
    "T = 4 "
   ]
  },
  {
   "cell_type": "code",
   "execution_count": 7,
   "metadata": {},
   "outputs": [],
   "source": [
    "dist = np.array(list(list(map(lambda j:abs(i-j),range(I))) for i in range(I)))\n",
    "stay = np.eye(I) # 滞在リンク\n",
    "    \n",
    "stayhome = np.zeros((I,I)) \n",
    "stayhome[0,0]=1\n",
    "\n",
    "home = np.zeros((I,I))\n",
    "home[:,0] = 1"
   ]
  },
  {
   "cell_type": "markdown",
   "metadata": {},
   "source": [
    "時間構造化"
   ]
  },
  {
   "cell_type": "code",
   "execution_count": null,
   "metadata": {},
   "outputs": [],
   "source": []
  },
  {
   "cell_type": "code",
   "execution_count": 10,
   "metadata": {},
   "outputs": [
    {
     "name": "stdout",
     "output_type": "stream",
     "text": [
      "[[ 2.71828183  2.71828183  7.3890561  20.08553692]\n",
      " [ 7.3890561   1.          2.71828183  7.3890561 ]\n",
      " [20.08553692  2.71828183  1.          2.71828183]\n",
      " [54.59815003  7.3890561   2.71828183  1.        ]]\n"
     ]
    },
    {
     "ename": "NameError",
     "evalue": "name 'route' is not defined",
     "output_type": "error",
     "traceback": [
      "\u001b[0;31m---------------------------------------------------------------------------\u001b[0m",
      "\u001b[0;31mNameError\u001b[0m                                 Traceback (most recent call last)",
      "\u001b[0;32m/var/folders/1p/_62pxgbn5kg837b06pfnvkdw0000gn/T/ipykernel_20401/1801513919.py\u001b[0m in \u001b[0;36m<module>\u001b[0;34m\u001b[0m\n\u001b[1;32m     25\u001b[0m \u001b[0;34m\u001b[0m\u001b[0m\n\u001b[1;32m     26\u001b[0m \u001b[0mb\u001b[0m \u001b[0;34m=\u001b[0m \u001b[0mnp\u001b[0m\u001b[0;34m.\u001b[0m\u001b[0marray\u001b[0m\u001b[0;34m(\u001b[0m\u001b[0;34m(\u001b[0m\u001b[0;36m1\u001b[0m\u001b[0;34m,\u001b[0m \u001b[0;36m1\u001b[0m\u001b[0;34m,\u001b[0m \u001b[0;36m1\u001b[0m\u001b[0;34m)\u001b[0m\u001b[0;34m)\u001b[0m\u001b[0;34m\u001b[0m\u001b[0;34m\u001b[0m\u001b[0m\n\u001b[0;32m---> 27\u001b[0;31m \u001b[0mprint\u001b[0m\u001b[0;34m(\u001b[0m\u001b[0mloglikelihood_drl\u001b[0m\u001b[0;34m(\u001b[0m\u001b[0mb\u001b[0m\u001b[0;34m)\u001b[0m\u001b[0;34m)\u001b[0m\u001b[0;34m\u001b[0m\u001b[0;34m\u001b[0m\u001b[0m\n\u001b[0m",
      "\u001b[0;32m/var/folders/1p/_62pxgbn5kg837b06pfnvkdw0000gn/T/ipykernel_20401/1801513919.py\u001b[0m in \u001b[0;36mloglikelihood_drl\u001b[0;34m(b)\u001b[0m\n\u001b[1;32m     14\u001b[0m             \u001b[0mvz\u001b[0m\u001b[0;34m[\u001b[0m\u001b[0mt\u001b[0m\u001b[0;34m-\u001b[0m\u001b[0;36m1\u001b[0m\u001b[0;34m,\u001b[0m\u001b[0;34m:\u001b[0m\u001b[0;34m]\u001b[0m \u001b[0;34m=\u001b[0m \u001b[0;34m(\u001b[0m\u001b[0mzi\u001b[0m\u001b[0;34m==\u001b[0m\u001b[0;36m0\u001b[0m\u001b[0;34m)\u001b[0m\u001b[0;34m*\u001b[0m\u001b[0;36m1\u001b[0m \u001b[0;34m+\u001b[0m \u001b[0;34m(\u001b[0m\u001b[0mzi\u001b[0m\u001b[0;34m!=\u001b[0m\u001b[0;36m0\u001b[0m\u001b[0;34m)\u001b[0m\u001b[0;34m*\u001b[0m\u001b[0mzi\u001b[0m\u001b[0;34m\u001b[0m\u001b[0;34m\u001b[0m\u001b[0m\n\u001b[1;32m     15\u001b[0m \u001b[0;34m\u001b[0m\u001b[0m\n\u001b[0;32m---> 16\u001b[0;31m         \u001b[0mknode\u001b[0m \u001b[0;34m=\u001b[0m \u001b[0mlist\u001b[0m\u001b[0;34m(\u001b[0m\u001b[0mroute\u001b[0m\u001b[0;34m.\u001b[0m\u001b[0mloc\u001b[0m\u001b[0;34m[\u001b[0m\u001b[0mn\u001b[0m\u001b[0;34m*\u001b[0m\u001b[0mT\u001b[0m\u001b[0;34m:\u001b[0m\u001b[0;34m(\u001b[0m\u001b[0mn\u001b[0m\u001b[0;34m+\u001b[0m\u001b[0;36m1\u001b[0m\u001b[0;34m)\u001b[0m\u001b[0;34m*\u001b[0m\u001b[0mT\u001b[0m\u001b[0;34m,\u001b[0m\u001b[0;34m'k'\u001b[0m\u001b[0;34m]\u001b[0m\u001b[0;34m)\u001b[0m \u001b[0;31m# routeは経路情報ということ\u001b[0m\u001b[0;34m\u001b[0m\u001b[0;34m\u001b[0m\u001b[0m\n\u001b[0m\u001b[1;32m     17\u001b[0m         \u001b[0manode\u001b[0m \u001b[0;34m=\u001b[0m \u001b[0mlist\u001b[0m\u001b[0;34m(\u001b[0m\u001b[0mroute\u001b[0m\u001b[0;34m.\u001b[0m\u001b[0mloc\u001b[0m\u001b[0;34m[\u001b[0m\u001b[0mn\u001b[0m\u001b[0;34m*\u001b[0m\u001b[0mT\u001b[0m\u001b[0;34m:\u001b[0m\u001b[0;34m(\u001b[0m\u001b[0mn\u001b[0m\u001b[0;34m+\u001b[0m\u001b[0;36m1\u001b[0m\u001b[0;34m)\u001b[0m\u001b[0;34m*\u001b[0m\u001b[0mT\u001b[0m\u001b[0;34m,\u001b[0m\u001b[0;34m'a'\u001b[0m\u001b[0;34m]\u001b[0m\u001b[0;34m)\u001b[0m\u001b[0;34m\u001b[0m\u001b[0;34m\u001b[0m\u001b[0m\n\u001b[1;32m     18\u001b[0m \u001b[0;34m\u001b[0m\u001b[0m\n",
      "\u001b[0;31mNameError\u001b[0m: name 'route' is not defined"
     ]
    }
   ],
   "source": [
    "def loglikelihood_drl(b):\n",
    "    beta = b[2]\n",
    "    #beta = 0\n",
    "    LL = 0\n",
    "    instant = np.exp(b[0]*dist + b[1]*home) #即時効用マトリックス\n",
    "    print(instant)\n",
    "    for n in range(N): # 個人ごと，timestepごと\n",
    "        #V=log(vz)\n",
    "        vz = np.ones((T+1,I))\n",
    "        \n",
    "        for t in range(T,0,-1): # 逆向き\n",
    "            the = instant * (vz[t,:]**beta) #exp(v) * exp(bV)\n",
    "            zi = the.sum(axis=1)\n",
    "            vz[t-1,:] = (zi==0)*1 + (zi!=0)*zi\n",
    "        \n",
    "        knode = list(route.loc[n*T:(n+1)*T,'k']) # routeは経路情報ということ．個人nに対応するn*T~n+1*Tまでを取り出している\n",
    "        anode = list(route.loc[n*T:(n+1)*T,'a'])\n",
    "        \n",
    "        for t in range(T):\n",
    "            k = int(knode[t])\n",
    "            a = int(anode[t])\n",
    "            \n",
    "            LL += np.log(instant[k,a]) + beta*np.log(vz[t+1,a]) - np.log(vz[t,k])\n",
    "    return -LL\n",
    "\n",
    "b = np.array((1, 1, 1))\n",
    "print(loglikelihood_drl(b))"
   ]
  },
  {
   "cell_type": "code",
   "execution_count": null,
   "metadata": {},
   "outputs": [],
   "source": [
    "def loglikelihood_grl(b):\n",
    "    beta = b[2]\n",
    "    #beta = 0\n",
    "    LL = 0\n",
    "    instant = np.exp(b[0]*dist + b[1]*home) #即時効用マトリックス\n",
    "    \n",
    "    for n in range(N):\n",
    "        #V=log(vz)\n",
    "        vz = np.ones((T+1,I))\n",
    "        \n",
    "        for t in range(T,0,-1): # 逆向き\n",
    "            the = instant * (vz[t,:]**beta) #exp(v) * exp(bV)\n",
    "            zi = the.sum(axis=1)\n",
    "            vz[t-1,:] = (zi==0)*1 + (zi!=0)*zi\n",
    "        \n",
    "        knode = list(route.loc[n*T:(n+1)*T,'k'])\n",
    "        anode = list(route.loc[n*T:(n+1)*T,'a'])\n",
    "        \n",
    "        for t in range(T):\n",
    "            k = int(knode[t])\n",
    "            a = int(anode[t])\n",
    "            \n",
    "            LL += np.log(instant[k,a]) + beta*np.log(vz[t+1,a]) - np.log(vz[t,k])\n",
    "    return -LL"
   ]
  }
 ],
 "metadata": {
  "kernelspec": {
   "display_name": "Python 3",
   "language": "python",
   "name": "python3"
  },
  "language_info": {
   "codemirror_mode": {
    "name": "ipython",
    "version": 3
   },
   "file_extension": ".py",
   "mimetype": "text/x-python",
   "name": "python",
   "nbconvert_exporter": "python",
   "pygments_lexer": "ipython3",
   "version": "3.9.7"
  }
 },
 "nbformat": 4,
 "nbformat_minor": 2
}
